{
 "cells": [
  {
   "cell_type": "code",
   "execution_count": 1,
   "metadata": {},
   "outputs": [],
   "source": [
    "from joblib import dump\n",
    "from sklearn.datasets import load_iris\n",
    "from sklearn.linear_model import LogisticRegression\n",
    "from sklearn.model_selection import train_test_split\n",
    "\n",
    "import mlflow\n",
    "from mlflow.models import infer_signature\n",
    "from mlflow.pyfunc import PythonModel"
   ]
  },
  {
   "cell_type": "code",
   "execution_count": 3,
   "metadata": {},
   "outputs": [],
   "source": [
    "def get_or_create_experiment(experiment_name):\n",
    "    if experiment := mlflow.get_experiment_by_name(experiment_name):\n",
    "        return experiment.experiment_id\n",
    "    else:\n",
    "        return mlflow.create_experiment(experiment_name)"
   ]
  },
  {
   "cell_type": "code",
   "execution_count": 4,
   "metadata": {},
   "outputs": [
    {
     "data": {
      "text/plain": [
       "<Experiment: artifact_location='mlflow-artifacts:/320722760442736137', creation_time=1729732474296, experiment_id='320722760442736137', last_update_time=1729732474296, lifecycle_stage='active', name='Custom Predict Test', tags={}>"
      ]
     },
     "execution_count": 4,
     "metadata": {},
     "output_type": "execute_result"
    }
   ],
   "source": [
    "mlflow.set_tracking_uri(\"http://127.0.0.1:5000\")\n",
    "experiment_id = get_or_create_experiment(\"Custom Predict Test\")\n",
    "mlflow.set_experiment(experiment_id=experiment_id)"
   ]
  },
  {
   "cell_type": "markdown",
   "metadata": {},
   "source": [
    "### LOAD DATA"
   ]
  },
  {
   "cell_type": "code",
   "execution_count": 9,
   "metadata": {},
   "outputs": [],
   "source": [
    "iris = load_iris()\n",
    "x = iris.data[:, 2:]\n",
    "y = iris.target\n",
    "\n",
    "x_train, x_test, y_train, y_test = train_test_split(x, y, test_size=0.2, random_state=9001)\n",
    "\n",
    "model = LogisticRegression(random_state=0, max_iter=5_000, solver=\"newton-cg\").fit(x_train, y_train)"
   ]
  },
  {
   "cell_type": "code",
   "execution_count": 10,
   "metadata": {},
   "outputs": [
    {
     "data": {
      "text/plain": [
       "array([1, 2, 2, 1, 0])"
      ]
     },
     "execution_count": 10,
     "metadata": {},
     "output_type": "execute_result"
    }
   ],
   "source": [
    "model.predict(x_test)[:5]"
   ]
  },
  {
   "cell_type": "code",
   "execution_count": 11,
   "metadata": {},
   "outputs": [
    {
     "data": {
      "text/plain": [
       "array([[2.63986038e-03, 6.62183383e-01, 3.35176756e-01],\n",
       "       [1.24644993e-04, 8.36504104e-02, 9.16224945e-01],\n",
       "       [1.30873544e-04, 1.37649920e-01, 8.62219207e-01],\n",
       "       [3.70883962e-03, 7.13033599e-01, 2.83257562e-01],\n",
       "       [9.82596897e-01, 1.74030230e-02, 7.99199819e-08]])"
      ]
     },
     "execution_count": 11,
     "metadata": {},
     "output_type": "execute_result"
    }
   ],
   "source": [
    "model.predict_proba(x_test)[:5]"
   ]
  },
  {
   "cell_type": "code",
   "execution_count": 12,
   "metadata": {},
   "outputs": [
    {
     "data": {
      "text/plain": [
       "array([[ -5.93702925,  -0.41221275,  -1.09309726],\n",
       "       [ -8.99004092,  -2.48110895,  -0.08749337],\n",
       "       [ -8.94127902,  -1.98304163,  -0.14824574],\n",
       "       [ -5.59703622,  -0.33822674,  -1.26139868],\n",
       "       [ -0.01755632,  -4.05111135, -16.34223993]])"
      ]
     },
     "execution_count": 12,
     "metadata": {},
     "output_type": "execute_result"
    }
   ],
   "source": [
    "model.predict_log_proba(x_test)[:5]"
   ]
  },
  {
   "cell_type": "markdown",
   "metadata": {},
   "source": [
    "### Mlflow Setup"
   ]
  },
  {
   "cell_type": "code",
   "execution_count": 13,
   "metadata": {},
   "outputs": [
    {
     "name": "stderr",
     "output_type": "stream",
     "text": [
      "2024/10/24 09:19:31 INFO mlflow.tracking._tracking_service.client: 🏃 View run colorful-skink-636 at: http://127.0.0.1:5000/#/experiments/320722760442736137/runs/dde24f7275f843a98ad7d7f850bbead9.\n",
      "2024/10/24 09:19:31 INFO mlflow.tracking._tracking_service.client: 🧪 View experiment at: http://127.0.0.1:5000/#/experiments/320722760442736137.\n"
     ]
    }
   ],
   "source": [
    "sklearn_path = \"/tmp/sklearn_model\"\n",
    "\n",
    "with mlflow.start_run() as run:\n",
    "    mlflow.sklearn.save_model(\n",
    "        sk_model=model,\n",
    "        path=sklearn_path,\n",
    "        input_example=x_train[:2],\n",
    "    )"
   ]
  },
  {
   "cell_type": "code",
   "execution_count": 14,
   "metadata": {},
   "outputs": [],
   "source": [
    "loaded_logreg_model = mlflow.pyfunc.load_model(sklearn_path)"
   ]
  },
  {
   "cell_type": "code",
   "execution_count": 15,
   "metadata": {},
   "outputs": [
    {
     "data": {
      "text/plain": [
       "array([1, 2, 2, 1, 0, 1, 2, 0, 1, 0, 0, 1, 1, 1, 0, 0, 1, 0, 1, 1, 2, 1,\n",
       "       1, 0, 1, 1, 0, 0, 1, 2])"
      ]
     },
     "execution_count": 15,
     "metadata": {},
     "output_type": "execute_result"
    }
   ],
   "source": [
    "loaded_logreg_model.predict(x_test)"
   ]
  },
  {
   "cell_type": "markdown",
   "metadata": {},
   "source": [
    "### Customizing Behavior of the model"
   ]
  },
  {
   "cell_type": "code",
   "execution_count": 17,
   "metadata": {},
   "outputs": [
    {
     "data": {
      "text/plain": [
       "['/tmp/sklearn_model.joblib']"
      ]
     },
     "execution_count": 17,
     "metadata": {},
     "output_type": "execute_result"
    }
   ],
   "source": [
    "# Use joblib for serialization\n",
    "model_directory = \"/tmp/sklearn_model.joblib\"\n",
    "dump(model, model_directory)"
   ]
  },
  {
   "cell_type": "code",
   "execution_count": 18,
   "metadata": {},
   "outputs": [],
   "source": [
    "# Define Custom Python Model\n",
    "class ModelWrapper(PythonModel):\n",
    "    def __init__(self):\n",
    "        self.model = None\n",
    "\n",
    "    def load_context(self, context):\n",
    "        from joblib import load\n",
    "\n",
    "        self.model = load(context.artifacts[\"model_path\"])\n",
    "\n",
    "    def predict(self, context, model_input, params=None):\n",
    "        params = params or {\"predict_method\": \"predict\"}\n",
    "        predict_method = params.get(\"predict_method\")\n",
    "\n",
    "        if predict_method == \"predict\":\n",
    "            return self.model.predict(model_input)\n",
    "        elif predict_method == \"predict_proba\":\n",
    "            return self.model.predict_proba(model_input)\n",
    "        elif predict_method == \"predict_log_proba\":\n",
    "            return self.model.predict_log_proba(model_input)\n",
    "        else:\n",
    "            raise ValueError(f\"The prediction method '{predict_method}' is not supported.\")"
   ]
  },
  {
   "cell_type": "code",
   "execution_count": 19,
   "metadata": {},
   "outputs": [],
   "source": [
    "# Define the required artifacts associated with the saved custom pyfunc\n",
    "artifacts = {\"model_path\": model_directory}\n",
    "\n",
    "# Define the signature associated with the model\n",
    "signature = infer_signature(x_train, params={\"predict_method\": \"predict_proba\"})\n"
   ]
  },
  {
   "cell_type": "code",
   "execution_count": 20,
   "metadata": {},
   "outputs": [
    {
     "data": {
      "text/plain": [
       "inputs: \n",
       "  [Tensor('float64', (-1, 2))]\n",
       "outputs: \n",
       "  None\n",
       "params: \n",
       "  ['predict_method': string (default: predict_proba)]"
      ]
     },
     "execution_count": 20,
     "metadata": {},
     "output_type": "execute_result"
    }
   ],
   "source": [
    "signature"
   ]
  },
  {
   "cell_type": "code",
   "execution_count": 21,
   "metadata": {},
   "outputs": [
    {
     "data": {
      "application/vnd.jupyter.widget-view+json": {
       "model_id": "7660994df001421593830b12550c5e36",
       "version_major": 2,
       "version_minor": 0
      },
      "text/plain": [
       "Downloading artifacts:   0%|          | 0/1 [00:00<?, ?it/s]"
      ]
     },
     "metadata": {},
     "output_type": "display_data"
    },
    {
     "name": "stderr",
     "output_type": "stream",
     "text": [
      "2024/10/24 09:31:06 INFO mlflow.tracking._tracking_service.client: 🏃 View run capable-mole-842 at: http://127.0.0.1:5000/#/experiments/320722760442736137/runs/f141378be7754b4f8ba305b330d11203.\n",
      "2024/10/24 09:31:06 INFO mlflow.tracking._tracking_service.client: 🧪 View experiment at: http://127.0.0.1:5000/#/experiments/320722760442736137.\n"
     ]
    }
   ],
   "source": [
    "pyfunc_path = \"/tmp/dynamic_regressor\"\n",
    "\n",
    "with mlflow.start_run() as run:\n",
    "    mlflow.pyfunc.save_model(\n",
    "        path=pyfunc_path,\n",
    "        python_model=ModelWrapper(),\n",
    "        input_example=x_train,\n",
    "        signature=signature,\n",
    "        artifacts=artifacts,\n",
    "        pip_requirements=[\"joblib\", \"sklearn\"],\n",
    "    )\n"
   ]
  },
  {
   "cell_type": "code",
   "execution_count": 22,
   "metadata": {},
   "outputs": [],
   "source": [
    "loaded_dynamic = mlflow.pyfunc.load_model(pyfunc_path)"
   ]
  },
  {
   "cell_type": "code",
   "execution_count": 23,
   "metadata": {},
   "outputs": [
    {
     "data": {
      "text/plain": [
       "array([[2.63986038e-03, 6.62183383e-01, 3.35176756e-01],\n",
       "       [1.24644993e-04, 8.36504104e-02, 9.16224945e-01],\n",
       "       [1.30873544e-04, 1.37649920e-01, 8.62219207e-01],\n",
       "       [3.70883962e-03, 7.13033599e-01, 2.83257562e-01],\n",
       "       [9.82596897e-01, 1.74030230e-02, 7.99199819e-08],\n",
       "       [6.53971812e-03, 7.53980623e-01, 2.39479659e-01],\n",
       "       [2.30147058e-06, 1.29718438e-02, 9.87025855e-01],\n",
       "       [9.71313215e-01, 2.86866206e-02, 1.64768103e-07],\n",
       "       [3.36795311e-01, 6.61251371e-01, 1.95331849e-03],\n",
       "       [9.81875377e-01, 1.81244830e-02, 1.40238274e-07],\n",
       "       [9.70731372e-01, 2.92684102e-02, 2.18211689e-07],\n",
       "       [6.53971812e-03, 7.53980623e-01, 2.39479659e-01],\n",
       "       [1.06934443e-02, 8.88082803e-01, 1.01223753e-01],\n",
       "       [3.35035729e-03, 6.57571588e-01, 3.39078055e-01],\n",
       "       [9.82239738e-01, 1.77601562e-02, 1.05867483e-07],\n",
       "       [9.82596897e-01, 1.74030230e-02, 7.99199819e-08],\n",
       "       [1.62646625e-03, 5.43435159e-01, 4.54938375e-01],\n",
       "       [9.82596897e-01, 1.74030230e-02, 7.99199819e-08],\n",
       "       [5.55551476e-03, 8.01845859e-01, 1.92598626e-01],\n",
       "       [1.01700226e-02, 8.62259012e-01, 1.27570965e-01],\n",
       "       [1.44436290e-08, 1.16392879e-03, 9.98836057e-01],\n",
       "       [4.33333290e-02, 9.32290001e-01, 2.43766703e-02],\n",
       "       [3.96821587e-02, 9.08372940e-01, 5.19449008e-02],\n",
       "       [9.19642034e-01, 8.03563870e-02, 1.57904924e-06],\n",
       "       [4.21775024e-02, 9.26381357e-01, 3.14411404e-02],\n",
       "       [3.13497518e-02, 9.17166979e-01, 5.14832691e-02],\n",
       "       [9.77413163e-01, 2.25867045e-02, 1.32162319e-07],\n",
       "       [9.71313215e-01, 2.86866206e-02, 1.64768103e-07],\n",
       "       [3.23661145e-02, 9.27523441e-01, 4.01104445e-02],\n",
       "       [1.22488883e-06, 1.80424122e-02, 9.81956363e-01]])"
      ]
     },
     "execution_count": 23,
     "metadata": {},
     "output_type": "execute_result"
    }
   ],
   "source": [
    "loaded_dynamic.predict(x_test)"
   ]
  },
  {
   "cell_type": "code",
   "execution_count": 24,
   "metadata": {},
   "outputs": [
    {
     "data": {
      "text/plain": [
       "array([1, 2, 2, 1, 0, 1, 2, 0, 1, 0, 0, 1, 1, 1, 0, 0, 1, 0, 1, 1, 2, 1,\n",
       "       1, 0, 1, 1, 0, 0, 1, 2])"
      ]
     },
     "execution_count": 24,
     "metadata": {},
     "output_type": "execute_result"
    }
   ],
   "source": [
    "loaded_dynamic.predict(x_test, params={\"predict_method\": \"predict\"})"
   ]
  },
  {
   "cell_type": "code",
   "execution_count": 25,
   "metadata": {},
   "outputs": [
    {
     "data": {
      "text/plain": [
       "array([[-5.93702925e+00, -4.12212748e-01, -1.09309726e+00],\n",
       "       [-8.99004092e+00, -2.48110895e+00, -8.74933717e-02],\n",
       "       [-8.94127902e+00, -1.98304163e+00, -1.48245740e-01],\n",
       "       [-5.59703622e+00, -3.38226736e-01, -1.26139868e+00],\n",
       "       [-1.75563172e-02, -4.05111135e+00, -1.63422399e+01],\n",
       "       [-5.02986122e+00, -2.82388610e-01, -1.42928680e+00],\n",
       "       [-1.29819623e+01, -4.34497414e+00, -1.30590446e-02],\n",
       "       [-2.91062935e-02, -3.55132445e+00, -1.56187268e+01],\n",
       "       [-1.08827992e+00, -4.13621222e-01, -6.23822556e+00],\n",
       "       [-1.82908862e-02, -4.01049160e+00, -1.57799229e+01],\n",
       "       [-2.97055002e-02, -3.53124650e+00, -1.53378002e+01],\n",
       "       [-5.02986122e+00, -2.82388610e-01, -1.42928680e+00],\n",
       "       [-4.53812441e+00, -1.18690294e-01, -2.29042184e+00],\n",
       "       [-5.69868828e+00, -4.19201642e-01, -1.08152495e+00],\n",
       "       [-1.79198682e-02, -4.03079774e+00, -1.60610777e+01],\n",
       "       [-1.75563172e-02, -4.05111135e+00, -1.63422399e+01],\n",
       "       [-6.42134556e+00, -6.09844882e-01, -7.87593310e-01],\n",
       "       [-1.75563172e-02, -4.05111135e+00, -1.63422399e+01],\n",
       "       [-5.19296419e+00, -2.20838885e-01, -1.64714691e+00],\n",
       "       [-4.58831085e+00, -1.48199575e-01, -2.05908248e+00],\n",
       "       [-1.80530124e+01, -6.75595411e+00, -1.16462114e-03],\n",
       "       [-3.13883322e+00, -7.01113531e-02, -3.71412874e+00],\n",
       "       [-3.22685359e+00, -9.61002574e-02, -2.95757172e+00],\n",
       "       [-8.37707782e-02, -2.52128370e+00, -1.33586876e+01],\n",
       "       [-3.16586832e+00, -7.64692963e-02, -3.45963804e+00],\n",
       "       [-3.46254893e+00, -8.64657305e-02, -2.96649840e+00],\n",
       "       [-2.28458266e-02, -3.79039384e+00, -1.58392350e+01],\n",
       "       [-2.91062935e-02, -3.55132445e+00, -1.56187268e+01],\n",
       "       [-3.43064325e+00, -7.52372115e-02, -3.21611852e+00],\n",
       "       [-1.36126605e+01, -4.01503006e+00, -1.82084086e-02]])"
      ]
     },
     "execution_count": 25,
     "metadata": {},
     "output_type": "execute_result"
    }
   ],
   "source": [
    "loaded_dynamic.predict(x_test, params={\"predict_method\": \"predict_log_proba\"})"
   ]
  },
  {
   "cell_type": "code",
   "execution_count": null,
   "metadata": {},
   "outputs": [],
   "source": []
  }
 ],
 "metadata": {
  "kernelspec": {
   "display_name": "mle_proj",
   "language": "python",
   "name": "python3"
  },
  "language_info": {
   "codemirror_mode": {
    "name": "ipython",
    "version": 3
   },
   "file_extension": ".py",
   "mimetype": "text/x-python",
   "name": "python",
   "nbconvert_exporter": "python",
   "pygments_lexer": "ipython3",
   "version": "3.12.6"
  }
 },
 "nbformat": 4,
 "nbformat_minor": 2
}
