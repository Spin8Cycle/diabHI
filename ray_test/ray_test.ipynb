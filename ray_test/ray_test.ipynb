{
 "cells": [
  {
   "cell_type": "markdown",
   "metadata": {},
   "source": [
    "# Data"
   ]
  },
  {
   "cell_type": "code",
   "execution_count": 1,
   "metadata": {},
   "outputs": [],
   "source": [
    "import pandas as pd\n",
    "from sklearn.model_selection import train_test_split\n",
    "\n",
    "from imblearn.over_sampling import SMOTE\n",
    "from imblearn.under_sampling import RandomUnderSampler\n",
    "\n",
    "from sklearn.compose import ColumnTransformer\n",
    "from sklearn.preprocessing import OneHotEncoder, StandardScaler\n",
    "\n",
    "\n",
    "df = pd.read_csv(r'D:\\Notes\\git local repo\\Diabetes Health Indicator\\data\\diabetesHI\\diabetes_012_health_indicators_BRFSS2015.csv')\n",
    "\n",
    "def sampler_pipeline(df:pd.DataFrame, sampler:str) -> pd.DataFrame:\n",
    "    X = df.drop('Diabetes_012', axis=1)\n",
    "    y = df[['Diabetes_012']]\n",
    "    \n",
    "    sampling_list = ['No resampling (Original Data)', 'imblearn: RandomUnderSampler', 'imblearn: SMOTE']\n",
    "    if sampler == sampling_list[0]:\n",
    "        #return df\n",
    "        return X, y\n",
    "    elif sampler == sampling_list[1]:\n",
    "        ran_down = RandomUnderSampler(random_state=42)\n",
    "        X_dws, y_dws = ran_down.fit_resample(X,y)\n",
    "        #return pd.merge(left=X_dws, right=y_dws, left_index=True, right_index=True)\n",
    "        return X_dws, y_dws\n",
    "    elif sampler == sampling_list[2]:\n",
    "        smote_ups = SMOTE(random_state=42)\n",
    "        X_ups, y_ups = smote_ups.fit_resample(X, y)\n",
    "        #return pd.merge(left=X_ups, right=y_ups, left_index=True, right_index=True)\n",
    "        return X_ups, y_ups\n",
    "    else:\n",
    "        raise IndexError(\"Sampler is not on the pre-defined Sampling List: ['No resampling (Original Data)', 'imblearn: RandomUnderSampler', 'imblearn: SMOTE']\")\n",
    "    \n",
    "\n",
    "X, y = sampler_pipeline(df = df, sampler='imblearn: RandomUnderSampler')\n",
    "\n",
    "X_train, X_test, y_train, y_test = train_test_split(X, y, test_size=0.2, random_state=42, stratify=y)\n"
   ]
  },
  {
   "cell_type": "markdown",
   "metadata": {},
   "source": [
    "# Load Model From MLflow UI"
   ]
  },
  {
   "cell_type": "code",
   "execution_count": 2,
   "metadata": {},
   "outputs": [],
   "source": [
    "import mlflow.sklearn\n",
    "\n",
    "uri = \"http://localhost:5000\"\n",
    "mlflow.set_tracking_uri(uri)"
   ]
  },
  {
   "cell_type": "code",
   "execution_count": 3,
   "metadata": {},
   "outputs": [
    {
     "data": {
      "application/vnd.jupyter.widget-view+json": {
       "model_id": "7a823ac945184d408fef6011620a11f6",
       "version_major": 2,
       "version_minor": 0
      },
      "text/plain": [
       "Downloading artifacts:   0%|          | 0/7 [00:00<?, ?it/s]"
      ]
     },
     "metadata": {},
     "output_type": "display_data"
    },
    {
     "name": "stderr",
     "output_type": "stream",
     "text": [
      "2024/11/21 11:52:46 WARNING mlflow.utils.requirements_utils: Detected one or more mismatches between the model's dependencies and the current Python environment:\n",
      " - cloudpickle (current: 2.2.1, required: cloudpickle==3.0.0)\n",
      "To fix the mismatches, call `mlflow.pyfunc.get_model_dependencies(model_uri)` to fetch the model's environment and install dependencies using the resulting environment file.\n"
     ]
    }
   ],
   "source": [
    "model_uri = 'runs:/1e3489dcb6224eba98e3cee11f078a0a/model_gbc_optuna_2'\n",
    "#gbc_optuna_model = mlflow.sklearn.load_model(model_uri=model_uri)\n",
    "\n",
    "#pyfunc_path = \"/tmp/gbc_dynamic\"\n",
    "gbc_dynamic = mlflow.pyfunc.load_model(model_uri)\n"
   ]
  },
  {
   "cell_type": "code",
   "execution_count": 4,
   "metadata": {},
   "outputs": [
    {
     "name": "stdout",
     "output_type": "stream",
     "text": [
      "Accuracy Score: 53.33%\n"
     ]
    }
   ],
   "source": [
    "from sklearn.metrics import accuracy_score\n",
    "\n",
    "y_pred = gbc_dynamic.predict(X_test)\n",
    "asc = accuracy_score(y_true=y_test.values.ravel(), y_pred=y_pred)\n",
    "print(f'Accuracy Score: {asc:.2%}')"
   ]
  },
  {
   "cell_type": "markdown",
   "metadata": {},
   "source": [
    "# Tune Another Model Using Ray"
   ]
  },
  {
   "cell_type": "code",
   "execution_count": 5,
   "metadata": {},
   "outputs": [],
   "source": [
    "from ray import train, tune\n",
    "from ray.tune.search.optuna import OptunaSearch\n",
    "from ray.tune.schedulers import ASHAScheduler\n",
    "\n",
    "from sklearn.ensemble import GradientBoostingClassifier\n",
    "from sklearn.model_selection import cross_val_predict, StratifiedKFold\n",
    "from sklearn.metrics import log_loss, accuracy_score, f1_score, recall_score, precision_score\n",
    "from ray.air.integrations.mlflow import MLflowLoggerCallback, setup_mlflow"
   ]
  },
  {
   "cell_type": "code",
   "execution_count": 6,
   "metadata": {},
   "outputs": [],
   "source": [
    "def train_gbc(config: dict, X_train: pd.DataFrame, y_train: pd.DataFrame):\n",
    "    X_train, y_train = X_train, y_train\n",
    "\n",
    "    gbc_clf = GradientBoostingClassifier(\n",
    "        learning_rate=config['learning_rate'],\n",
    "        max_depth=config['max_depth'],\n",
    "        max_features=config['max_features'],\n",
    "        min_samples_leaf=config['min_samples_leaf'],\n",
    "        min_samples_split=config['min_samples_split'],\n",
    "        n_estimators=config['n_estimators'],\n",
    "        subsample=config['subsample']\n",
    "    )\n",
    "\n",
    "    skf = StratifiedKFold(n_splits=5, shuffle=True)\n",
    "    y_pred_proba = cross_val_predict(estimator=gbc_clf, \n",
    "                                   X= X_train, \n",
    "                                   y = y_train.values.ravel(), \n",
    "                                   cv=skf, \n",
    "                                   method='predict_proba')\n",
    "    \n",
    "    log_loss_score = log_loss(y_true=y_train, y_pred=y_pred_proba)\n",
    "    y_pred_class = y_pred_proba.argmax(axis=1)\n",
    "\n",
    "    metrics = {\n",
    "            'log_loss' : log_loss_score,\n",
    "            'accuracy': accuracy_score(y_train, y_pred_class),\n",
    "            'f1_score': f1_score(y_train, y_pred_class, average='macro'),\n",
    "            'recall_score': recall_score(y_train, y_pred_class, average='macro'),\n",
    "            'precision': precision_score(y_train, y_pred_class, average='macro')\n",
    "        }\n",
    "\n",
    "    train.report(\n",
    "        metrics=metrics\n",
    "    )"
   ]
  },
  {
   "cell_type": "code",
   "execution_count": 16,
   "metadata": {},
   "outputs": [],
   "source": [
    "search_space = {\n",
    "            'learning_rate': tune.uniform(0.001, 0.1),\n",
    "            'max_depth': tune.randint(1, 15),\n",
    "            'max_features': tune.uniform(0, 1),\n",
    "            'min_samples_leaf': tune.randint(10, 15),\n",
    "            'min_samples_split': tune.randint(15, 18),\n",
    "            'n_estimators':  tune.randint(300, 500),\n",
    "            'subsample':  tune.uniform(0.1, 0.9)\n",
    "        }\n",
    "\n",
    "search_algo = OptunaSearch()\n",
    "\n",
    "scheduler = ASHAScheduler(\n",
    "    max_t=100,\n",
    "    grace_period=10,\n",
    "    reduction_factor=2\n",
    ")"
   ]
  },
  {
   "cell_type": "code",
   "execution_count": 17,
   "metadata": {},
   "outputs": [],
   "source": [
    "train_gbc_gpu = tune.with_resources(train_gbc, {'cpu':4, 'gpu':1})\n",
    "\n",
    "def tune_to_mlflow(mlflow_uri=uri):\n",
    "    mlflow_uri=mlflow_uri\n",
    "    tuner = tune.Tuner(\n",
    "        tune.with_parameters(trainable=train_gbc, X_train=X_train, y_train=y_train),\n",
    "        param_space=search_space,\n",
    "        tune_config=tune.TuneConfig(\n",
    "            num_samples=20, #10\n",
    "            metric='log_loss', \n",
    "            mode='min',\n",
    "            search_alg=search_algo,\n",
    "            scheduler=scheduler),\n",
    "        run_config=train.RunConfig(\n",
    "            name=\"gradient_boosting_tuning\",\n",
    "            callbacks=[\n",
    "                MLflowLoggerCallback(\n",
    "                    tracking_uri=mlflow_uri,\n",
    "                    experiment_name='DHI_Classifiers_Ray',\n",
    "                    save_artifact=True,\n",
    "                    #tags={\"mlflow.runName\":\"optuna_asha\"}\n",
    "                )\n",
    "            ]\n",
    "        )\n",
    "    )\n",
    "\n",
    "    results = tuner.fit()"
   ]
  },
  {
   "cell_type": "code",
   "execution_count": null,
   "metadata": {},
   "outputs": [
    {
     "data": {
      "text/html": [],
      "text/plain": [
       "<IPython.core.display.HTML object>"
      ]
     },
     "metadata": {},
     "output_type": "display_data"
    },
    {
     "name": "stderr",
     "output_type": "stream",
     "text": [
      "2024-11-21 12:05:40,180\tWARNING trial.py:647 -- The path to the trial log directory is too long (max length: 260. Consider using `trial_dirname_creator` to shorten the path. Path: D:\\TEMP\\Temp\\ray\\session_2024-11-21_11-53-30_936371_16412\\artifacts\\2024-11-21_12-05-38\\gradient_boosting_tuning\\driver_artifacts\\train_gbc_d3f56636_1_learning_rate=0.0868,max_depth=6,max_features=0.7263,min_samples_leaf=10,min_samples_split=16,n_estimators=36_2024-11-21_12-05-40\n",
      "2024-11-21 12:05:40,186\tWARNING trial.py:647 -- The path to the trial log directory is too long (max length: 260. Consider using `trial_dirname_creator` to shorten the path. Path: D:\\TEMP\\Temp\\ray\\session_2024-11-21_11-53-30_936371_16412\\artifacts\\2024-11-21_12-05-38\\gradient_boosting_tuning\\driver_artifacts\\train_gbc_d3f56636_1_learning_rate=0.0868,max_depth=6,max_features=0.7263,min_samples_leaf=10,min_samples_split=16,n_estimators=36_2024-11-21_12-05-40\n",
      "2024-11-21 12:05:46,902\tWARNING trial.py:647 -- The path to the trial log directory is too long (max length: 260. Consider using `trial_dirname_creator` to shorten the path. Path: D:\\TEMP\\Temp\\ray\\session_2024-11-21_11-53-30_936371_16412\\artifacts\\2024-11-21_12-05-38\\gradient_boosting_tuning\\driver_artifacts\\train_gbc_d3f56636_1_learning_rate=0.0868,max_depth=6,max_features=0.7263,min_samples_leaf=10,min_samples_split=16,n_estimators=36_2024-11-21_12-05-40\n",
      "2024-11-21 12:05:46,904\tWARNING trial.py:647 -- The path to the trial log directory is too long (max length: 260. Consider using `trial_dirname_creator` to shorten the path. Path: D:\\TEMP\\Temp\\ray\\session_2024-11-21_11-53-30_936371_16412\\artifacts\\2024-11-21_12-05-38\\gradient_boosting_tuning\\driver_artifacts\\train_gbc_d3f56636_1_learning_rate=0.0868,max_depth=6,max_features=0.7263,min_samples_leaf=10,min_samples_split=16,n_estimators=36_2024-11-21_12-05-40\n",
      "2024-11-21 12:05:46,915\tWARNING trial.py:647 -- The path to the trial log directory is too long (max length: 260. Consider using `trial_dirname_creator` to shorten the path. Path: D:\\TEMP\\Temp\\ray\\session_2024-11-21_11-53-30_936371_16412\\artifacts\\2024-11-21_12-05-38\\gradient_boosting_tuning\\driver_artifacts\\train_gbc_bb82701d_2_learning_rate=0.0184,max_depth=7,max_features=0.5618,min_samples_leaf=10,min_samples_split=16,n_estimators=47_2024-11-21_12-05-46\n",
      "2024-11-21 12:05:46,918\tWARNING trial.py:647 -- The path to the trial log directory is too long (max length: 260. Consider using `trial_dirname_creator` to shorten the path. Path: D:\\TEMP\\Temp\\ray\\session_2024-11-21_11-53-30_936371_16412\\artifacts\\2024-11-21_12-05-38\\gradient_boosting_tuning\\driver_artifacts\\train_gbc_bb82701d_2_learning_rate=0.0184,max_depth=7,max_features=0.5618,min_samples_leaf=10,min_samples_split=16,n_estimators=47_2024-11-21_12-05-46\n",
      "2024-11-21 12:06:54,446\tWARNING trial.py:647 -- The path to the trial log directory is too long (max length: 260. Consider using `trial_dirname_creator` to shorten the path. Path: D:\\TEMP\\Temp\\ray\\session_2024-11-21_11-53-30_936371_16412\\artifacts\\2024-11-21_12-05-38\\gradient_boosting_tuning\\driver_artifacts\\train_gbc_d3f56636_1_learning_rate=0.0868,max_depth=6,max_features=0.7263,min_samples_leaf=10,min_samples_split=16,n_estimators=36_2024-11-21_12-05-40\n",
      "2024/11/21 12:06:54 INFO mlflow.tracking._tracking_service.client: 🏃 View run train_gbc_d3f56636 at: http://localhost:5000/#/experiments/820879946420798051/runs/012eacb8235c446f80e119e176e8aa5a.\n",
      "2024/11/21 12:06:54 INFO mlflow.tracking._tracking_service.client: 🧪 View experiment at: http://localhost:5000/#/experiments/820879946420798051.\n",
      "2024-11-21 12:07:01,343\tWARNING trial.py:647 -- The path to the trial log directory is too long (max length: 260. Consider using `trial_dirname_creator` to shorten the path. Path: D:\\TEMP\\Temp\\ray\\session_2024-11-21_11-53-30_936371_16412\\artifacts\\2024-11-21_12-05-38\\gradient_boosting_tuning\\driver_artifacts\\train_gbc_bb82701d_2_learning_rate=0.0184,max_depth=7,max_features=0.5618,min_samples_leaf=10,min_samples_split=16,n_estimators=47_2024-11-21_12-05-46\n",
      "2024-11-21 12:07:01,344\tWARNING trial.py:647 -- The path to the trial log directory is too long (max length: 260. Consider using `trial_dirname_creator` to shorten the path. Path: D:\\TEMP\\Temp\\ray\\session_2024-11-21_11-53-30_936371_16412\\artifacts\\2024-11-21_12-05-38\\gradient_boosting_tuning\\driver_artifacts\\train_gbc_bb82701d_2_learning_rate=0.0184,max_depth=7,max_features=0.5618,min_samples_leaf=10,min_samples_split=16,n_estimators=47_2024-11-21_12-05-46\n",
      "2024-11-21 12:07:01,354\tWARNING trial.py:647 -- The path to the trial log directory is too long (max length: 260. Consider using `trial_dirname_creator` to shorten the path. Path: D:\\TEMP\\Temp\\ray\\session_2024-11-21_11-53-30_936371_16412\\artifacts\\2024-11-21_12-05-38\\gradient_boosting_tuning\\driver_artifacts\\train_gbc_dd2fd91d_3_learning_rate=0.0736,max_depth=1,max_features=0.1777,min_samples_leaf=11,min_samples_split=15,n_estimators=39_2024-11-21_12-07-01\n",
      "2024-11-21 12:07:01,358\tWARNING trial.py:647 -- The path to the trial log directory is too long (max length: 260. Consider using `trial_dirname_creator` to shorten the path. Path: D:\\TEMP\\Temp\\ray\\session_2024-11-21_11-53-30_936371_16412\\artifacts\\2024-11-21_12-05-38\\gradient_boosting_tuning\\driver_artifacts\\train_gbc_dd2fd91d_3_learning_rate=0.0736,max_depth=1,max_features=0.1777,min_samples_leaf=11,min_samples_split=15,n_estimators=39_2024-11-21_12-07-01\n",
      "2024-11-21 12:08:18,522\tWARNING trial.py:647 -- The path to the trial log directory is too long (max length: 260. Consider using `trial_dirname_creator` to shorten the path. Path: D:\\TEMP\\Temp\\ray\\session_2024-11-21_11-53-30_936371_16412\\artifacts\\2024-11-21_12-05-38\\gradient_boosting_tuning\\driver_artifacts\\train_gbc_bb82701d_2_learning_rate=0.0184,max_depth=7,max_features=0.5618,min_samples_leaf=10,min_samples_split=16,n_estimators=47_2024-11-21_12-05-46\n",
      "2024/11/21 12:08:18 INFO mlflow.tracking._tracking_service.client: 🏃 View run train_gbc_bb82701d at: http://localhost:5000/#/experiments/820879946420798051/runs/db8667ff69404fda96c7ce8f811445e4.\n",
      "2024/11/21 12:08:18 INFO mlflow.tracking._tracking_service.client: 🧪 View experiment at: http://localhost:5000/#/experiments/820879946420798051.\n",
      "2024-11-21 12:08:24,934\tWARNING trial.py:647 -- The path to the trial log directory is too long (max length: 260. Consider using `trial_dirname_creator` to shorten the path. Path: D:\\TEMP\\Temp\\ray\\session_2024-11-21_11-53-30_936371_16412\\artifacts\\2024-11-21_12-05-38\\gradient_boosting_tuning\\driver_artifacts\\train_gbc_dd2fd91d_3_learning_rate=0.0736,max_depth=1,max_features=0.1777,min_samples_leaf=11,min_samples_split=15,n_estimators=39_2024-11-21_12-07-01\n",
      "2024-11-21 12:08:24,936\tWARNING trial.py:647 -- The path to the trial log directory is too long (max length: 260. Consider using `trial_dirname_creator` to shorten the path. Path: D:\\TEMP\\Temp\\ray\\session_2024-11-21_11-53-30_936371_16412\\artifacts\\2024-11-21_12-05-38\\gradient_boosting_tuning\\driver_artifacts\\train_gbc_dd2fd91d_3_learning_rate=0.0736,max_depth=1,max_features=0.1777,min_samples_leaf=11,min_samples_split=15,n_estimators=39_2024-11-21_12-07-01\n",
      "2024-11-21 12:08:24,944\tWARNING trial.py:647 -- The path to the trial log directory is too long (max length: 260. Consider using `trial_dirname_creator` to shorten the path. Path: D:\\TEMP\\Temp\\ray\\session_2024-11-21_11-53-30_936371_16412\\artifacts\\2024-11-21_12-05-38\\gradient_boosting_tuning\\driver_artifacts\\train_gbc_37f05961_4_learning_rate=0.0275,max_depth=7,max_features=0.3368,min_samples_leaf=11,min_samples_split=17,n_estimators=35_2024-11-21_12-08-24\n",
      "2024-11-21 12:08:24,948\tWARNING trial.py:647 -- The path to the trial log directory is too long (max length: 260. Consider using `trial_dirname_creator` to shorten the path. Path: D:\\TEMP\\Temp\\ray\\session_2024-11-21_11-53-30_936371_16412\\artifacts\\2024-11-21_12-05-38\\gradient_boosting_tuning\\driver_artifacts\\train_gbc_37f05961_4_learning_rate=0.0275,max_depth=7,max_features=0.3368,min_samples_leaf=11,min_samples_split=17,n_estimators=35_2024-11-21_12-08-24\n",
      "2024-11-21 12:08:34,924\tWARNING trial.py:647 -- The path to the trial log directory is too long (max length: 260. Consider using `trial_dirname_creator` to shorten the path. Path: D:\\TEMP\\Temp\\ray\\session_2024-11-21_11-53-30_936371_16412\\artifacts\\2024-11-21_12-05-38\\gradient_boosting_tuning\\driver_artifacts\\train_gbc_dd2fd91d_3_learning_rate=0.0736,max_depth=1,max_features=0.1777,min_samples_leaf=11,min_samples_split=15,n_estimators=39_2024-11-21_12-07-01\n",
      "2024/11/21 12:08:35 INFO mlflow.tracking._tracking_service.client: 🏃 View run train_gbc_dd2fd91d at: http://localhost:5000/#/experiments/820879946420798051/runs/38788704f4c043be87c2f51dfbbe7bdf.\n",
      "2024/11/21 12:08:35 INFO mlflow.tracking._tracking_service.client: 🧪 View experiment at: http://localhost:5000/#/experiments/820879946420798051.\n",
      "2024-11-21 12:08:41,302\tWARNING trial.py:647 -- The path to the trial log directory is too long (max length: 260. Consider using `trial_dirname_creator` to shorten the path. Path: D:\\TEMP\\Temp\\ray\\session_2024-11-21_11-53-30_936371_16412\\artifacts\\2024-11-21_12-05-38\\gradient_boosting_tuning\\driver_artifacts\\train_gbc_37f05961_4_learning_rate=0.0275,max_depth=7,max_features=0.3368,min_samples_leaf=11,min_samples_split=17,n_estimators=35_2024-11-21_12-08-24\n",
      "2024-11-21 12:08:41,303\tWARNING trial.py:647 -- The path to the trial log directory is too long (max length: 260. Consider using `trial_dirname_creator` to shorten the path. Path: D:\\TEMP\\Temp\\ray\\session_2024-11-21_11-53-30_936371_16412\\artifacts\\2024-11-21_12-05-38\\gradient_boosting_tuning\\driver_artifacts\\train_gbc_37f05961_4_learning_rate=0.0275,max_depth=7,max_features=0.3368,min_samples_leaf=11,min_samples_split=17,n_estimators=35_2024-11-21_12-08-24\n",
      "2024-11-21 12:08:41,338\tWARNING trial.py:647 -- The path to the trial log directory is too long (max length: 260. Consider using `trial_dirname_creator` to shorten the path. Path: D:\\TEMP\\Temp\\ray\\session_2024-11-21_11-53-30_936371_16412\\artifacts\\2024-11-21_12-05-38\\gradient_boosting_tuning\\driver_artifacts\\train_gbc_4481dba2_5_learning_rate=0.0598,max_depth=4,max_features=0.4348,min_samples_leaf=12,min_samples_split=17,n_estimators=46_2024-11-21_12-08-41\n",
      "2024-11-21 12:08:41,343\tWARNING trial.py:647 -- The path to the trial log directory is too long (max length: 260. Consider using `trial_dirname_creator` to shorten the path. Path: D:\\TEMP\\Temp\\ray\\session_2024-11-21_11-53-30_936371_16412\\artifacts\\2024-11-21_12-05-38\\gradient_boosting_tuning\\driver_artifacts\\train_gbc_4481dba2_5_learning_rate=0.0598,max_depth=4,max_features=0.4348,min_samples_leaf=12,min_samples_split=17,n_estimators=46_2024-11-21_12-08-41\n",
      "2024-11-21 12:09:32,791\tWARNING trial.py:647 -- The path to the trial log directory is too long (max length: 260. Consider using `trial_dirname_creator` to shorten the path. Path: D:\\TEMP\\Temp\\ray\\session_2024-11-21_11-53-30_936371_16412\\artifacts\\2024-11-21_12-05-38\\gradient_boosting_tuning\\driver_artifacts\\train_gbc_37f05961_4_learning_rate=0.0275,max_depth=7,max_features=0.3368,min_samples_leaf=11,min_samples_split=17,n_estimators=35_2024-11-21_12-08-24\n",
      "2024/11/21 12:09:33 INFO mlflow.tracking._tracking_service.client: 🏃 View run train_gbc_37f05961 at: http://localhost:5000/#/experiments/820879946420798051/runs/54a9c9b66dc148a482f85bc76dc1d1dc.\n",
      "2024/11/21 12:09:33 INFO mlflow.tracking._tracking_service.client: 🧪 View experiment at: http://localhost:5000/#/experiments/820879946420798051.\n",
      "2024-11-21 12:09:39,141\tWARNING trial.py:647 -- The path to the trial log directory is too long (max length: 260. Consider using `trial_dirname_creator` to shorten the path. Path: D:\\TEMP\\Temp\\ray\\session_2024-11-21_11-53-30_936371_16412\\artifacts\\2024-11-21_12-05-38\\gradient_boosting_tuning\\driver_artifacts\\train_gbc_4481dba2_5_learning_rate=0.0598,max_depth=4,max_features=0.4348,min_samples_leaf=12,min_samples_split=17,n_estimators=46_2024-11-21_12-08-41\n",
      "2024-11-21 12:09:39,144\tWARNING trial.py:647 -- The path to the trial log directory is too long (max length: 260. Consider using `trial_dirname_creator` to shorten the path. Path: D:\\TEMP\\Temp\\ray\\session_2024-11-21_11-53-30_936371_16412\\artifacts\\2024-11-21_12-05-38\\gradient_boosting_tuning\\driver_artifacts\\train_gbc_4481dba2_5_learning_rate=0.0598,max_depth=4,max_features=0.4348,min_samples_leaf=12,min_samples_split=17,n_estimators=46_2024-11-21_12-08-41\n",
      "2024-11-21 12:09:39,156\tWARNING trial.py:647 -- The path to the trial log directory is too long (max length: 260. Consider using `trial_dirname_creator` to shorten the path. Path: D:\\TEMP\\Temp\\ray\\session_2024-11-21_11-53-30_936371_16412\\artifacts\\2024-11-21_12-05-38\\gradient_boosting_tuning\\driver_artifacts\\train_gbc_07285d0c_6_learning_rate=0.0897,max_depth=3,max_features=0.2558,min_samples_leaf=10,min_samples_split=15,n_estimators=44_2024-11-21_12-09-39\n",
      "2024-11-21 12:09:39,160\tWARNING trial.py:647 -- The path to the trial log directory is too long (max length: 260. Consider using `trial_dirname_creator` to shorten the path. Path: D:\\TEMP\\Temp\\ray\\session_2024-11-21_11-53-30_936371_16412\\artifacts\\2024-11-21_12-05-38\\gradient_boosting_tuning\\driver_artifacts\\train_gbc_07285d0c_6_learning_rate=0.0897,max_depth=3,max_features=0.2558,min_samples_leaf=10,min_samples_split=15,n_estimators=44_2024-11-21_12-09-39\n",
      "2024-11-21 12:10:15,383\tWARNING trial.py:647 -- The path to the trial log directory is too long (max length: 260. Consider using `trial_dirname_creator` to shorten the path. Path: D:\\TEMP\\Temp\\ray\\session_2024-11-21_11-53-30_936371_16412\\artifacts\\2024-11-21_12-05-38\\gradient_boosting_tuning\\driver_artifacts\\train_gbc_4481dba2_5_learning_rate=0.0598,max_depth=4,max_features=0.4348,min_samples_leaf=12,min_samples_split=17,n_estimators=46_2024-11-21_12-08-41\n",
      "2024/11/21 12:10:15 INFO mlflow.tracking._tracking_service.client: 🏃 View run train_gbc_4481dba2 at: http://localhost:5000/#/experiments/820879946420798051/runs/efd4be604ef34a66b361e50fd98a1263.\n",
      "2024/11/21 12:10:15 INFO mlflow.tracking._tracking_service.client: 🧪 View experiment at: http://localhost:5000/#/experiments/820879946420798051.\n",
      "2024-11-21 12:10:22,086\tWARNING trial.py:647 -- The path to the trial log directory is too long (max length: 260. Consider using `trial_dirname_creator` to shorten the path. Path: D:\\TEMP\\Temp\\ray\\session_2024-11-21_11-53-30_936371_16412\\artifacts\\2024-11-21_12-05-38\\gradient_boosting_tuning\\driver_artifacts\\train_gbc_07285d0c_6_learning_rate=0.0897,max_depth=3,max_features=0.2558,min_samples_leaf=10,min_samples_split=15,n_estimators=44_2024-11-21_12-09-39\n",
      "2024-11-21 12:10:22,088\tWARNING trial.py:647 -- The path to the trial log directory is too long (max length: 260. Consider using `trial_dirname_creator` to shorten the path. Path: D:\\TEMP\\Temp\\ray\\session_2024-11-21_11-53-30_936371_16412\\artifacts\\2024-11-21_12-05-38\\gradient_boosting_tuning\\driver_artifacts\\train_gbc_07285d0c_6_learning_rate=0.0897,max_depth=3,max_features=0.2558,min_samples_leaf=10,min_samples_split=15,n_estimators=44_2024-11-21_12-09-39\n",
      "2024-11-21 12:10:22,126\tWARNING trial.py:647 -- The path to the trial log directory is too long (max length: 260. Consider using `trial_dirname_creator` to shorten the path. Path: D:\\TEMP\\Temp\\ray\\session_2024-11-21_11-53-30_936371_16412\\artifacts\\2024-11-21_12-05-38\\gradient_boosting_tuning\\driver_artifacts\\train_gbc_cc40a33e_7_learning_rate=0.0703,max_depth=8,max_features=0.3965,min_samples_leaf=13,min_samples_split=16,n_estimators=45_2024-11-21_12-10-22\n",
      "2024-11-21 12:10:22,131\tWARNING trial.py:647 -- The path to the trial log directory is too long (max length: 260. Consider using `trial_dirname_creator` to shorten the path. Path: D:\\TEMP\\Temp\\ray\\session_2024-11-21_11-53-30_936371_16412\\artifacts\\2024-11-21_12-05-38\\gradient_boosting_tuning\\driver_artifacts\\train_gbc_cc40a33e_7_learning_rate=0.0703,max_depth=8,max_features=0.3965,min_samples_leaf=13,min_samples_split=16,n_estimators=45_2024-11-21_12-10-22\n",
      "2024-11-21 12:10:35,300\tWARNING trial.py:647 -- The path to the trial log directory is too long (max length: 260. Consider using `trial_dirname_creator` to shorten the path. Path: D:\\TEMP\\Temp\\ray\\session_2024-11-21_11-53-30_936371_16412\\artifacts\\2024-11-21_12-05-38\\gradient_boosting_tuning\\driver_artifacts\\train_gbc_07285d0c_6_learning_rate=0.0897,max_depth=3,max_features=0.2558,min_samples_leaf=10,min_samples_split=15,n_estimators=44_2024-11-21_12-09-39\n",
      "2024/11/21 12:10:35 INFO mlflow.tracking._tracking_service.client: 🏃 View run train_gbc_07285d0c at: http://localhost:5000/#/experiments/820879946420798051/runs/3a41a7498117434a937f612e23c0a058.\n",
      "2024/11/21 12:10:35 INFO mlflow.tracking._tracking_service.client: 🧪 View experiment at: http://localhost:5000/#/experiments/820879946420798051.\n",
      "2024-11-21 12:10:41,548\tWARNING trial.py:647 -- The path to the trial log directory is too long (max length: 260. Consider using `trial_dirname_creator` to shorten the path. Path: D:\\TEMP\\Temp\\ray\\session_2024-11-21_11-53-30_936371_16412\\artifacts\\2024-11-21_12-05-38\\gradient_boosting_tuning\\driver_artifacts\\train_gbc_cc40a33e_7_learning_rate=0.0703,max_depth=8,max_features=0.3965,min_samples_leaf=13,min_samples_split=16,n_estimators=45_2024-11-21_12-10-22\n",
      "2024-11-21 12:10:41,550\tWARNING trial.py:647 -- The path to the trial log directory is too long (max length: 260. Consider using `trial_dirname_creator` to shorten the path. Path: D:\\TEMP\\Temp\\ray\\session_2024-11-21_11-53-30_936371_16412\\artifacts\\2024-11-21_12-05-38\\gradient_boosting_tuning\\driver_artifacts\\train_gbc_cc40a33e_7_learning_rate=0.0703,max_depth=8,max_features=0.3965,min_samples_leaf=13,min_samples_split=16,n_estimators=45_2024-11-21_12-10-22\n",
      "2024-11-21 12:10:41,559\tWARNING trial.py:647 -- The path to the trial log directory is too long (max length: 260. Consider using `trial_dirname_creator` to shorten the path. Path: D:\\TEMP\\Temp\\ray\\session_2024-11-21_11-53-30_936371_16412\\artifacts\\2024-11-21_12-05-38\\gradient_boosting_tuning\\driver_artifacts\\train_gbc_283bfe21_8_learning_rate=0.0331,max_depth=13,max_features=0.7648,min_samples_leaf=10,min_samples_split=16,n_estimators=3_2024-11-21_12-10-41\n",
      "2024-11-21 12:10:41,563\tWARNING trial.py:647 -- The path to the trial log directory is too long (max length: 260. Consider using `trial_dirname_creator` to shorten the path. Path: D:\\TEMP\\Temp\\ray\\session_2024-11-21_11-53-30_936371_16412\\artifacts\\2024-11-21_12-05-38\\gradient_boosting_tuning\\driver_artifacts\\train_gbc_283bfe21_8_learning_rate=0.0331,max_depth=13,max_features=0.7648,min_samples_leaf=10,min_samples_split=16,n_estimators=3_2024-11-21_12-10-41\n",
      "2024-11-21 12:11:54,560\tWARNING trial.py:647 -- The path to the trial log directory is too long (max length: 260. Consider using `trial_dirname_creator` to shorten the path. Path: D:\\TEMP\\Temp\\ray\\session_2024-11-21_11-53-30_936371_16412\\artifacts\\2024-11-21_12-05-38\\gradient_boosting_tuning\\driver_artifacts\\train_gbc_cc40a33e_7_learning_rate=0.0703,max_depth=8,max_features=0.3965,min_samples_leaf=13,min_samples_split=16,n_estimators=45_2024-11-21_12-10-22\n",
      "2024-11-21 12:11:54,566\tWARNING util.py:201 -- The `callbacks.on_trial_result` operation took 0.907 s, which may be a performance bottleneck.\n",
      "2024-11-21 12:11:54,567\tWARNING util.py:201 -- The `process_trial_result` operation took 0.908 s, which may be a performance bottleneck.\n",
      "2024-11-21 12:11:54,568\tWARNING util.py:201 -- Processing trial results took 0.909 s, which may be a performance bottleneck. Please consider reporting results less frequently to Ray Tune.\n",
      "2024-11-21 12:11:54,570\tWARNING util.py:201 -- The `process_trial_result` operation took 0.911 s, which may be a performance bottleneck.\n",
      "2024/11/21 12:11:54 INFO mlflow.tracking._tracking_service.client: 🏃 View run train_gbc_cc40a33e at: http://localhost:5000/#/experiments/820879946420798051/runs/c1bd3a26ca9c4c5086d73fb772c9191c.\n",
      "2024/11/21 12:11:54 INFO mlflow.tracking._tracking_service.client: 🧪 View experiment at: http://localhost:5000/#/experiments/820879946420798051.\n",
      "2024-11-21 12:12:02,279\tWARNING trial.py:647 -- The path to the trial log directory is too long (max length: 260. Consider using `trial_dirname_creator` to shorten the path. Path: D:\\TEMP\\Temp\\ray\\session_2024-11-21_11-53-30_936371_16412\\artifacts\\2024-11-21_12-05-38\\gradient_boosting_tuning\\driver_artifacts\\train_gbc_283bfe21_8_learning_rate=0.0331,max_depth=13,max_features=0.7648,min_samples_leaf=10,min_samples_split=16,n_estimators=3_2024-11-21_12-10-41\n",
      "2024-11-21 12:12:02,281\tWARNING trial.py:647 -- The path to the trial log directory is too long (max length: 260. Consider using `trial_dirname_creator` to shorten the path. Path: D:\\TEMP\\Temp\\ray\\session_2024-11-21_11-53-30_936371_16412\\artifacts\\2024-11-21_12-05-38\\gradient_boosting_tuning\\driver_artifacts\\train_gbc_283bfe21_8_learning_rate=0.0331,max_depth=13,max_features=0.7648,min_samples_leaf=10,min_samples_split=16,n_estimators=3_2024-11-21_12-10-41\n",
      "2024-11-21 12:12:02,288\tWARNING trial.py:647 -- The path to the trial log directory is too long (max length: 260. Consider using `trial_dirname_creator` to shorten the path. Path: D:\\TEMP\\Temp\\ray\\session_2024-11-21_11-53-30_936371_16412\\artifacts\\2024-11-21_12-05-38\\gradient_boosting_tuning\\driver_artifacts\\train_gbc_a3a95f9e_9_learning_rate=0.0972,max_depth=8,max_features=0.1164,min_samples_leaf=13,min_samples_split=16,n_estimators=47_2024-11-21_12-12-02\n",
      "2024-11-21 12:12:02,294\tWARNING trial.py:647 -- The path to the trial log directory is too long (max length: 260. Consider using `trial_dirname_creator` to shorten the path. Path: D:\\TEMP\\Temp\\ray\\session_2024-11-21_11-53-30_936371_16412\\artifacts\\2024-11-21_12-05-38\\gradient_boosting_tuning\\driver_artifacts\\train_gbc_a3a95f9e_9_learning_rate=0.0972,max_depth=8,max_features=0.1164,min_samples_leaf=13,min_samples_split=16,n_estimators=47_2024-11-21_12-12-02\n",
      "2024-11-21 12:13:25,382\tWARNING trial.py:647 -- The path to the trial log directory is too long (max length: 260. Consider using `trial_dirname_creator` to shorten the path. Path: D:\\TEMP\\Temp\\ray\\session_2024-11-21_11-53-30_936371_16412\\artifacts\\2024-11-21_12-05-38\\gradient_boosting_tuning\\driver_artifacts\\train_gbc_283bfe21_8_learning_rate=0.0331,max_depth=13,max_features=0.7648,min_samples_leaf=10,min_samples_split=16,n_estimators=3_2024-11-21_12-10-41\n",
      "2024/11/21 12:13:25 INFO mlflow.tracking._tracking_service.client: 🏃 View run train_gbc_283bfe21 at: http://localhost:5000/#/experiments/820879946420798051/runs/dbbb12aa0f984c32a28d04c223f5b726.\n",
      "2024/11/21 12:13:25 INFO mlflow.tracking._tracking_service.client: 🧪 View experiment at: http://localhost:5000/#/experiments/820879946420798051.\n",
      "2024-11-21 12:13:31,855\tWARNING trial.py:647 -- The path to the trial log directory is too long (max length: 260. Consider using `trial_dirname_creator` to shorten the path. Path: D:\\TEMP\\Temp\\ray\\session_2024-11-21_11-53-30_936371_16412\\artifacts\\2024-11-21_12-05-38\\gradient_boosting_tuning\\driver_artifacts\\train_gbc_a3a95f9e_9_learning_rate=0.0972,max_depth=8,max_features=0.1164,min_samples_leaf=13,min_samples_split=16,n_estimators=47_2024-11-21_12-12-02\n",
      "2024-11-21 12:13:31,857\tWARNING trial.py:647 -- The path to the trial log directory is too long (max length: 260. Consider using `trial_dirname_creator` to shorten the path. Path: D:\\TEMP\\Temp\\ray\\session_2024-11-21_11-53-30_936371_16412\\artifacts\\2024-11-21_12-05-38\\gradient_boosting_tuning\\driver_artifacts\\train_gbc_a3a95f9e_9_learning_rate=0.0972,max_depth=8,max_features=0.1164,min_samples_leaf=13,min_samples_split=16,n_estimators=47_2024-11-21_12-12-02\n",
      "2024-11-21 12:13:31,865\tWARNING trial.py:647 -- The path to the trial log directory is too long (max length: 260. Consider using `trial_dirname_creator` to shorten the path. Path: D:\\TEMP\\Temp\\ray\\session_2024-11-21_11-53-30_936371_16412\\artifacts\\2024-11-21_12-05-38\\gradient_boosting_tuning\\driver_artifacts\\train_gbc_d9856ebd_10_learning_rate=0.0471,max_depth=14,max_features=0.5112,min_samples_leaf=14,min_samples_split=15,n_estimators=_2024-11-21_12-13-31\n",
      "2024-11-21 12:13:31,871\tWARNING trial.py:647 -- The path to the trial log directory is too long (max length: 260. Consider using `trial_dirname_creator` to shorten the path. Path: D:\\TEMP\\Temp\\ray\\session_2024-11-21_11-53-30_936371_16412\\artifacts\\2024-11-21_12-05-38\\gradient_boosting_tuning\\driver_artifacts\\train_gbc_d9856ebd_10_learning_rate=0.0471,max_depth=14,max_features=0.5112,min_samples_leaf=14,min_samples_split=15,n_estimators=_2024-11-21_12-13-31\n",
      "2024-11-21 12:14:19,186\tWARNING trial.py:647 -- The path to the trial log directory is too long (max length: 260. Consider using `trial_dirname_creator` to shorten the path. Path: D:\\TEMP\\Temp\\ray\\session_2024-11-21_11-53-30_936371_16412\\artifacts\\2024-11-21_12-05-38\\gradient_boosting_tuning\\driver_artifacts\\train_gbc_a3a95f9e_9_learning_rate=0.0972,max_depth=8,max_features=0.1164,min_samples_leaf=13,min_samples_split=16,n_estimators=47_2024-11-21_12-12-02\n",
      "2024/11/21 12:14:19 INFO mlflow.tracking._tracking_service.client: 🏃 View run train_gbc_a3a95f9e at: http://localhost:5000/#/experiments/820879946420798051/runs/061533b8990146b3bb17fde4ac269673.\n",
      "2024/11/21 12:14:19 INFO mlflow.tracking._tracking_service.client: 🧪 View experiment at: http://localhost:5000/#/experiments/820879946420798051.\n",
      "2024-11-21 12:14:26,168\tWARNING trial.py:647 -- The path to the trial log directory is too long (max length: 260. Consider using `trial_dirname_creator` to shorten the path. Path: D:\\TEMP\\Temp\\ray\\session_2024-11-21_11-53-30_936371_16412\\artifacts\\2024-11-21_12-05-38\\gradient_boosting_tuning\\driver_artifacts\\train_gbc_d9856ebd_10_learning_rate=0.0471,max_depth=14,max_features=0.5112,min_samples_leaf=14,min_samples_split=15,n_estimators=_2024-11-21_12-13-31\n",
      "2024-11-21 12:14:26,170\tWARNING trial.py:647 -- The path to the trial log directory is too long (max length: 260. Consider using `trial_dirname_creator` to shorten the path. Path: D:\\TEMP\\Temp\\ray\\session_2024-11-21_11-53-30_936371_16412\\artifacts\\2024-11-21_12-05-38\\gradient_boosting_tuning\\driver_artifacts\\train_gbc_d9856ebd_10_learning_rate=0.0471,max_depth=14,max_features=0.5112,min_samples_leaf=14,min_samples_split=15,n_estimators=_2024-11-21_12-13-31\n",
      "2024-11-21 12:14:26,178\tWARNING trial.py:647 -- The path to the trial log directory is too long (max length: 260. Consider using `trial_dirname_creator` to shorten the path. Path: D:\\TEMP\\Temp\\ray\\session_2024-11-21_11-53-30_936371_16412\\artifacts\\2024-11-21_12-05-38\\gradient_boosting_tuning\\driver_artifacts\\train_gbc_60eac00c_11_learning_rate=0.0061,max_depth=10,max_features=0.8865,min_samples_leaf=12,min_samples_split=16,n_estimators=_2024-11-21_12-14-26\n",
      "2024-11-21 12:14:26,181\tWARNING trial.py:647 -- The path to the trial log directory is too long (max length: 260. Consider using `trial_dirname_creator` to shorten the path. Path: D:\\TEMP\\Temp\\ray\\session_2024-11-21_11-53-30_936371_16412\\artifacts\\2024-11-21_12-05-38\\gradient_boosting_tuning\\driver_artifacts\\train_gbc_60eac00c_11_learning_rate=0.0061,max_depth=10,max_features=0.8865,min_samples_leaf=12,min_samples_split=16,n_estimators=_2024-11-21_12-14-26\n",
      "2024-11-21 12:16:09,951\tWARNING trial.py:647 -- The path to the trial log directory is too long (max length: 260. Consider using `trial_dirname_creator` to shorten the path. Path: D:\\TEMP\\Temp\\ray\\session_2024-11-21_11-53-30_936371_16412\\artifacts\\2024-11-21_12-05-38\\gradient_boosting_tuning\\driver_artifacts\\train_gbc_d9856ebd_10_learning_rate=0.0471,max_depth=14,max_features=0.5112,min_samples_leaf=14,min_samples_split=15,n_estimators=_2024-11-21_12-13-31\n",
      "2024/11/21 12:16:10 INFO mlflow.tracking._tracking_service.client: 🏃 View run train_gbc_d9856ebd at: http://localhost:5000/#/experiments/820879946420798051/runs/076de59ed2174ae5b3c256a2fe20f6e5.\n",
      "2024/11/21 12:16:10 INFO mlflow.tracking._tracking_service.client: 🧪 View experiment at: http://localhost:5000/#/experiments/820879946420798051.\n",
      "2024-11-21 12:16:16,458\tWARNING trial.py:647 -- The path to the trial log directory is too long (max length: 260. Consider using `trial_dirname_creator` to shorten the path. Path: D:\\TEMP\\Temp\\ray\\session_2024-11-21_11-53-30_936371_16412\\artifacts\\2024-11-21_12-05-38\\gradient_boosting_tuning\\driver_artifacts\\train_gbc_60eac00c_11_learning_rate=0.0061,max_depth=10,max_features=0.8865,min_samples_leaf=12,min_samples_split=16,n_estimators=_2024-11-21_12-14-26\n",
      "2024-11-21 12:16:16,462\tWARNING trial.py:647 -- The path to the trial log directory is too long (max length: 260. Consider using `trial_dirname_creator` to shorten the path. Path: D:\\TEMP\\Temp\\ray\\session_2024-11-21_11-53-30_936371_16412\\artifacts\\2024-11-21_12-05-38\\gradient_boosting_tuning\\driver_artifacts\\train_gbc_60eac00c_11_learning_rate=0.0061,max_depth=10,max_features=0.8865,min_samples_leaf=12,min_samples_split=16,n_estimators=_2024-11-21_12-14-26\n",
      "2024-11-21 12:16:16,510\tWARNING trial.py:647 -- The path to the trial log directory is too long (max length: 260. Consider using `trial_dirname_creator` to shorten the path. Path: D:\\TEMP\\Temp\\ray\\session_2024-11-21_11-53-30_936371_16412\\artifacts\\2024-11-21_12-05-38\\gradient_boosting_tuning\\driver_artifacts\\train_gbc_bfc9afa5_12_learning_rate=0.0016,max_depth=1,max_features=0.0089,min_samples_leaf=12,min_samples_split=15,n_estimators=3_2024-11-21_12-16-16\n",
      "2024-11-21 12:16:16,514\tWARNING trial.py:647 -- The path to the trial log directory is too long (max length: 260. Consider using `trial_dirname_creator` to shorten the path. Path: D:\\TEMP\\Temp\\ray\\session_2024-11-21_11-53-30_936371_16412\\artifacts\\2024-11-21_12-05-38\\gradient_boosting_tuning\\driver_artifacts\\train_gbc_bfc9afa5_12_learning_rate=0.0016,max_depth=1,max_features=0.0089,min_samples_leaf=12,min_samples_split=15,n_estimators=3_2024-11-21_12-16-16\n",
      "2024-11-21 12:17:47,815\tWARNING trial.py:647 -- The path to the trial log directory is too long (max length: 260. Consider using `trial_dirname_creator` to shorten the path. Path: D:\\TEMP\\Temp\\ray\\session_2024-11-21_11-53-30_936371_16412\\artifacts\\2024-11-21_12-05-38\\gradient_boosting_tuning\\driver_artifacts\\train_gbc_60eac00c_11_learning_rate=0.0061,max_depth=10,max_features=0.8865,min_samples_leaf=12,min_samples_split=16,n_estimators=_2024-11-21_12-14-26\n",
      "2024-11-21 12:17:47,822\tWARNING util.py:201 -- The `callbacks.on_trial_result` operation took 0.569 s, which may be a performance bottleneck.\n",
      "2024-11-21 12:17:47,823\tWARNING util.py:201 -- The `process_trial_result` operation took 0.570 s, which may be a performance bottleneck.\n",
      "2024-11-21 12:17:47,824\tWARNING util.py:201 -- Processing trial results took 0.571 s, which may be a performance bottleneck. Please consider reporting results less frequently to Ray Tune.\n",
      "2024-11-21 12:17:47,825\tWARNING util.py:201 -- The `process_trial_result` operation took 0.572 s, which may be a performance bottleneck.\n",
      "2024/11/21 12:17:48 INFO mlflow.tracking._tracking_service.client: 🏃 View run train_gbc_60eac00c at: http://localhost:5000/#/experiments/820879946420798051/runs/42bbcce2dcbb481190752e01283c2222.\n",
      "2024/11/21 12:17:48 INFO mlflow.tracking._tracking_service.client: 🧪 View experiment at: http://localhost:5000/#/experiments/820879946420798051.\n",
      "2024-11-21 12:17:54,800\tWARNING trial.py:647 -- The path to the trial log directory is too long (max length: 260. Consider using `trial_dirname_creator` to shorten the path. Path: D:\\TEMP\\Temp\\ray\\session_2024-11-21_11-53-30_936371_16412\\artifacts\\2024-11-21_12-05-38\\gradient_boosting_tuning\\driver_artifacts\\train_gbc_bfc9afa5_12_learning_rate=0.0016,max_depth=1,max_features=0.0089,min_samples_leaf=12,min_samples_split=15,n_estimators=3_2024-11-21_12-16-16\n",
      "2024-11-21 12:17:54,802\tWARNING trial.py:647 -- The path to the trial log directory is too long (max length: 260. Consider using `trial_dirname_creator` to shorten the path. Path: D:\\TEMP\\Temp\\ray\\session_2024-11-21_11-53-30_936371_16412\\artifacts\\2024-11-21_12-05-38\\gradient_boosting_tuning\\driver_artifacts\\train_gbc_bfc9afa5_12_learning_rate=0.0016,max_depth=1,max_features=0.0089,min_samples_leaf=12,min_samples_split=15,n_estimators=3_2024-11-21_12-16-16\n",
      "2024-11-21 12:17:54,857\tWARNING trial.py:647 -- The path to the trial log directory is too long (max length: 260. Consider using `trial_dirname_creator` to shorten the path. Path: D:\\TEMP\\Temp\\ray\\session_2024-11-21_11-53-30_936371_16412\\artifacts\\2024-11-21_12-05-38\\gradient_boosting_tuning\\driver_artifacts\\train_gbc_c81f3aa1_13_learning_rate=0.0031,max_depth=1,max_features=0.9956,min_samples_leaf=12,min_samples_split=15,n_estimators=3_2024-11-21_12-17-54\n",
      "2024-11-21 12:17:54,861\tWARNING trial.py:647 -- The path to the trial log directory is too long (max length: 260. Consider using `trial_dirname_creator` to shorten the path. Path: D:\\TEMP\\Temp\\ray\\session_2024-11-21_11-53-30_936371_16412\\artifacts\\2024-11-21_12-05-38\\gradient_boosting_tuning\\driver_artifacts\\train_gbc_c81f3aa1_13_learning_rate=0.0031,max_depth=1,max_features=0.9956,min_samples_leaf=12,min_samples_split=15,n_estimators=3_2024-11-21_12-17-54\n",
      "2024-11-21 12:18:02,480\tWARNING trial.py:647 -- The path to the trial log directory is too long (max length: 260. Consider using `trial_dirname_creator` to shorten the path. Path: D:\\TEMP\\Temp\\ray\\session_2024-11-21_11-53-30_936371_16412\\artifacts\\2024-11-21_12-05-38\\gradient_boosting_tuning\\driver_artifacts\\train_gbc_bfc9afa5_12_learning_rate=0.0016,max_depth=1,max_features=0.0089,min_samples_leaf=12,min_samples_split=15,n_estimators=3_2024-11-21_12-16-16\n",
      "2024/11/21 12:18:02 INFO mlflow.tracking._tracking_service.client: 🏃 View run train_gbc_bfc9afa5 at: http://localhost:5000/#/experiments/820879946420798051/runs/967c3c44930d4aa2b0686b2de3cb637c.\n",
      "2024/11/21 12:18:02 INFO mlflow.tracking._tracking_service.client: 🧪 View experiment at: http://localhost:5000/#/experiments/820879946420798051.\n",
      "2024-11-21 12:18:08,645\tWARNING trial.py:647 -- The path to the trial log directory is too long (max length: 260. Consider using `trial_dirname_creator` to shorten the path. Path: D:\\TEMP\\Temp\\ray\\session_2024-11-21_11-53-30_936371_16412\\artifacts\\2024-11-21_12-05-38\\gradient_boosting_tuning\\driver_artifacts\\train_gbc_c81f3aa1_13_learning_rate=0.0031,max_depth=1,max_features=0.9956,min_samples_leaf=12,min_samples_split=15,n_estimators=3_2024-11-21_12-17-54\n",
      "2024-11-21 12:18:08,647\tWARNING trial.py:647 -- The path to the trial log directory is too long (max length: 260. Consider using `trial_dirname_creator` to shorten the path. Path: D:\\TEMP\\Temp\\ray\\session_2024-11-21_11-53-30_936371_16412\\artifacts\\2024-11-21_12-05-38\\gradient_boosting_tuning\\driver_artifacts\\train_gbc_c81f3aa1_13_learning_rate=0.0031,max_depth=1,max_features=0.9956,min_samples_leaf=12,min_samples_split=15,n_estimators=3_2024-11-21_12-17-54\n",
      "2024-11-21 12:18:08,686\tWARNING trial.py:647 -- The path to the trial log directory is too long (max length: 260. Consider using `trial_dirname_creator` to shorten the path. Path: D:\\TEMP\\Temp\\ray\\session_2024-11-21_11-53-30_936371_16412\\artifacts\\2024-11-21_12-05-38\\gradient_boosting_tuning\\driver_artifacts\\train_gbc_da456d63_14_learning_rate=0.0677,max_depth=11,max_features=0.9772,min_samples_leaf=12,min_samples_split=15,n_estimators=_2024-11-21_12-18-08\n",
      "2024-11-21 12:18:08,689\tWARNING trial.py:647 -- The path to the trial log directory is too long (max length: 260. Consider using `trial_dirname_creator` to shorten the path. Path: D:\\TEMP\\Temp\\ray\\session_2024-11-21_11-53-30_936371_16412\\artifacts\\2024-11-21_12-05-38\\gradient_boosting_tuning\\driver_artifacts\\train_gbc_da456d63_14_learning_rate=0.0677,max_depth=11,max_features=0.9772,min_samples_leaf=12,min_samples_split=15,n_estimators=_2024-11-21_12-18-08\n",
      "2024-11-21 12:18:18,718\tWARNING trial.py:647 -- The path to the trial log directory is too long (max length: 260. Consider using `trial_dirname_creator` to shorten the path. Path: D:\\TEMP\\Temp\\ray\\session_2024-11-21_11-53-30_936371_16412\\artifacts\\2024-11-21_12-05-38\\gradient_boosting_tuning\\driver_artifacts\\train_gbc_c81f3aa1_13_learning_rate=0.0031,max_depth=1,max_features=0.9956,min_samples_leaf=12,min_samples_split=15,n_estimators=3_2024-11-21_12-17-54\n",
      "2024/11/21 12:18:18 INFO mlflow.tracking._tracking_service.client: 🏃 View run train_gbc_c81f3aa1 at: http://localhost:5000/#/experiments/820879946420798051/runs/c70cb588b84c45988cab20e36f0d2d27.\n",
      "2024/11/21 12:18:18 INFO mlflow.tracking._tracking_service.client: 🧪 View experiment at: http://localhost:5000/#/experiments/820879946420798051.\n",
      "2024-11-21 12:18:25,786\tWARNING trial.py:647 -- The path to the trial log directory is too long (max length: 260. Consider using `trial_dirname_creator` to shorten the path. Path: D:\\TEMP\\Temp\\ray\\session_2024-11-21_11-53-30_936371_16412\\artifacts\\2024-11-21_12-05-38\\gradient_boosting_tuning\\driver_artifacts\\train_gbc_da456d63_14_learning_rate=0.0677,max_depth=11,max_features=0.9772,min_samples_leaf=12,min_samples_split=15,n_estimators=_2024-11-21_12-18-08\n",
      "2024-11-21 12:18:25,788\tWARNING trial.py:647 -- The path to the trial log directory is too long (max length: 260. Consider using `trial_dirname_creator` to shorten the path. Path: D:\\TEMP\\Temp\\ray\\session_2024-11-21_11-53-30_936371_16412\\artifacts\\2024-11-21_12-05-38\\gradient_boosting_tuning\\driver_artifacts\\train_gbc_da456d63_14_learning_rate=0.0677,max_depth=11,max_features=0.9772,min_samples_leaf=12,min_samples_split=15,n_estimators=_2024-11-21_12-18-08\n",
      "2024-11-21 12:18:25,830\tWARNING trial.py:647 -- The path to the trial log directory is too long (max length: 260. Consider using `trial_dirname_creator` to shorten the path. Path: D:\\TEMP\\Temp\\ray\\session_2024-11-21_11-53-30_936371_16412\\artifacts\\2024-11-21_12-05-38\\gradient_boosting_tuning\\driver_artifacts\\train_gbc_3271f0b2_15_learning_rate=0.0728,max_depth=11,max_features=0.8882,min_samples_leaf=11,min_samples_split=17,n_estimators=_2024-11-21_12-18-25\n",
      "2024-11-21 12:18:25,834\tWARNING trial.py:647 -- The path to the trial log directory is too long (max length: 260. Consider using `trial_dirname_creator` to shorten the path. Path: D:\\TEMP\\Temp\\ray\\session_2024-11-21_11-53-30_936371_16412\\artifacts\\2024-11-21_12-05-38\\gradient_boosting_tuning\\driver_artifacts\\train_gbc_3271f0b2_15_learning_rate=0.0728,max_depth=11,max_features=0.8882,min_samples_leaf=11,min_samples_split=17,n_estimators=_2024-11-21_12-18-25\n",
      "2024-11-21 12:21:13,746\tWARNING trial.py:647 -- The path to the trial log directory is too long (max length: 260. Consider using `trial_dirname_creator` to shorten the path. Path: D:\\TEMP\\Temp\\ray\\session_2024-11-21_11-53-30_936371_16412\\artifacts\\2024-11-21_12-05-38\\gradient_boosting_tuning\\driver_artifacts\\train_gbc_da456d63_14_learning_rate=0.0677,max_depth=11,max_features=0.9772,min_samples_leaf=12,min_samples_split=15,n_estimators=_2024-11-21_12-18-08\n",
      "2024-11-21 12:21:13,751\tWARNING util.py:201 -- The `callbacks.on_trial_result` operation took 2.556 s, which may be a performance bottleneck.\n",
      "2024-11-21 12:21:13,752\tWARNING util.py:201 -- The `process_trial_result` operation took 2.557 s, which may be a performance bottleneck.\n",
      "2024-11-21 12:21:13,752\tWARNING util.py:201 -- Processing trial results took 2.557 s, which may be a performance bottleneck. Please consider reporting results less frequently to Ray Tune.\n",
      "2024-11-21 12:21:13,753\tWARNING util.py:201 -- The `process_trial_result` operation took 2.558 s, which may be a performance bottleneck.\n",
      "2024/11/21 12:21:13 INFO mlflow.tracking._tracking_service.client: 🏃 View run train_gbc_da456d63 at: http://localhost:5000/#/experiments/820879946420798051/runs/c35523909cd143878862d12d4c553403.\n",
      "2024/11/21 12:21:13 INFO mlflow.tracking._tracking_service.client: 🧪 View experiment at: http://localhost:5000/#/experiments/820879946420798051.\n",
      "2024-11-21 12:21:20,528\tWARNING trial.py:647 -- The path to the trial log directory is too long (max length: 260. Consider using `trial_dirname_creator` to shorten the path. Path: D:\\TEMP\\Temp\\ray\\session_2024-11-21_11-53-30_936371_16412\\artifacts\\2024-11-21_12-05-38\\gradient_boosting_tuning\\driver_artifacts\\train_gbc_3271f0b2_15_learning_rate=0.0728,max_depth=11,max_features=0.8882,min_samples_leaf=11,min_samples_split=17,n_estimators=_2024-11-21_12-18-25\n",
      "2024-11-21 12:21:20,531\tWARNING trial.py:647 -- The path to the trial log directory is too long (max length: 260. Consider using `trial_dirname_creator` to shorten the path. Path: D:\\TEMP\\Temp\\ray\\session_2024-11-21_11-53-30_936371_16412\\artifacts\\2024-11-21_12-05-38\\gradient_boosting_tuning\\driver_artifacts\\train_gbc_3271f0b2_15_learning_rate=0.0728,max_depth=11,max_features=0.8882,min_samples_leaf=11,min_samples_split=17,n_estimators=_2024-11-21_12-18-25\n",
      "2024-11-21 12:21:20,570\tWARNING trial.py:647 -- The path to the trial log directory is too long (max length: 260. Consider using `trial_dirname_creator` to shorten the path. Path: D:\\TEMP\\Temp\\ray\\session_2024-11-21_11-53-30_936371_16412\\artifacts\\2024-11-21_12-05-38\\gradient_boosting_tuning\\driver_artifacts\\train_gbc_0cda240c_16_learning_rate=0.0447,max_depth=10,max_features=0.6940,min_samples_leaf=11,min_samples_split=17,n_estimators=_2024-11-21_12-21-20\n",
      "2024-11-21 12:21:20,573\tWARNING trial.py:647 -- The path to the trial log directory is too long (max length: 260. Consider using `trial_dirname_creator` to shorten the path. Path: D:\\TEMP\\Temp\\ray\\session_2024-11-21_11-53-30_936371_16412\\artifacts\\2024-11-21_12-05-38\\gradient_boosting_tuning\\driver_artifacts\\train_gbc_0cda240c_16_learning_rate=0.0447,max_depth=10,max_features=0.6940,min_samples_leaf=11,min_samples_split=17,n_estimators=_2024-11-21_12-21-20\n",
      "2024-11-21 12:24:22,017\tWARNING trial.py:647 -- The path to the trial log directory is too long (max length: 260. Consider using `trial_dirname_creator` to shorten the path. Path: D:\\TEMP\\Temp\\ray\\session_2024-11-21_11-53-30_936371_16412\\artifacts\\2024-11-21_12-05-38\\gradient_boosting_tuning\\driver_artifacts\\train_gbc_3271f0b2_15_learning_rate=0.0728,max_depth=11,max_features=0.8882,min_samples_leaf=11,min_samples_split=17,n_estimators=_2024-11-21_12-18-25\n",
      "2024-11-21 12:24:22,021\tWARNING util.py:201 -- The `callbacks.on_trial_result` operation took 2.528 s, which may be a performance bottleneck.\n",
      "2024-11-21 12:24:22,023\tWARNING util.py:201 -- The `process_trial_result` operation took 2.530 s, which may be a performance bottleneck.\n",
      "2024-11-21 12:24:22,024\tWARNING util.py:201 -- Processing trial results took 2.531 s, which may be a performance bottleneck. Please consider reporting results less frequently to Ray Tune.\n",
      "2024-11-21 12:24:22,024\tWARNING util.py:201 -- The `process_trial_result` operation took 2.531 s, which may be a performance bottleneck.\n",
      "2024/11/21 12:24:22 INFO mlflow.tracking._tracking_service.client: 🏃 View run train_gbc_3271f0b2 at: http://localhost:5000/#/experiments/820879946420798051/runs/9b29d412a3e84303855eb76b3350259c.\n",
      "2024/11/21 12:24:22 INFO mlflow.tracking._tracking_service.client: 🧪 View experiment at: http://localhost:5000/#/experiments/820879946420798051.\n",
      "2024-11-21 12:24:28,938\tWARNING trial.py:647 -- The path to the trial log directory is too long (max length: 260. Consider using `trial_dirname_creator` to shorten the path. Path: D:\\TEMP\\Temp\\ray\\session_2024-11-21_11-53-30_936371_16412\\artifacts\\2024-11-21_12-05-38\\gradient_boosting_tuning\\driver_artifacts\\train_gbc_0cda240c_16_learning_rate=0.0447,max_depth=10,max_features=0.6940,min_samples_leaf=11,min_samples_split=17,n_estimators=_2024-11-21_12-21-20\n",
      "2024-11-21 12:24:28,939\tWARNING trial.py:647 -- The path to the trial log directory is too long (max length: 260. Consider using `trial_dirname_creator` to shorten the path. Path: D:\\TEMP\\Temp\\ray\\session_2024-11-21_11-53-30_936371_16412\\artifacts\\2024-11-21_12-05-38\\gradient_boosting_tuning\\driver_artifacts\\train_gbc_0cda240c_16_learning_rate=0.0447,max_depth=10,max_features=0.6940,min_samples_leaf=11,min_samples_split=17,n_estimators=_2024-11-21_12-21-20\n",
      "2024-11-21 12:24:28,988\tWARNING trial.py:647 -- The path to the trial log directory is too long (max length: 260. Consider using `trial_dirname_creator` to shorten the path. Path: D:\\TEMP\\Temp\\ray\\session_2024-11-21_11-53-30_936371_16412\\artifacts\\2024-11-21_12-05-38\\gradient_boosting_tuning\\driver_artifacts\\train_gbc_5f787443_17_learning_rate=0.0457,max_depth=10,max_features=0.6284,min_samples_leaf=11,min_samples_split=16,n_estimators=_2024-11-21_12-24-28\n",
      "2024-11-21 12:24:28,994\tWARNING trial.py:647 -- The path to the trial log directory is too long (max length: 260. Consider using `trial_dirname_creator` to shorten the path. Path: D:\\TEMP\\Temp\\ray\\session_2024-11-21_11-53-30_936371_16412\\artifacts\\2024-11-21_12-05-38\\gradient_boosting_tuning\\driver_artifacts\\train_gbc_5f787443_17_learning_rate=0.0457,max_depth=10,max_features=0.6284,min_samples_leaf=11,min_samples_split=16,n_estimators=_2024-11-21_12-24-28\n",
      "2024-11-21 12:25:12,532\tWARNING trial.py:647 -- The path to the trial log directory is too long (max length: 260. Consider using `trial_dirname_creator` to shorten the path. Path: D:\\TEMP\\Temp\\ray\\session_2024-11-21_11-53-30_936371_16412\\artifacts\\2024-11-21_12-05-38\\gradient_boosting_tuning\\driver_artifacts\\train_gbc_0cda240c_16_learning_rate=0.0447,max_depth=10,max_features=0.6940,min_samples_leaf=11,min_samples_split=17,n_estimators=_2024-11-21_12-21-20\n",
      "2024/11/21 12:25:12 INFO mlflow.tracking._tracking_service.client: 🏃 View run train_gbc_0cda240c at: http://localhost:5000/#/experiments/820879946420798051/runs/fc7e0c3e1c344461a55082169c0c06ec.\n",
      "2024/11/21 12:25:12 INFO mlflow.tracking._tracking_service.client: 🧪 View experiment at: http://localhost:5000/#/experiments/820879946420798051.\n",
      "2024-11-21 12:25:21,325\tWARNING trial.py:647 -- The path to the trial log directory is too long (max length: 260. Consider using `trial_dirname_creator` to shorten the path. Path: D:\\TEMP\\Temp\\ray\\session_2024-11-21_11-53-30_936371_16412\\artifacts\\2024-11-21_12-05-38\\gradient_boosting_tuning\\driver_artifacts\\train_gbc_5f787443_17_learning_rate=0.0457,max_depth=10,max_features=0.6284,min_samples_leaf=11,min_samples_split=16,n_estimators=_2024-11-21_12-24-28\n",
      "2024-11-21 12:25:21,328\tWARNING trial.py:647 -- The path to the trial log directory is too long (max length: 260. Consider using `trial_dirname_creator` to shorten the path. Path: D:\\TEMP\\Temp\\ray\\session_2024-11-21_11-53-30_936371_16412\\artifacts\\2024-11-21_12-05-38\\gradient_boosting_tuning\\driver_artifacts\\train_gbc_5f787443_17_learning_rate=0.0457,max_depth=10,max_features=0.6284,min_samples_leaf=11,min_samples_split=16,n_estimators=_2024-11-21_12-24-28\n",
      "2024-11-21 12:25:21,375\tWARNING trial.py:647 -- The path to the trial log directory is too long (max length: 260. Consider using `trial_dirname_creator` to shorten the path. Path: D:\\TEMP\\Temp\\ray\\session_2024-11-21_11-53-30_936371_16412\\artifacts\\2024-11-21_12-05-38\\gradient_boosting_tuning\\driver_artifacts\\train_gbc_19466b15_18_learning_rate=0.0566,max_depth=5,max_features=0.2026,min_samples_leaf=13,min_samples_split=16,n_estimators=4_2024-11-21_12-25-21\n",
      "2024-11-21 12:25:21,378\tWARNING trial.py:647 -- The path to the trial log directory is too long (max length: 260. Consider using `trial_dirname_creator` to shorten the path. Path: D:\\TEMP\\Temp\\ray\\session_2024-11-21_11-53-30_936371_16412\\artifacts\\2024-11-21_12-05-38\\gradient_boosting_tuning\\driver_artifacts\\train_gbc_19466b15_18_learning_rate=0.0566,max_depth=5,max_features=0.2026,min_samples_leaf=13,min_samples_split=16,n_estimators=4_2024-11-21_12-25-21\n",
      "2024-11-21 12:26:10,190\tWARNING trial.py:647 -- The path to the trial log directory is too long (max length: 260. Consider using `trial_dirname_creator` to shorten the path. Path: D:\\TEMP\\Temp\\ray\\session_2024-11-21_11-53-30_936371_16412\\artifacts\\2024-11-21_12-05-38\\gradient_boosting_tuning\\driver_artifacts\\train_gbc_5f787443_17_learning_rate=0.0457,max_depth=10,max_features=0.6284,min_samples_leaf=11,min_samples_split=16,n_estimators=_2024-11-21_12-24-28\n",
      "2024-11-21 12:26:10,196\tWARNING util.py:201 -- The `callbacks.on_trial_result` operation took 0.512 s, which may be a performance bottleneck.\n",
      "2024-11-21 12:26:10,197\tWARNING util.py:201 -- The `process_trial_result` operation took 0.513 s, which may be a performance bottleneck.\n",
      "2024-11-21 12:26:10,199\tWARNING util.py:201 -- Processing trial results took 0.515 s, which may be a performance bottleneck. Please consider reporting results less frequently to Ray Tune.\n",
      "2024-11-21 12:26:10,199\tWARNING util.py:201 -- The `process_trial_result` operation took 0.515 s, which may be a performance bottleneck.\n",
      "2024/11/21 12:26:10 INFO mlflow.tracking._tracking_service.client: 🏃 View run train_gbc_5f787443 at: http://localhost:5000/#/experiments/820879946420798051/runs/5069ab7de5e849159cc67bdb53c236de.\n",
      "2024/11/21 12:26:10 INFO mlflow.tracking._tracking_service.client: 🧪 View experiment at: http://localhost:5000/#/experiments/820879946420798051.\n",
      "2024-11-21 12:26:17,283\tWARNING trial.py:647 -- The path to the trial log directory is too long (max length: 260. Consider using `trial_dirname_creator` to shorten the path. Path: D:\\TEMP\\Temp\\ray\\session_2024-11-21_11-53-30_936371_16412\\artifacts\\2024-11-21_12-05-38\\gradient_boosting_tuning\\driver_artifacts\\train_gbc_19466b15_18_learning_rate=0.0566,max_depth=5,max_features=0.2026,min_samples_leaf=13,min_samples_split=16,n_estimators=4_2024-11-21_12-25-21\n",
      "2024-11-21 12:26:17,285\tWARNING trial.py:647 -- The path to the trial log directory is too long (max length: 260. Consider using `trial_dirname_creator` to shorten the path. Path: D:\\TEMP\\Temp\\ray\\session_2024-11-21_11-53-30_936371_16412\\artifacts\\2024-11-21_12-05-38\\gradient_boosting_tuning\\driver_artifacts\\train_gbc_19466b15_18_learning_rate=0.0566,max_depth=5,max_features=0.2026,min_samples_leaf=13,min_samples_split=16,n_estimators=4_2024-11-21_12-25-21\n",
      "2024-11-21 12:26:17,324\tWARNING trial.py:647 -- The path to the trial log directory is too long (max length: 260. Consider using `trial_dirname_creator` to shorten the path. Path: D:\\TEMP\\Temp\\ray\\session_2024-11-21_11-53-30_936371_16412\\artifacts\\2024-11-21_12-05-38\\gradient_boosting_tuning\\driver_artifacts\\train_gbc_d0568b78_19_learning_rate=0.0172,max_depth=4,max_features=0.1222,min_samples_leaf=13,min_samples_split=15,n_estimators=3_2024-11-21_12-26-17\n",
      "2024-11-21 12:26:17,327\tWARNING trial.py:647 -- The path to the trial log directory is too long (max length: 260. Consider using `trial_dirname_creator` to shorten the path. Path: D:\\TEMP\\Temp\\ray\\session_2024-11-21_11-53-30_936371_16412\\artifacts\\2024-11-21_12-05-38\\gradient_boosting_tuning\\driver_artifacts\\train_gbc_d0568b78_19_learning_rate=0.0172,max_depth=4,max_features=0.1222,min_samples_leaf=13,min_samples_split=15,n_estimators=3_2024-11-21_12-26-17\n",
      "2024-11-21 12:26:50,440\tWARNING trial.py:647 -- The path to the trial log directory is too long (max length: 260. Consider using `trial_dirname_creator` to shorten the path. Path: D:\\TEMP\\Temp\\ray\\session_2024-11-21_11-53-30_936371_16412\\artifacts\\2024-11-21_12-05-38\\gradient_boosting_tuning\\driver_artifacts\\train_gbc_19466b15_18_learning_rate=0.0566,max_depth=5,max_features=0.2026,min_samples_leaf=13,min_samples_split=16,n_estimators=4_2024-11-21_12-25-21\n",
      "2024/11/21 12:26:50 INFO mlflow.tracking._tracking_service.client: 🏃 View run train_gbc_19466b15 at: http://localhost:5000/#/experiments/820879946420798051/runs/b5452c6953c548fb87586b0f14d268d7.\n",
      "2024/11/21 12:26:50 INFO mlflow.tracking._tracking_service.client: 🧪 View experiment at: http://localhost:5000/#/experiments/820879946420798051.\n",
      "2024-11-21 12:26:57,167\tWARNING trial.py:647 -- The path to the trial log directory is too long (max length: 260. Consider using `trial_dirname_creator` to shorten the path. Path: D:\\TEMP\\Temp\\ray\\session_2024-11-21_11-53-30_936371_16412\\artifacts\\2024-11-21_12-05-38\\gradient_boosting_tuning\\driver_artifacts\\train_gbc_d0568b78_19_learning_rate=0.0172,max_depth=4,max_features=0.1222,min_samples_leaf=13,min_samples_split=15,n_estimators=3_2024-11-21_12-26-17\n",
      "2024-11-21 12:26:57,168\tWARNING trial.py:647 -- The path to the trial log directory is too long (max length: 260. Consider using `trial_dirname_creator` to shorten the path. Path: D:\\TEMP\\Temp\\ray\\session_2024-11-21_11-53-30_936371_16412\\artifacts\\2024-11-21_12-05-38\\gradient_boosting_tuning\\driver_artifacts\\train_gbc_d0568b78_19_learning_rate=0.0172,max_depth=4,max_features=0.1222,min_samples_leaf=13,min_samples_split=15,n_estimators=3_2024-11-21_12-26-17\n",
      "2024-11-21 12:26:57,212\tWARNING trial.py:647 -- The path to the trial log directory is too long (max length: 260. Consider using `trial_dirname_creator` to shorten the path. Path: D:\\TEMP\\Temp\\ray\\session_2024-11-21_11-53-30_936371_16412\\artifacts\\2024-11-21_12-05-38\\gradient_boosting_tuning\\driver_artifacts\\train_gbc_233f06b8_20_learning_rate=0.0152,max_depth=3,max_features=0.8497,min_samples_leaf=14,min_samples_split=15,n_estimators=3_2024-11-21_12-26-57\n",
      "2024-11-21 12:26:57,215\tWARNING trial.py:647 -- The path to the trial log directory is too long (max length: 260. Consider using `trial_dirname_creator` to shorten the path. Path: D:\\TEMP\\Temp\\ray\\session_2024-11-21_11-53-30_936371_16412\\artifacts\\2024-11-21_12-05-38\\gradient_boosting_tuning\\driver_artifacts\\train_gbc_233f06b8_20_learning_rate=0.0152,max_depth=3,max_features=0.8497,min_samples_leaf=14,min_samples_split=15,n_estimators=3_2024-11-21_12-26-57\n",
      "2024-11-21 12:27:16,119\tWARNING trial.py:647 -- The path to the trial log directory is too long (max length: 260. Consider using `trial_dirname_creator` to shorten the path. Path: D:\\TEMP\\Temp\\ray\\session_2024-11-21_11-53-30_936371_16412\\artifacts\\2024-11-21_12-05-38\\gradient_boosting_tuning\\driver_artifacts\\train_gbc_d0568b78_19_learning_rate=0.0172,max_depth=4,max_features=0.1222,min_samples_leaf=13,min_samples_split=15,n_estimators=3_2024-11-21_12-26-17\n",
      "2024/11/21 12:27:16 INFO mlflow.tracking._tracking_service.client: 🏃 View run train_gbc_d0568b78 at: http://localhost:5000/#/experiments/820879946420798051/runs/13eab9721703435fa177339bebbdc440.\n",
      "2024/11/21 12:27:16 INFO mlflow.tracking._tracking_service.client: 🧪 View experiment at: http://localhost:5000/#/experiments/820879946420798051.\n",
      "2024-11-21 12:27:22,418\tWARNING trial.py:647 -- The path to the trial log directory is too long (max length: 260. Consider using `trial_dirname_creator` to shorten the path. Path: D:\\TEMP\\Temp\\ray\\session_2024-11-21_11-53-30_936371_16412\\artifacts\\2024-11-21_12-05-38\\gradient_boosting_tuning\\driver_artifacts\\train_gbc_233f06b8_20_learning_rate=0.0152,max_depth=3,max_features=0.8497,min_samples_leaf=14,min_samples_split=15,n_estimators=3_2024-11-21_12-26-57\n",
      "2024-11-21 12:27:22,419\tWARNING trial.py:647 -- The path to the trial log directory is too long (max length: 260. Consider using `trial_dirname_creator` to shorten the path. Path: D:\\TEMP\\Temp\\ray\\session_2024-11-21_11-53-30_936371_16412\\artifacts\\2024-11-21_12-05-38\\gradient_boosting_tuning\\driver_artifacts\\train_gbc_233f06b8_20_learning_rate=0.0152,max_depth=3,max_features=0.8497,min_samples_leaf=14,min_samples_split=15,n_estimators=3_2024-11-21_12-26-57\n",
      "2024-11-21 12:27:55,338\tWARNING trial.py:647 -- The path to the trial log directory is too long (max length: 260. Consider using `trial_dirname_creator` to shorten the path. Path: D:\\TEMP\\Temp\\ray\\session_2024-11-21_11-53-30_936371_16412\\artifacts\\2024-11-21_12-05-38\\gradient_boosting_tuning\\driver_artifacts\\train_gbc_233f06b8_20_learning_rate=0.0152,max_depth=3,max_features=0.8497,min_samples_leaf=14,min_samples_split=15,n_estimators=3_2024-11-21_12-26-57\n",
      "2024/11/21 12:27:55 INFO mlflow.tracking._tracking_service.client: 🏃 View run train_gbc_233f06b8 at: http://localhost:5000/#/experiments/820879946420798051/runs/8f41926b92844cf085e7e5cb78b286e4.\n",
      "2024/11/21 12:27:55 INFO mlflow.tracking._tracking_service.client: 🧪 View experiment at: http://localhost:5000/#/experiments/820879946420798051.\n",
      "2024-11-21 12:27:55,656\tINFO tune.py:1009 -- Wrote the latest version of all result files and experiment state to 'C:/Users/JCA/ray_results/gradient_boosting_tuning' in 0.0611s.\n",
      "2024-11-21 12:27:55,677\tINFO tune.py:1041 -- Total run time: 1337.65 seconds (1335.42 seconds for the tuning loop).\n"
     ]
    }
   ],
   "source": [
    "#tune_to_mlflow(mlflow_uri=uri)"
   ]
  },
  {
   "cell_type": "code",
   "execution_count": null,
   "metadata": {},
   "outputs": [],
   "source": [
    "ray_model_uri = 'runs:/1e3489dcb6224eba98e3cee11f078a0a/model_gbc_optuna_2'\n",
    "#gbc_optuna_model = mlflow.sklearn.load_model(model_uri=model_uri)\n",
    "\n",
    "#pyfunc_path = \"/tmp/gbc_dynamic\"\n",
    "gbc_rt = mlflow.pyfunc.load_model(ray_model_uri)\n"
   ]
  }
 ],
 "metadata": {
  "kernelspec": {
   "display_name": "mle_proj",
   "language": "python",
   "name": "python3"
  },
  "language_info": {
   "codemirror_mode": {
    "name": "ipython",
    "version": 3
   },
   "file_extension": ".py",
   "mimetype": "text/x-python",
   "name": "python",
   "nbconvert_exporter": "python",
   "pygments_lexer": "ipython3",
   "version": "3.12.6"
  }
 },
 "nbformat": 4,
 "nbformat_minor": 2
}
