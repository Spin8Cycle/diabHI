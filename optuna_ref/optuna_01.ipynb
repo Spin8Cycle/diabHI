{
 "cells": [
  {
   "cell_type": "code",
   "execution_count": 1,
   "metadata": {},
   "outputs": [],
   "source": [
    "import optuna\n",
    "\n",
    "import sklearn.datasets\n",
    "import sklearn.ensemble\n",
    "import sklearn.model_selection\n",
    "import sklearn.svm"
   ]
  },
  {
   "cell_type": "markdown",
   "metadata": {},
   "source": [
    "# Iris Dataset"
   ]
  },
  {
   "cell_type": "code",
   "execution_count": 2,
   "metadata": {},
   "outputs": [],
   "source": [
    "def objective(trial):\n",
    "    iris = sklearn.datasets.load_iris()\n",
    "    x, y = iris.data, iris.target\n",
    "\n",
    "    classifier_name = trial.suggest_categorical(\"classifier\", [\"SVC\", \"RandomForest\"])\n",
    "    if classifier_name == \"SVC\":\n",
    "        svc_c = trial.suggest_float(\"svc_c\", 1e-10, 1e10, log=True)\n",
    "        classifier_obj = sklearn.svm.SVC(C = svc_c, gamma=\"auto\")\n",
    "    else:\n",
    "        rf_max_depth = trial.suggest_int(\"rf_max_depth\", 2, 32, log=True)\n",
    "        classifier_obj = sklearn.ensemble.RandomForestClassifier(\n",
    "            max_depth=rf_max_depth,\n",
    "            n_estimators=10\n",
    "        )\n",
    "\n",
    "    score = sklearn.model_selection.cross_val_score(classifier_obj, x, y, n_jobs=-1, cv=3)\n",
    "    accuracy = score.mean()\n",
    "    return accuracy"
   ]
  },
  {
   "cell_type": "code",
   "execution_count": 6,
   "metadata": {},
   "outputs": [
    {
     "name": "stderr",
     "output_type": "stream",
     "text": [
      "[I 2024-10-20 22:16:08,466] A new study created in RDB with name: iris classifier\n",
      "[I 2024-10-20 22:16:08,627] Trial 0 finished with value: 0.32 and parameters: {'classifier': 'SVC', 'svc_c': 0.0027111877194324198}. Best is trial 0 with value: 0.32.\n",
      "[I 2024-10-20 22:16:08,768] Trial 1 finished with value: 0.9666666666666667 and parameters: {'classifier': 'RandomForest', 'rf_max_depth': 4}. Best is trial 1 with value: 0.9666666666666667.\n",
      "[I 2024-10-20 22:16:08,901] Trial 2 finished with value: 0.9733333333333333 and parameters: {'classifier': 'RandomForest', 'rf_max_depth': 3}. Best is trial 2 with value: 0.9733333333333333.\n",
      "[I 2024-10-20 22:16:09,011] Trial 3 finished with value: 0.32 and parameters: {'classifier': 'SVC', 'svc_c': 8.792219697713163e-08}. Best is trial 2 with value: 0.9733333333333333.\n",
      "[I 2024-10-20 22:16:09,123] Trial 4 finished with value: 0.96 and parameters: {'classifier': 'SVC', 'svc_c': 2934167.478337526}. Best is trial 2 with value: 0.9733333333333333.\n",
      "[I 2024-10-20 22:16:09,239] Trial 5 finished with value: 0.96 and parameters: {'classifier': 'SVC', 'svc_c': 39.3522921670763}. Best is trial 2 with value: 0.9733333333333333.\n",
      "[I 2024-10-20 22:16:09,360] Trial 6 finished with value: 0.9666666666666667 and parameters: {'classifier': 'RandomForest', 'rf_max_depth': 6}. Best is trial 2 with value: 0.9733333333333333.\n",
      "[I 2024-10-20 22:16:09,472] Trial 7 finished with value: 0.96 and parameters: {'classifier': 'SVC', 'svc_c': 128.31478656925435}. Best is trial 2 with value: 0.9733333333333333.\n",
      "[I 2024-10-20 22:16:09,601] Trial 8 finished with value: 0.9533333333333333 and parameters: {'classifier': 'RandomForest', 'rf_max_depth': 10}. Best is trial 2 with value: 0.9733333333333333.\n",
      "[I 2024-10-20 22:16:09,726] Trial 9 finished with value: 0.96 and parameters: {'classifier': 'RandomForest', 'rf_max_depth': 9}. Best is trial 2 with value: 0.9733333333333333.\n",
      "[I 2024-10-20 22:16:09,854] Trial 10 finished with value: 0.94 and parameters: {'classifier': 'RandomForest', 'rf_max_depth': 2}. Best is trial 2 with value: 0.9733333333333333.\n",
      "[I 2024-10-20 22:16:09,985] Trial 11 finished with value: 0.96 and parameters: {'classifier': 'RandomForest', 'rf_max_depth': 3}. Best is trial 2 with value: 0.9733333333333333.\n",
      "[I 2024-10-20 22:16:10,117] Trial 12 finished with value: 0.96 and parameters: {'classifier': 'RandomForest', 'rf_max_depth': 4}. Best is trial 2 with value: 0.9733333333333333.\n",
      "[I 2024-10-20 22:16:10,249] Trial 13 finished with value: 0.9533333333333333 and parameters: {'classifier': 'RandomForest', 'rf_max_depth': 18}. Best is trial 2 with value: 0.9733333333333333.\n",
      "[I 2024-10-20 22:16:10,376] Trial 14 finished with value: 0.9533333333333333 and parameters: {'classifier': 'RandomForest', 'rf_max_depth': 2}. Best is trial 2 with value: 0.9733333333333333.\n",
      "[I 2024-10-20 22:16:10,505] Trial 15 finished with value: 0.96 and parameters: {'classifier': 'RandomForest', 'rf_max_depth': 4}. Best is trial 2 with value: 0.9733333333333333.\n",
      "[I 2024-10-20 22:16:10,640] Trial 16 finished with value: 0.9533333333333333 and parameters: {'classifier': 'RandomForest', 'rf_max_depth': 6}. Best is trial 2 with value: 0.9733333333333333.\n",
      "[I 2024-10-20 22:16:10,770] Trial 17 finished with value: 0.96 and parameters: {'classifier': 'RandomForest', 'rf_max_depth': 3}. Best is trial 2 with value: 0.9733333333333333.\n",
      "[I 2024-10-20 22:16:10,910] Trial 18 finished with value: 0.96 and parameters: {'classifier': 'RandomForest', 'rf_max_depth': 17}. Best is trial 2 with value: 0.9733333333333333.\n",
      "[I 2024-10-20 22:16:11,051] Trial 19 finished with value: 0.9533333333333333 and parameters: {'classifier': 'RandomForest', 'rf_max_depth': 4}. Best is trial 2 with value: 0.9733333333333333.\n",
      "[I 2024-10-20 22:16:11,191] Trial 20 finished with value: 0.9733333333333333 and parameters: {'classifier': 'RandomForest', 'rf_max_depth': 2}. Best is trial 2 with value: 0.9733333333333333.\n",
      "[I 2024-10-20 22:16:11,326] Trial 21 finished with value: 0.96 and parameters: {'classifier': 'RandomForest', 'rf_max_depth': 2}. Best is trial 2 with value: 0.9733333333333333.\n",
      "[I 2024-10-20 22:16:11,457] Trial 22 finished with value: 0.96 and parameters: {'classifier': 'RandomForest', 'rf_max_depth': 3}. Best is trial 2 with value: 0.9733333333333333.\n",
      "[I 2024-10-20 22:16:11,587] Trial 23 finished with value: 0.9666666666666667 and parameters: {'classifier': 'RandomForest', 'rf_max_depth': 29}. Best is trial 2 with value: 0.9733333333333333.\n",
      "[I 2024-10-20 22:16:11,716] Trial 24 finished with value: 0.96 and parameters: {'classifier': 'RandomForest', 'rf_max_depth': 3}. Best is trial 2 with value: 0.9733333333333333.\n",
      "[I 2024-10-20 22:16:11,844] Trial 25 finished with value: 0.9666666666666667 and parameters: {'classifier': 'RandomForest', 'rf_max_depth': 5}. Best is trial 2 with value: 0.9733333333333333.\n",
      "[I 2024-10-20 22:16:12,134] Trial 26 finished with value: 0.96 and parameters: {'classifier': 'SVC', 'svc_c': 3482368234.254768}. Best is trial 2 with value: 0.9733333333333333.\n",
      "[I 2024-10-20 22:16:12,265] Trial 27 finished with value: 0.9466666666666667 and parameters: {'classifier': 'RandomForest', 'rf_max_depth': 2}. Best is trial 2 with value: 0.9733333333333333.\n",
      "[I 2024-10-20 22:16:12,397] Trial 28 finished with value: 0.9666666666666667 and parameters: {'classifier': 'RandomForest', 'rf_max_depth': 3}. Best is trial 2 with value: 0.9733333333333333.\n",
      "[I 2024-10-20 22:16:12,521] Trial 29 finished with value: 0.32 and parameters: {'classifier': 'SVC', 'svc_c': 2.1297786772820208e-10}. Best is trial 2 with value: 0.9733333333333333.\n",
      "[I 2024-10-20 22:16:12,657] Trial 30 finished with value: 0.96 and parameters: {'classifier': 'RandomForest', 'rf_max_depth': 8}. Best is trial 2 with value: 0.9733333333333333.\n",
      "[I 2024-10-20 22:16:12,787] Trial 31 finished with value: 0.96 and parameters: {'classifier': 'RandomForest', 'rf_max_depth': 6}. Best is trial 2 with value: 0.9733333333333333.\n",
      "[I 2024-10-20 22:16:12,920] Trial 32 finished with value: 0.9533333333333333 and parameters: {'classifier': 'RandomForest', 'rf_max_depth': 5}. Best is trial 2 with value: 0.9733333333333333.\n",
      "[I 2024-10-20 22:16:13,048] Trial 33 finished with value: 0.9666666666666667 and parameters: {'classifier': 'RandomForest', 'rf_max_depth': 11}. Best is trial 2 with value: 0.9733333333333333.\n",
      "[I 2024-10-20 22:16:13,175] Trial 34 finished with value: 0.32 and parameters: {'classifier': 'SVC', 'svc_c': 0.00024682339246008024}. Best is trial 2 with value: 0.9733333333333333.\n",
      "[I 2024-10-20 22:16:13,297] Trial 35 finished with value: 0.96 and parameters: {'classifier': 'SVC', 'svc_c': 229258.68300793902}. Best is trial 2 with value: 0.9733333333333333.\n",
      "[I 2024-10-20 22:16:13,435] Trial 36 finished with value: 0.9466666666666667 and parameters: {'classifier': 'RandomForest', 'rf_max_depth': 4}. Best is trial 2 with value: 0.9733333333333333.\n",
      "[I 2024-10-20 22:16:13,565] Trial 37 finished with value: 0.9466666666666667 and parameters: {'classifier': 'RandomForest', 'rf_max_depth': 7}. Best is trial 2 with value: 0.9733333333333333.\n",
      "[I 2024-10-20 22:16:13,685] Trial 38 finished with value: 0.32 and parameters: {'classifier': 'SVC', 'svc_c': 0.00010755858696878964}. Best is trial 2 with value: 0.9733333333333333.\n",
      "[I 2024-10-20 22:16:13,818] Trial 39 finished with value: 0.9533333333333333 and parameters: {'classifier': 'RandomForest', 'rf_max_depth': 5}. Best is trial 2 with value: 0.9733333333333333.\n",
      "[I 2024-10-20 22:16:14,025] Trial 40 finished with value: 0.9533333333333333 and parameters: {'classifier': 'RandomForest', 'rf_max_depth': 10}. Best is trial 2 with value: 0.9733333333333333.\n",
      "[I 2024-10-20 22:16:14,188] Trial 41 finished with value: 0.96 and parameters: {'classifier': 'RandomForest', 'rf_max_depth': 27}. Best is trial 2 with value: 0.9733333333333333.\n",
      "[I 2024-10-20 22:16:14,326] Trial 42 finished with value: 0.96 and parameters: {'classifier': 'RandomForest', 'rf_max_depth': 15}. Best is trial 2 with value: 0.9733333333333333.\n",
      "[I 2024-10-20 22:16:14,456] Trial 43 finished with value: 0.9533333333333333 and parameters: {'classifier': 'RandomForest', 'rf_max_depth': 13}. Best is trial 2 with value: 0.9733333333333333.\n",
      "[I 2024-10-20 22:16:14,586] Trial 44 finished with value: 0.9533333333333333 and parameters: {'classifier': 'RandomForest', 'rf_max_depth': 27}. Best is trial 2 with value: 0.9733333333333333.\n",
      "[I 2024-10-20 22:16:14,715] Trial 45 finished with value: 0.9533333333333333 and parameters: {'classifier': 'RandomForest', 'rf_max_depth': 8}. Best is trial 2 with value: 0.9733333333333333.\n",
      "[I 2024-10-20 22:16:14,844] Trial 46 finished with value: 0.96 and parameters: {'classifier': 'RandomForest', 'rf_max_depth': 22}. Best is trial 2 with value: 0.9733333333333333.\n",
      "[I 2024-10-20 22:16:14,982] Trial 47 finished with value: 0.9666666666666667 and parameters: {'classifier': 'RandomForest', 'rf_max_depth': 32}. Best is trial 2 with value: 0.9733333333333333.\n",
      "[I 2024-10-20 22:16:15,110] Trial 48 finished with value: 0.96 and parameters: {'classifier': 'RandomForest', 'rf_max_depth': 6}. Best is trial 2 with value: 0.9733333333333333.\n",
      "[I 2024-10-20 22:16:15,227] Trial 49 finished with value: 0.96 and parameters: {'classifier': 'SVC', 'svc_c': 1225770199.153169}. Best is trial 2 with value: 0.9733333333333333.\n",
      "[I 2024-10-20 22:16:15,353] Trial 50 finished with value: 0.96 and parameters: {'classifier': 'RandomForest', 'rf_max_depth': 4}. Best is trial 2 with value: 0.9733333333333333.\n",
      "[I 2024-10-20 22:16:15,497] Trial 51 finished with value: 0.9466666666666667 and parameters: {'classifier': 'RandomForest', 'rf_max_depth': 5}. Best is trial 2 with value: 0.9733333333333333.\n",
      "[I 2024-10-20 22:16:15,626] Trial 52 finished with value: 0.96 and parameters: {'classifier': 'RandomForest', 'rf_max_depth': 5}. Best is trial 2 with value: 0.9733333333333333.\n",
      "[I 2024-10-20 22:16:15,754] Trial 53 finished with value: 0.9533333333333333 and parameters: {'classifier': 'RandomForest', 'rf_max_depth': 3}. Best is trial 2 with value: 0.9733333333333333.\n",
      "[I 2024-10-20 22:16:15,884] Trial 54 finished with value: 0.9466666666666667 and parameters: {'classifier': 'RandomForest', 'rf_max_depth': 2}. Best is trial 2 with value: 0.9733333333333333.\n",
      "[I 2024-10-20 22:16:16,013] Trial 55 finished with value: 0.9466666666666667 and parameters: {'classifier': 'RandomForest', 'rf_max_depth': 6}. Best is trial 2 with value: 0.9733333333333333.\n",
      "[I 2024-10-20 22:16:16,148] Trial 56 finished with value: 0.9466666666666667 and parameters: {'classifier': 'RandomForest', 'rf_max_depth': 7}. Best is trial 2 with value: 0.9733333333333333.\n",
      "[I 2024-10-20 22:16:16,276] Trial 57 finished with value: 0.9533333333333333 and parameters: {'classifier': 'RandomForest', 'rf_max_depth': 4}. Best is trial 2 with value: 0.9733333333333333.\n",
      "[I 2024-10-20 22:16:16,403] Trial 58 finished with value: 0.9533333333333333 and parameters: {'classifier': 'RandomForest', 'rf_max_depth': 5}. Best is trial 2 with value: 0.9733333333333333.\n",
      "[I 2024-10-20 22:16:16,539] Trial 59 finished with value: 0.96 and parameters: {'classifier': 'RandomForest', 'rf_max_depth': 9}. Best is trial 2 with value: 0.9733333333333333.\n",
      "[I 2024-10-20 22:16:16,667] Trial 60 finished with value: 0.9666666666666667 and parameters: {'classifier': 'RandomForest', 'rf_max_depth': 3}. Best is trial 2 with value: 0.9733333333333333.\n",
      "[I 2024-10-20 22:16:16,797] Trial 61 finished with value: 0.94 and parameters: {'classifier': 'RandomForest', 'rf_max_depth': 3}. Best is trial 2 with value: 0.9733333333333333.\n",
      "[I 2024-10-20 22:16:16,930] Trial 62 finished with value: 0.9533333333333333 and parameters: {'classifier': 'RandomForest', 'rf_max_depth': 2}. Best is trial 2 with value: 0.9733333333333333.\n",
      "[I 2024-10-20 22:16:17,061] Trial 63 finished with value: 0.9533333333333333 and parameters: {'classifier': 'RandomForest', 'rf_max_depth': 4}. Best is trial 2 with value: 0.9733333333333333.\n",
      "[I 2024-10-20 22:16:17,368] Trial 64 finished with value: 0.96 and parameters: {'classifier': 'RandomForest', 'rf_max_depth': 6}. Best is trial 2 with value: 0.9733333333333333.\n",
      "[I 2024-10-20 22:16:17,499] Trial 65 finished with value: 0.94 and parameters: {'classifier': 'RandomForest', 'rf_max_depth': 3}. Best is trial 2 with value: 0.9733333333333333.\n",
      "[I 2024-10-20 22:16:17,620] Trial 66 finished with value: 0.9533333333333333 and parameters: {'classifier': 'SVC', 'svc_c': 0.14258750198988418}. Best is trial 2 with value: 0.9733333333333333.\n",
      "[I 2024-10-20 22:16:17,749] Trial 67 finished with value: 0.9466666666666667 and parameters: {'classifier': 'RandomForest', 'rf_max_depth': 5}. Best is trial 2 with value: 0.9733333333333333.\n",
      "[I 2024-10-20 22:16:17,880] Trial 68 finished with value: 0.9466666666666667 and parameters: {'classifier': 'RandomForest', 'rf_max_depth': 8}. Best is trial 2 with value: 0.9733333333333333.\n",
      "[I 2024-10-20 22:16:18,011] Trial 69 finished with value: 0.9666666666666667 and parameters: {'classifier': 'RandomForest', 'rf_max_depth': 4}. Best is trial 2 with value: 0.9733333333333333.\n",
      "[I 2024-10-20 22:16:18,138] Trial 70 finished with value: 0.9666666666666667 and parameters: {'classifier': 'RandomForest', 'rf_max_depth': 7}. Best is trial 2 with value: 0.9733333333333333.\n",
      "[I 2024-10-20 22:16:18,269] Trial 71 finished with value: 0.9533333333333333 and parameters: {'classifier': 'RandomForest', 'rf_max_depth': 11}. Best is trial 2 with value: 0.9733333333333333.\n",
      "[I 2024-10-20 22:16:18,399] Trial 72 finished with value: 0.9666666666666667 and parameters: {'classifier': 'RandomForest', 'rf_max_depth': 22}. Best is trial 2 with value: 0.9733333333333333.\n",
      "[I 2024-10-20 22:16:18,529] Trial 73 finished with value: 0.96 and parameters: {'classifier': 'RandomForest', 'rf_max_depth': 12}. Best is trial 2 with value: 0.9733333333333333.\n",
      "[I 2024-10-20 22:16:18,662] Trial 74 finished with value: 0.96 and parameters: {'classifier': 'RandomForest', 'rf_max_depth': 17}. Best is trial 2 with value: 0.9733333333333333.\n",
      "[I 2024-10-20 22:16:18,791] Trial 75 finished with value: 0.32 and parameters: {'classifier': 'SVC', 'svc_c': 1.4445809389141262e-10}. Best is trial 2 with value: 0.9733333333333333.\n",
      "[I 2024-10-20 22:16:18,922] Trial 76 finished with value: 0.9533333333333333 and parameters: {'classifier': 'RandomForest', 'rf_max_depth': 14}. Best is trial 2 with value: 0.9733333333333333.\n",
      "[I 2024-10-20 22:16:19,073] Trial 77 finished with value: 0.9533333333333333 and parameters: {'classifier': 'RandomForest', 'rf_max_depth': 19}. Best is trial 2 with value: 0.9733333333333333.\n",
      "[I 2024-10-20 22:16:19,204] Trial 78 finished with value: 0.9533333333333333 and parameters: {'classifier': 'RandomForest', 'rf_max_depth': 6}. Best is trial 2 with value: 0.9733333333333333.\n",
      "[I 2024-10-20 22:16:19,335] Trial 79 finished with value: 0.96 and parameters: {'classifier': 'RandomForest', 'rf_max_depth': 9}. Best is trial 2 with value: 0.9733333333333333.\n",
      "[I 2024-10-20 22:16:19,465] Trial 80 finished with value: 0.9533333333333333 and parameters: {'classifier': 'RandomForest', 'rf_max_depth': 32}. Best is trial 2 with value: 0.9733333333333333.\n",
      "[I 2024-10-20 22:16:19,595] Trial 81 finished with value: 0.96 and parameters: {'classifier': 'RandomForest', 'rf_max_depth': 29}. Best is trial 2 with value: 0.9733333333333333.\n",
      "[I 2024-10-20 22:16:19,725] Trial 82 finished with value: 0.9666666666666667 and parameters: {'classifier': 'RandomForest', 'rf_max_depth': 24}. Best is trial 2 with value: 0.9733333333333333.\n",
      "[I 2024-10-20 22:16:19,855] Trial 83 finished with value: 0.9533333333333333 and parameters: {'classifier': 'RandomForest', 'rf_max_depth': 26}. Best is trial 2 with value: 0.9733333333333333.\n",
      "[I 2024-10-20 22:16:19,987] Trial 84 finished with value: 0.9533333333333333 and parameters: {'classifier': 'RandomForest', 'rf_max_depth': 32}. Best is trial 2 with value: 0.9733333333333333.\n",
      "[I 2024-10-20 22:16:20,118] Trial 85 finished with value: 0.9533333333333333 and parameters: {'classifier': 'RandomForest', 'rf_max_depth': 29}. Best is trial 2 with value: 0.9733333333333333.\n",
      "[I 2024-10-20 22:16:20,243] Trial 86 finished with value: 0.32 and parameters: {'classifier': 'SVC', 'svc_c': 8.884462134822022e-08}. Best is trial 2 with value: 0.9733333333333333.\n",
      "[I 2024-10-20 22:16:20,384] Trial 87 finished with value: 0.9466666666666667 and parameters: {'classifier': 'RandomForest', 'rf_max_depth': 24}. Best is trial 2 with value: 0.9733333333333333.\n",
      "[I 2024-10-20 22:16:20,516] Trial 88 finished with value: 0.9666666666666667 and parameters: {'classifier': 'RandomForest', 'rf_max_depth': 20}. Best is trial 2 with value: 0.9733333333333333.\n",
      "[I 2024-10-20 22:16:20,645] Trial 89 finished with value: 0.9466666666666667 and parameters: {'classifier': 'RandomForest', 'rf_max_depth': 29}. Best is trial 2 with value: 0.9733333333333333.\n",
      "[I 2024-10-20 22:16:20,773] Trial 90 finished with value: 0.9533333333333333 and parameters: {'classifier': 'RandomForest', 'rf_max_depth': 5}. Best is trial 2 with value: 0.9733333333333333.\n",
      "[I 2024-10-20 22:16:20,900] Trial 91 finished with value: 0.9533333333333333 and parameters: {'classifier': 'RandomForest', 'rf_max_depth': 3}. Best is trial 2 with value: 0.9733333333333333.\n",
      "[I 2024-10-20 22:16:21,027] Trial 92 finished with value: 0.96 and parameters: {'classifier': 'RandomForest', 'rf_max_depth': 3}. Best is trial 2 with value: 0.9733333333333333.\n",
      "[I 2024-10-20 22:16:21,153] Trial 93 finished with value: 0.94 and parameters: {'classifier': 'RandomForest', 'rf_max_depth': 2}. Best is trial 2 with value: 0.9733333333333333.\n",
      "[I 2024-10-20 22:16:21,281] Trial 94 finished with value: 0.9533333333333333 and parameters: {'classifier': 'RandomForest', 'rf_max_depth': 4}. Best is trial 2 with value: 0.9733333333333333.\n",
      "[I 2024-10-20 22:16:21,410] Trial 95 finished with value: 0.96 and parameters: {'classifier': 'RandomForest', 'rf_max_depth': 16}. Best is trial 2 with value: 0.9733333333333333.\n",
      "[I 2024-10-20 22:16:21,537] Trial 96 finished with value: 0.9666666666666667 and parameters: {'classifier': 'RandomForest', 'rf_max_depth': 4}. Best is trial 2 with value: 0.9733333333333333.\n",
      "[I 2024-10-20 22:16:21,666] Trial 97 finished with value: 0.9533333333333333 and parameters: {'classifier': 'RandomForest', 'rf_max_depth': 8}. Best is trial 2 with value: 0.9733333333333333.\n",
      "[I 2024-10-20 22:16:21,795] Trial 98 finished with value: 0.9533333333333333 and parameters: {'classifier': 'RandomForest', 'rf_max_depth': 10}. Best is trial 2 with value: 0.9733333333333333.\n",
      "[I 2024-10-20 22:16:21,926] Trial 99 finished with value: 0.9466666666666667 and parameters: {'classifier': 'RandomForest', 'rf_max_depth': 24}. Best is trial 2 with value: 0.9733333333333333.\n"
     ]
    }
   ],
   "source": [
    "study = optuna.create_study(\n",
    "    direction=\"maximize\",\n",
    "    storage=\"sqlite:///db.sqlite3\",\n",
    "    study_name=\"iris classifier\"\n",
    "\n",
    ")\n",
    "study.optimize(objective, n_trials=100)"
   ]
  },
  {
   "cell_type": "code",
   "execution_count": 7,
   "metadata": {},
   "outputs": [
    {
     "name": "stdout",
     "output_type": "stream",
     "text": [
      "FrozenTrial(number=2, state=1, values=[0.9733333333333333], datetime_start=datetime.datetime(2024, 10, 20, 22, 16, 8, 774060), datetime_complete=datetime.datetime(2024, 10, 20, 22, 16, 8, 877223), params={'classifier': 'RandomForest', 'rf_max_depth': 3}, user_attrs={}, system_attrs={}, intermediate_values={}, distributions={'classifier': CategoricalDistribution(choices=('SVC', 'RandomForest')), 'rf_max_depth': IntDistribution(high=32, log=True, low=2, step=1)}, trial_id=3, value=None)\n"
     ]
    }
   ],
   "source": [
    "print(study.best_trial)"
   ]
  },
  {
   "cell_type": "code",
   "execution_count": null,
   "metadata": {},
   "outputs": [],
   "source": []
  }
 ],
 "metadata": {
  "kernelspec": {
   "display_name": "mle_proj",
   "language": "python",
   "name": "python3"
  },
  "language_info": {
   "codemirror_mode": {
    "name": "ipython",
    "version": 3
   },
   "file_extension": ".py",
   "mimetype": "text/x-python",
   "name": "python",
   "nbconvert_exporter": "python",
   "pygments_lexer": "ipython3",
   "version": "3.12.6"
  }
 },
 "nbformat": 4,
 "nbformat_minor": 2
}
