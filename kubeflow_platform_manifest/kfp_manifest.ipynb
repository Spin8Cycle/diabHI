{
 "cells": [
  {
   "cell_type": "markdown",
   "metadata": {},
   "source": [
    "### Installing Kubeflow Platform Using Kubeflow Manifests\n",
    "\n",
    "* [Documentation 1](https://www.kubeflow.org/docs/started/installing-kubeflow/)\n",
    "* [Documentation 2](https://github.com/kubeflow/manifests)\n",
    "* [Other Guides](https://dagshub.com/blog/how-to-install-kubeflow-locally/)"
   ]
  },
  {
   "cell_type": "markdown",
   "metadata": {},
   "source": [
    "### Local Installation\n",
    "\n",
    "1. [Create Kind Cluster](create_kind_cluster.zsh):\n",
    "    * Set the cluster name\n",
    "    * Run in Git Bash\n",
    "2. [Save Kubeconfig](kubeflow_platform_manifest/kubeconfig.zsh): \n",
    "    * Run in Git Bash\n",
    "3. [Create a Secret based on existing credentials in order to pull the images](login_pull.zsh):\n",
    "    * Update the location of config.json file.\n",
    "    * Run in Git Bash\n",
    "    * Clone [Manifest files](https://github.com/kubeflow/manifests) from github \n",
    "        * `git clone <https://github.com/kubeflow/manifests.git>`\n",
    "4. [Install](kubeflow_platform_manifest/install_kfc.zsh)\n",
    "    * After installation, Port forward to test:\n",
    "    ```bash\n",
    "    kubectl port-forward svc/istio-ingressgateway -n istio-system 8080:80\n",
    "    ```\n",
    "\n",
    "    * User: user@example.com\n",
    "    * Password: 12341234"
   ]
  },
  {
   "cell_type": "markdown",
   "metadata": {},
   "source": []
  }
 ],
 "metadata": {
  "language_info": {
   "name": "python"
  }
 },
 "nbformat": 4,
 "nbformat_minor": 2
}
