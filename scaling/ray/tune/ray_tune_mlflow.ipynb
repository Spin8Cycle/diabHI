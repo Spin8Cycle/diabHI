{
 "cells": [
  {
   "cell_type": "markdown",
   "metadata": {},
   "source": [
    "# Tune Experiment Tracking w/ MLflow"
   ]
  },
  {
   "cell_type": "code",
   "execution_count": 1,
   "metadata": {},
   "outputs": [],
   "source": [
    "import os\n",
    "import tempfile\n",
    "import time\n",
    "\n",
    "import mlflow\n",
    "\n",
    "from ray import train, tune\n",
    "from ray.air.integrations.mlflow import MLflowLoggerCallback, setup_mlflow"
   ]
  },
  {
   "cell_type": "code",
   "execution_count": 2,
   "metadata": {},
   "outputs": [],
   "source": [
    "def evaluation_fn(step, width, height):\n",
    "    return (0.1 + width * step / 100)**(-1) + height * 0.1\n",
    "\n",
    "def train_function(config):\n",
    "    width, height = config['width'], config['height']\n",
    "\n",
    "    for step in range(config.get('steps', 100)):\n",
    "        intermediate_score = evaluation_fn(step, width, height)\n",
    "        train.report({'iterations':step, 'mean_loss': intermediate_score})\n",
    "        time.sleep(0.1)"
   ]
  },
  {
   "cell_type": "code",
   "execution_count": null,
   "metadata": {},
   "outputs": [
    {
     "data": {
      "text/html": [
       "<div class=\"tuneStatus\">\n",
       "  <div style=\"display: flex;flex-direction: row\">\n",
       "    <div style=\"display: flex;flex-direction: column;\">\n",
       "      <h3>Tune Status</h3>\n",
       "      <table>\n",
       "<tbody>\n",
       "<tr><td>Current time:</td><td>2024-11-12 19:50:23</td></tr>\n",
       "<tr><td>Running for: </td><td>00:00:25.19        </td></tr>\n",
       "<tr><td>Memory:      </td><td>11.7/15.9 GiB      </td></tr>\n",
       "</tbody>\n",
       "</table>\n",
       "    </div>\n",
       "    <div class=\"vDivider\"></div>\n",
       "    <div class=\"systemInfo\">\n",
       "      <h3>System Info</h3>\n",
       "      Using FIFO scheduling algorithm.<br>Logical resource usage: 1.0/12 CPUs, 0/1 GPUs (0.0/1.0 accelerator_type:G)\n",
       "    </div>\n",
       "    \n",
       "  </div>\n",
       "  <div class=\"hDivider\"></div>\n",
       "  <div class=\"trialStatus\">\n",
       "    <h3>Trial Status</h3>\n",
       "    <table>\n",
       "<thead>\n",
       "<tr><th>Trial name                </th><th>status    </th><th>loc            </th><th style=\"text-align: right;\">  height</th><th style=\"text-align: right;\">  width</th><th style=\"text-align: right;\">   loss</th><th style=\"text-align: right;\">  iter</th><th style=\"text-align: right;\">  total time (s)</th><th style=\"text-align: right;\">  iterations</th></tr>\n",
       "</thead>\n",
       "<tbody>\n",
       "<tr><td>train_function_3a097_00000</td><td>TERMINATED</td><td>127.0.0.1:32356</td><td style=\"text-align: right;\">      93</td><td style=\"text-align: right;\">     19</td><td style=\"text-align: right;\">9.85249</td><td style=\"text-align: right;\">    10</td><td style=\"text-align: right;\">        0.907905</td><td style=\"text-align: right;\">           9</td></tr>\n",
       "<tr><td>train_function_3a097_00001</td><td>TERMINATED</td><td>127.0.0.1:34856</td><td style=\"text-align: right;\">      22</td><td style=\"text-align: right;\">     72</td><td style=\"text-align: right;\">2.35198</td><td style=\"text-align: right;\">    10</td><td style=\"text-align: right;\">        0.906892</td><td style=\"text-align: right;\">           9</td></tr>\n",
       "<tr><td>train_function_3a097_00002</td><td>TERMINATED</td><td>127.0.0.1:35500</td><td style=\"text-align: right;\">      57</td><td style=\"text-align: right;\">     87</td><td style=\"text-align: right;\">5.8261 </td><td style=\"text-align: right;\">    10</td><td style=\"text-align: right;\">        0.908293</td><td style=\"text-align: right;\">           9</td></tr>\n",
       "<tr><td>train_function_3a097_00003</td><td>TERMINATED</td><td>127.0.0.1:36796</td><td style=\"text-align: right;\">      15</td><td style=\"text-align: right;\">     17</td><td style=\"text-align: right;\">2.1135 </td><td style=\"text-align: right;\">    10</td><td style=\"text-align: right;\">        0.910342</td><td style=\"text-align: right;\">           9</td></tr>\n",
       "<tr><td>train_function_3a097_00004</td><td>TERMINATED</td><td>127.0.0.1:20440</td><td style=\"text-align: right;\">      72</td><td style=\"text-align: right;\">     74</td><td style=\"text-align: right;\">7.34793</td><td style=\"text-align: right;\">    10</td><td style=\"text-align: right;\">        0.908471</td><td style=\"text-align: right;\">           9</td></tr>\n",
       "</tbody>\n",
       "</table>\n",
       "  </div>\n",
       "</div>\n",
       "<style>\n",
       ".tuneStatus {\n",
       "  color: var(--jp-ui-font-color1);\n",
       "}\n",
       ".tuneStatus .systemInfo {\n",
       "  display: flex;\n",
       "  flex-direction: column;\n",
       "}\n",
       ".tuneStatus td {\n",
       "  white-space: nowrap;\n",
       "}\n",
       ".tuneStatus .trialStatus {\n",
       "  display: flex;\n",
       "  flex-direction: column;\n",
       "}\n",
       ".tuneStatus h3 {\n",
       "  font-weight: bold;\n",
       "}\n",
       ".tuneStatus .hDivider {\n",
       "  border-bottom-width: var(--jp-border-width);\n",
       "  border-bottom-color: var(--jp-border-color0);\n",
       "  border-bottom-style: solid;\n",
       "}\n",
       ".tuneStatus .vDivider {\n",
       "  border-left-width: var(--jp-border-width);\n",
       "  border-left-color: var(--jp-border-color0);\n",
       "  border-left-style: solid;\n",
       "  margin: 0.5em 1em 0.5em 1em;\n",
       "}\n",
       "</style>\n"
      ],
      "text/plain": [
       "<IPython.core.display.HTML object>"
      ]
     },
     "metadata": {},
     "output_type": "display_data"
    },
    {
     "name": "stderr",
     "output_type": "stream",
     "text": [
      "2024/11/12 19:50:16 INFO mlflow.tracking._tracking_service.client: 🏃 View run train_function_3a097_00004 at: http://127.0.0.1:5000/#/experiments/759485979032750589/runs/0c69659c3ed74b42b66009882dc27399.\n",
      "2024/11/12 19:50:16 INFO mlflow.tracking._tracking_service.client: 🧪 View experiment at: http://127.0.0.1:5000/#/experiments/759485979032750589.\n",
      "2024/11/12 19:50:21 INFO mlflow.tracking._tracking_service.client: 🏃 View run train_function_3a097_00002 at: http://127.0.0.1:5000/#/experiments/759485979032750589/runs/1473399c11204ea1b54fc38fcb5253eb.\n",
      "2024/11/12 19:50:21 INFO mlflow.tracking._tracking_service.client: 🧪 View experiment at: http://127.0.0.1:5000/#/experiments/759485979032750589.\n",
      "2024/11/12 19:50:21 INFO mlflow.tracking._tracking_service.client: 🏃 View run train_function_3a097_00001 at: http://127.0.0.1:5000/#/experiments/759485979032750589/runs/6b1b4864db30400b94d4c9921eaf85e0.\n",
      "2024/11/12 19:50:21 INFO mlflow.tracking._tracking_service.client: 🧪 View experiment at: http://127.0.0.1:5000/#/experiments/759485979032750589.\n",
      "2024/11/12 19:50:22 INFO mlflow.tracking._tracking_service.client: 🏃 View run train_function_3a097_00003 at: http://127.0.0.1:5000/#/experiments/759485979032750589/runs/ff85d043e76249c18a428e109af86488.\n",
      "2024/11/12 19:50:22 INFO mlflow.tracking._tracking_service.client: 🧪 View experiment at: http://127.0.0.1:5000/#/experiments/759485979032750589.\n",
      "2024/11/12 19:50:23 INFO mlflow.tracking._tracking_service.client: 🏃 View run train_function_3a097_00000 at: http://127.0.0.1:5000/#/experiments/759485979032750589/runs/5b4c35ed1a154c97b5a157052efe5ab1.\n",
      "2024/11/12 19:50:23 INFO mlflow.tracking._tracking_service.client: 🧪 View experiment at: http://127.0.0.1:5000/#/experiments/759485979032750589.\n",
      "2024-11-12 19:50:23,065\tINFO tune.py:1009 -- Wrote the latest version of all result files and experiment state to 'C:/Users/JCA/ray_results/mlflow' in 0.0197s.\n",
      "2024-11-12 19:50:23,082\tINFO tune.py:1041 -- Total run time: 31.27 seconds (25.17 seconds for the tuning loop).\n"
     ]
    }
   ],
   "source": [
    "mlflow_uri='http://127.0.0.1:5000'\n",
    "\n",
    "def tune_with_callback(mlflow_tracking_uri, finish_fast=False):\n",
    "    tuner = tune.Tuner(\n",
    "        train_function,\n",
    "        tune_config=tune.TuneConfig(num_samples=5),\n",
    "        run_config=train.RunConfig(\n",
    "            name='mlflow',\n",
    "            callbacks=[\n",
    "                MLflowLoggerCallback(\n",
    "                    tracking_uri=mlflow_tracking_uri,\n",
    "                    experiment_name='mlflow_tune_callback_example',\n",
    "                    save_artifact=True,\n",
    "                )]\n",
    "            ),\n",
    "        param_space={\n",
    "            'width':tune.randint(10, 100),\n",
    "            'height': tune.randint(0, 100),\n",
    "            'steps': 5 if finish_fast else 10\n",
    "        }\n",
    "    )\n",
    "\n",
    "    results = tuner.fit()\n",
    "\n",
    "#tune_with_callback(mlflow_tracking_uri=mlflow_uri)"
   ]
  },
  {
   "cell_type": "code",
   "execution_count": null,
   "metadata": {},
   "outputs": [
    {
     "data": {
      "text/html": [],
      "text/plain": [
       "<IPython.core.display.HTML object>"
      ]
     },
     "metadata": {},
     "output_type": "display_data"
    },
    {
     "name": "stderr",
     "output_type": "stream",
     "text": [
      "2024-11-12 20:57:30,130\tINFO tune.py:1009 -- Wrote the latest version of all result files and experiment state to 'C:/Users/JCA/ray_results/mlflow' in 0.0399s.\n",
      "2024-11-12 20:57:30,192\tINFO tune.py:1041 -- Total run time: 22.66 seconds (22.52 seconds for the tuning loop).\n"
     ]
    }
   ],
   "source": [
    "mlflow_uri='http://127.0.0.1:5000'\n",
    "# Using setup_mlflow\n",
    "def train_function_mlflow(config):\n",
    "    tracking_uri = config.pop(\"tracking_uri\", None)\n",
    "    setup_mlflow(\n",
    "        config,\n",
    "        run_name='test_run_2'\n",
    "    )\n",
    "\n",
    "    mlflow.set_tracking_uri(mlflow_uri) # Works if instantiated outside\n",
    "    mlflow.set_experiment('setup_mlflow_example') # Works if instantiated outside\n",
    "    mlflow.log_params(config)\n",
    "\n",
    "    # Hyperparameters\n",
    "    width, height = config[\"width\"], config[\"height\"]\n",
    "\n",
    "    for step in range(config.get(\"steps\", 100)):\n",
    "        intermediate_score = evaluation_fn(step, width, height)\n",
    "        # Log the metrics to mlflow\n",
    "        mlflow.log_metrics(dict(mean_loss=intermediate_score), step=step)\n",
    "        train.report({\"iterations\": step, \"mean_loss\": intermediate_score})\n",
    "        time.sleep(0.1)\n",
    "\n",
    "\n",
    "def tune_with_setup(mlflow_tracking_uri, finish_fast=False):\n",
    "    # Set the experiment, or create a new one if does not exist yet.\n",
    "    mlflow.set_tracking_uri(mlflow_tracking_uri)\n",
    "    mlflow.set_experiment(experiment_name=\"setup_mlflow_example\")\n",
    "\n",
    "    tuner = tune.Tuner(\n",
    "        train_function_mlflow,\n",
    "        tune_config=tune.TuneConfig(num_samples=5),\n",
    "        run_config=train.RunConfig(\n",
    "            name=\"mlflow\",\n",
    "        ),\n",
    "        param_space={\n",
    "            \"width\": tune.randint(10, 100),\n",
    "            \"height\": tune.randint(0, 100),\n",
    "            \"steps\": 5 if finish_fast else 100,\n",
    "            \"tracking_uri\": mlflow_uri,\n",
    "        },\n",
    "    )\n",
    "    results = tuner.fit()\n",
    "\n",
    "#tune_with_setup(mlflow_uri)"
   ]
  },
  {
   "cell_type": "code",
   "execution_count": null,
   "metadata": {},
   "outputs": [],
   "source": []
  }
 ],
 "metadata": {
  "kernelspec": {
   "display_name": "mle_proj",
   "language": "python",
   "name": "python3"
  },
  "language_info": {
   "codemirror_mode": {
    "name": "ipython",
    "version": 3
   },
   "file_extension": ".py",
   "mimetype": "text/x-python",
   "name": "python",
   "nbconvert_exporter": "python",
   "pygments_lexer": "ipython3",
   "version": "3.12.6"
  }
 },
 "nbformat": 4,
 "nbformat_minor": 2
}
