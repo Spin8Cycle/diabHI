{
 "cells": [
  {
   "cell_type": "markdown",
   "metadata": {},
   "source": [
    "# Key Concepts"
   ]
  },
  {
   "attachments": {
    "image.png": {
     "image/png": "[encoded data removed]"
    }
   },
   "cell_type": "markdown",
   "metadata": {},
   "source": [
    "* Key Components\n",
    "    * Search Spaces\n",
    "    * Trainables (objective function)\n",
    "    * Search Algorithms\n",
    "    * Schedulers\n",
    "    * Trials\n",
    "    * Analyses\n",
    "\n",
    "* Overview: <br>\n",
    "    ![image.png](attachment:image.png) <br>\n",
    "\n"
   ]
  },
  {
   "cell_type": "markdown",
   "metadata": {},
   "source": [
    "### Ray Tune Trainables\n",
    "\n",
    "* A `Trainable` is an object that you can pass into a Tune run. Tune has 2 ways of defining a `trainable`: Function API and Class API. Trainables can return:\n",
    "    * `train.report(...)`: Report the (intermediate) score to Tune. Do not use in Class Trainables.\n",
    "    * `dict`: e.g., `{'score':score}`, simply return (or yield) the score at the end of the trainable function."
   ]
  },
  {
   "cell_type": "code",
   "execution_count": 1,
   "metadata": {},
   "outputs": [
    {
     "name": "stderr",
     "output_type": "stream",
     "text": [
      "2024-11-08 08:45:53,945\tINFO worker.py:1807 -- Started a local Ray instance. View the dashboard at \u001b[1m\u001b[32mhttp://127.0.0.1:8265 \u001b[39m\u001b[22m\n"
     ]
    },
    {
     "name": "stdout",
     "output_type": "stream",
     "text": [
      "127.0.0.1:8265\n"
     ]
    }
   ],
   "source": [
    "import ray\n",
    "\n",
    "context = ray.init()\n",
    "print(context.dashboard_url)"
   ]
  },
  {
   "cell_type": "code",
   "execution_count": 2,
   "metadata": {},
   "outputs": [
    {
     "data": {
      "text/html": [
       "<div class=\"tuneStatus\">\n",
       "  <div style=\"display: flex;flex-direction: row\">\n",
       "    <div style=\"display: flex;flex-direction: column;\">\n",
       "      <h3>Tune Status</h3>\n",
       "      <table>\n",
       "<tbody>\n",
       "<tr><td>Current time:</td><td>2024-11-08 08:46:13</td></tr>\n",
       "<tr><td>Running for: </td><td>00:00:07.97        </td></tr>\n",
       "<tr><td>Memory:      </td><td>11.9/15.9 GiB      </td></tr>\n",
       "</tbody>\n",
       "</table>\n",
       "    </div>\n",
       "    <div class=\"vDivider\"></div>\n",
       "    <div class=\"systemInfo\">\n",
       "      <h3>System Info</h3>\n",
       "      Using FIFO scheduling algorithm.<br>Logical resource usage: 1.0/12 CPUs, 0/1 GPUs (0.0/1.0 accelerator_type:G)\n",
       "    </div>\n",
       "    \n",
       "  </div>\n",
       "  <div class=\"hDivider\"></div>\n",
       "  <div class=\"trialStatus\">\n",
       "    <h3>Trial Status</h3>\n",
       "    <table>\n",
       "<thead>\n",
       "<tr><th>Trial name           </th><th>status    </th><th>loc            </th><th style=\"text-align: right;\">  iter</th><th style=\"text-align: right;\">  total time (s)</th><th style=\"text-align: right;\">  score</th></tr>\n",
       "</thead>\n",
       "<tbody>\n",
       "<tr><td>trainable_d2a60_00000</td><td>TERMINATED</td><td>127.0.0.1:36756</td><td style=\"text-align: right;\">    20</td><td style=\"text-align: right;\">     0.000922441</td><td style=\"text-align: right;\">12.7178</td></tr>\n",
       "</tbody>\n",
       "</table>\n",
       "  </div>\n",
       "</div>\n",
       "<style>\n",
       ".tuneStatus {\n",
       "  color: var(--jp-ui-font-color1);\n",
       "}\n",
       ".tuneStatus .systemInfo {\n",
       "  display: flex;\n",
       "  flex-direction: column;\n",
       "}\n",
       ".tuneStatus td {\n",
       "  white-space: nowrap;\n",
       "}\n",
       ".tuneStatus .trialStatus {\n",
       "  display: flex;\n",
       "  flex-direction: column;\n",
       "}\n",
       ".tuneStatus h3 {\n",
       "  font-weight: bold;\n",
       "}\n",
       ".tuneStatus .hDivider {\n",
       "  border-bottom-width: var(--jp-border-width);\n",
       "  border-bottom-color: var(--jp-border-color0);\n",
       "  border-bottom-style: solid;\n",
       "}\n",
       ".tuneStatus .vDivider {\n",
       "  border-left-width: var(--jp-border-width);\n",
       "  border-left-color: var(--jp-border-color0);\n",
       "  border-left-style: solid;\n",
       "  margin: 0.5em 1em 0.5em 1em;\n",
       "}\n",
       "</style>\n"
      ],
      "text/plain": [
       "<IPython.core.display.HTML object>"
      ]
     },
     "metadata": {},
     "output_type": "display_data"
    },
    {
     "name": "stderr",
     "output_type": "stream",
     "text": [
      "2024-11-08 08:46:13,876\tINFO tune.py:1009 -- Wrote the latest version of all result files and experiment state to 'C:/Users/JCA/ray_results/trainable_2024-11-08_08-45-59' in 0.0091s.\n",
      "2024-11-08 08:46:13,895\tINFO tune.py:1041 -- Total run time: 14.11 seconds (7.96 seconds for the tuning loop).\n"
     ]
    }
   ],
   "source": [
    "from ray import train, tune\n",
    "\n",
    "def objective(x, a, b):\n",
    "    return a * (x ** 0.5) + b\n",
    "\n",
    "def trainable(config: dict):\n",
    "    intermediate_score = 0\n",
    "    for x in range(20):\n",
    "        intermediate_score = objective(x, config[\"a\"], config[\"b\"])\n",
    "        train.report({\"score\": intermediate_score})  # This sends the score to Tune.\n",
    "\n",
    "\n",
    "tuner = tune.Tuner(trainable, param_space={\"a\": 2, \"b\": 4})\n",
    "results = tuner.fit()"
   ]
  },
  {
   "cell_type": "code",
   "execution_count": 4,
   "metadata": {},
   "outputs": [
    {
     "name": "stdout",
     "output_type": "stream",
     "text": [
      "\n",
      "======== Tasks Summary: 2024-11-08 08:46:33.517159 ========\n",
      "Stats:\n",
      "------------------------------------\n",
      "total_actor_scheduled: 1\n",
      "total_actor_tasks: 24\n",
      "total_tasks: 1\n",
      "\n",
      "\n",
      "Table (group by func_name):\n",
      "------------------------------------\n",
      "    FUNC_OR_CLASS_NAME                    STATE_COUNTS    TYPE\n",
      "0   ImplicitFunc.train                    FINISHED: 21    ACTOR_TASK\n",
      "1   ImplicitFunc.get_auto_filled_metrics  FINISHED: 1     ACTOR_TASK\n",
      "2   ImplicitFunc.__ray_ready__            FINISHED: 1     ACTOR_TASK\n",
      "3   bundle_reservation_check_func         FINISHED: 1     NORMAL_TASK\n",
      "4   ImplicitFunc.stop                     FINISHED: 1     ACTOR_TASK\n",
      "5   ImplicitFunc.__init__                 FINISHED: 1     ACTOR_CREATION_TASK\n",
      "\n"
     ]
    }
   ],
   "source": [
    "!ray summary tasks"
   ]
  },
  {
   "cell_type": "markdown",
   "metadata": {},
   "source": [
    "### Ray Tune Search Spaces\n",
    "* A search space defines valid values for your hyperparameters and can specify how these values are sampled (e.g. from a uniform distribution or a normal distribution).\n",
    "* Tune offers various functions to define search spaces and sampling methods: [Link](https://docs.ray.io/en/latest/tune/api/search_space.html#tune-search-space)"
   ]
  },
  {
   "cell_type": "code",
   "execution_count": 7,
   "metadata": {},
   "outputs": [],
   "source": [
    "config = {\n",
    "    # Sample a float uniformly between -5.0 and -1.0\n",
    "    \"uniform\": tune.uniform(-5, -1),\n",
    "\n",
    "    # Sample a float uniformly between 3.2 and 5.4,\n",
    "    # rounding to multiples of 0.2\n",
    "    \"quniform\": tune.quniform(3.2, 5.4, 0.2),\n",
    "\n",
    "    # Sample a float uniformly between 0.0001 and 0.01, while\n",
    "    # sampling in log space\n",
    "    \"loguniform\": tune.loguniform(1e-4, 1e-2),\n",
    "\n",
    "    # Sample a float uniformly between 0.0001 and 0.1, while\n",
    "    # sampling in log space and rounding to multiples of 0.00005\n",
    "    \"qloguniform\": tune.qloguniform(1e-4, 1e-1, 5e-5),\n",
    "\n",
    "    # Sample a random float from a normal distribution with\n",
    "    # mean=10 and sd=2\n",
    "    \"randn\": tune.randn(10, 2),\n",
    "\n",
    "    # Sample a random float from a normal distribution with\n",
    "    # mean=10 and sd=2, rounding to multiples of 0.2\n",
    "    \"qrandn\": tune.qrandn(10, 2, 0.2),\n",
    "\n",
    "    # Sample a integer uniformly between -9 (inclusive) and 15 (exclusive)\n",
    "    \"randint\": tune.randint(-9, 15),\n",
    "\n",
    "    # Sample a random uniformly between -21 (inclusive) and 12 (inclusive (!))\n",
    "    # rounding to multiples of 3 (includes 12)\n",
    "    # if q is 1, then randint is called instead with the upper bound exclusive\n",
    "    \"qrandint\": tune.qrandint(-21, 12, 3),\n",
    "\n",
    "    # Sample a integer uniformly between 1 (inclusive) and 10 (exclusive),\n",
    "    # while sampling in log space\n",
    "    \"lograndint\": tune.lograndint(1, 10),\n",
    "\n",
    "    # Sample a integer uniformly between 1 (inclusive) and 10 (inclusive (!)),\n",
    "    # while sampling in log space and rounding to multiples of 2\n",
    "    # if q is 1, then lograndint is called instead with the upper bound exclusive\n",
    "    \"qlograndint\": tune.qlograndint(1, 10, 2),\n",
    "\n",
    "    # Sample an option uniformly from the specified choices\n",
    "    \"choice\": tune.choice([\"a\", \"b\", \"c\"]),\n",
    "\n",
    "    # Sample from a random function, in this case one that\n",
    "    # depends on another value from the search space\n",
    "    \"func\": tune.sample_from(lambda spec: spec.config.uniform * 0.01),\n",
    "\n",
    "    # Do a grid search over these values. Every value will be sampled\n",
    "    # ``num_samples`` times (``num_samples`` is the parameter you pass to ``tune.TuneConfig``,\n",
    "    # which is taken in by ``Tuner``)\n",
    "    \"grid\": tune.grid_search([32, 64, 128])\n",
    "}"
   ]
  },
  {
   "cell_type": "markdown",
   "metadata": {},
   "source": [
    "### Tune Trials\n",
    "\n",
    "* use `Tuner.fit(...)` to execute and manage hyperparameter tuning and generate your `trials`.\n",
    "    * At a minimum, your `Tuner` call takes in a trainable as first argument, and a `param_space` dictionary to define the search space.\n",
    "    * It also provides many features such as logging, checkpointing, and early stopping.\n",
    "    * It will generate a couple of hyperparameter configurations from its arguments, wrapping them into `Trial` objects.\n",
    "        * A `Trial` object holds the state for one model training run."
   ]
  },
  {
   "cell_type": "code",
   "execution_count": 11,
   "metadata": {},
   "outputs": [
    {
     "data": {
      "text/html": [
       "<div class=\"tuneStatus\">\n",
       "  <div style=\"display: flex;flex-direction: row\">\n",
       "    <div style=\"display: flex;flex-direction: column;\">\n",
       "      <h3>Tune Status</h3>\n",
       "      <table>\n",
       "<tbody>\n",
       "<tr><td>Current time:</td><td>2024-11-08 09:42:50</td></tr>\n",
       "<tr><td>Running for: </td><td>00:00:10.34        </td></tr>\n",
       "<tr><td>Memory:      </td><td>10.9/15.9 GiB      </td></tr>\n",
       "</tbody>\n",
       "</table>\n",
       "    </div>\n",
       "    <div class=\"vDivider\"></div>\n",
       "    <div class=\"systemInfo\">\n",
       "      <h3>System Info</h3>\n",
       "      Using FIFO scheduling algorithm.<br>Logical resource usage: 2.0/12 CPUs, 0/1 GPUs (0.0/1.0 accelerator_type:G)\n",
       "    </div>\n",
       "    \n",
       "  </div>\n",
       "  <div class=\"hDivider\"></div>\n",
       "  <div class=\"trialStatus\">\n",
       "    <h3>Trial Status</h3>\n",
       "    <table>\n",
       "<thead>\n",
       "<tr><th>Trial name           </th><th>status    </th><th>loc            </th><th style=\"text-align: right;\">        a</th><th style=\"text-align: right;\">        b</th><th style=\"text-align: right;\">  iter</th><th style=\"text-align: right;\">  total time (s)</th><th style=\"text-align: right;\">   score</th></tr>\n",
       "</thead>\n",
       "<tbody>\n",
       "<tr><td>trainable_bd6e1_00000</td><td>TERMINATED</td><td>127.0.0.1:33752</td><td style=\"text-align: right;\">0.136729 </td><td style=\"text-align: right;\">0.286098 </td><td style=\"text-align: right;\">    20</td><td style=\"text-align: right;\">      0.00809741</td><td style=\"text-align: right;\">0.882084</td></tr>\n",
       "<tr><td>trainable_bd6e1_00001</td><td>TERMINATED</td><td>127.0.0.1:34664</td><td style=\"text-align: right;\">0.0950296</td><td style=\"text-align: right;\">0.319402 </td><td style=\"text-align: right;\">    20</td><td style=\"text-align: right;\">      0.0044055 </td><td style=\"text-align: right;\">0.733626</td></tr>\n",
       "<tr><td>trainable_bd6e1_00002</td><td>TERMINATED</td><td>127.0.0.1:29508</td><td style=\"text-align: right;\">0.905994 </td><td style=\"text-align: right;\">0.0122172</td><td style=\"text-align: right;\">    20</td><td style=\"text-align: right;\">      0.00504971</td><td style=\"text-align: right;\">3.96135 </td></tr>\n",
       "<tr><td>trainable_bd6e1_00003</td><td>TERMINATED</td><td>127.0.0.1:19228</td><td style=\"text-align: right;\">0.624815 </td><td style=\"text-align: right;\">0.309932 </td><td style=\"text-align: right;\">    20</td><td style=\"text-align: right;\">      0.00350285</td><td style=\"text-align: right;\">3.03344 </td></tr>\n",
       "<tr><td>trainable_bd6e1_00004</td><td>TERMINATED</td><td>127.0.0.1:36364</td><td style=\"text-align: right;\">0.925151 </td><td style=\"text-align: right;\">0.592495 </td><td style=\"text-align: right;\">    20</td><td style=\"text-align: right;\">      0.00200796</td><td style=\"text-align: right;\">4.62513 </td></tr>\n",
       "<tr><td>trainable_bd6e1_00005</td><td>TERMINATED</td><td>127.0.0.1:10540</td><td style=\"text-align: right;\">0.316234 </td><td style=\"text-align: right;\">0.212168 </td><td style=\"text-align: right;\">    20</td><td style=\"text-align: right;\">      0.00184441</td><td style=\"text-align: right;\">1.5906  </td></tr>\n",
       "<tr><td>trainable_bd6e1_00006</td><td>TERMINATED</td><td>127.0.0.1:35700</td><td style=\"text-align: right;\">0.0984393</td><td style=\"text-align: right;\">0.735727 </td><td style=\"text-align: right;\">    20</td><td style=\"text-align: right;\">      0.00530529</td><td style=\"text-align: right;\">1.16481 </td></tr>\n",
       "<tr><td>trainable_bd6e1_00007</td><td>TERMINATED</td><td>127.0.0.1:37228</td><td style=\"text-align: right;\">0.306323 </td><td style=\"text-align: right;\">0.900567 </td><td style=\"text-align: right;\">    20</td><td style=\"text-align: right;\">      0.00100756</td><td style=\"text-align: right;\">2.2358  </td></tr>\n",
       "<tr><td>trainable_bd6e1_00008</td><td>TERMINATED</td><td>127.0.0.1:12036</td><td style=\"text-align: right;\">0.766901 </td><td style=\"text-align: right;\">0.981627 </td><td style=\"text-align: right;\">    20</td><td style=\"text-align: right;\">      0.00299883</td><td style=\"text-align: right;\">4.32447 </td></tr>\n",
       "<tr><td>trainable_bd6e1_00009</td><td>TERMINATED</td><td>127.0.0.1:29916</td><td style=\"text-align: right;\">0.609523 </td><td style=\"text-align: right;\">0.0566534</td><td style=\"text-align: right;\">    20</td><td style=\"text-align: right;\">      0.00551176</td><td style=\"text-align: right;\">2.7135  </td></tr>\n",
       "</tbody>\n",
       "</table>\n",
       "  </div>\n",
       "</div>\n",
       "<style>\n",
       ".tuneStatus {\n",
       "  color: var(--jp-ui-font-color1);\n",
       "}\n",
       ".tuneStatus .systemInfo {\n",
       "  display: flex;\n",
       "  flex-direction: column;\n",
       "}\n",
       ".tuneStatus td {\n",
       "  white-space: nowrap;\n",
       "}\n",
       ".tuneStatus .trialStatus {\n",
       "  display: flex;\n",
       "  flex-direction: column;\n",
       "}\n",
       ".tuneStatus h3 {\n",
       "  font-weight: bold;\n",
       "}\n",
       ".tuneStatus .hDivider {\n",
       "  border-bottom-width: var(--jp-border-width);\n",
       "  border-bottom-color: var(--jp-border-color0);\n",
       "  border-bottom-style: solid;\n",
       "}\n",
       ".tuneStatus .vDivider {\n",
       "  border-left-width: var(--jp-border-width);\n",
       "  border-left-color: var(--jp-border-color0);\n",
       "  border-left-style: solid;\n",
       "  margin: 0.5em 1em 0.5em 1em;\n",
       "}\n",
       "</style>\n"
      ],
      "text/plain": [
       "<IPython.core.display.HTML object>"
      ]
     },
     "metadata": {},
     "output_type": "display_data"
    },
    {
     "name": "stderr",
     "output_type": "stream",
     "text": [
      "2024-11-08 09:42:50,536\tINFO tune.py:1009 -- Wrote the latest version of all result files and experiment state to 'C:/Users/JCA/ray_results/trainable_2024-11-08_09-42-29' in 0.0604s.\n",
      "2024-11-08 09:42:50,571\tINFO tune.py:1041 -- Total run time: 10.41 seconds (10.28 seconds for the tuning loop).\n"
     ]
    }
   ],
   "source": [
    "space = {\"a\": tune.uniform(0, 1), \"b\": tune.uniform(0, 1)}\n",
    "tuner = tune.Tuner(\n",
    "    trainable, param_space=space, tune_config=tune.TuneConfig(num_samples=10)\n",
    ")\n",
    "tuner.fit()\n",
    "\n",
    "results = tuner.fit()"
   ]
  },
  {
   "cell_type": "code",
   "execution_count": 12,
   "metadata": {},
   "outputs": [
    {
     "name": "stdout",
     "output_type": "stream",
     "text": [
      "{'a': 0.095029554834962, 'b': 0.31940156398013086}\n"
     ]
    }
   ],
   "source": [
    "print(\n",
    "    results.get_best_result(metric='score', mode='min').config\n",
    ")"
   ]
  },
  {
   "cell_type": "markdown",
   "metadata": {},
   "source": [
    "### Tune Search Algorithms\n",
    "\n",
    "* Default Search Algorithm is random\n",
    "* [Available search algorithms in Tune](https://docs.ray.io/en/latest/tune/key-concepts.html)\n",
    "* [Search Algorithms APIs](https://docs.ray.io/en/latest/tune/api/suggestion.html#tune-search-alg)"
   ]
  },
  {
   "cell_type": "code",
   "execution_count": 20,
   "metadata": {},
   "outputs": [],
   "source": [
    "from ray.tune.search.optuna import OptunaSearch"
   ]
  },
  {
   "cell_type": "code",
   "execution_count": 21,
   "metadata": {},
   "outputs": [
    {
     "data": {
      "text/html": [
       "<div class=\"tuneStatus\">\n",
       "  <div style=\"display: flex;flex-direction: row\">\n",
       "    <div style=\"display: flex;flex-direction: column;\">\n",
       "      <h3>Tune Status</h3>\n",
       "      <table>\n",
       "<tbody>\n",
       "<tr><td>Current time:</td><td>2024-11-08 10:13:47</td></tr>\n",
       "<tr><td>Running for: </td><td>00:00:04.61        </td></tr>\n",
       "<tr><td>Memory:      </td><td>10.9/15.9 GiB      </td></tr>\n",
       "</tbody>\n",
       "</table>\n",
       "    </div>\n",
       "    <div class=\"vDivider\"></div>\n",
       "    <div class=\"systemInfo\">\n",
       "      <h3>System Info</h3>\n",
       "      Using FIFO scheduling algorithm.<br>Logical resource usage: 1.0/12 CPUs, 0/1 GPUs (0.0/1.0 accelerator_type:G)\n",
       "    </div>\n",
       "    \n",
       "  </div>\n",
       "  <div class=\"hDivider\"></div>\n",
       "  <div class=\"trialStatus\">\n",
       "    <h3>Trial Status</h3>\n",
       "    <table>\n",
       "<thead>\n",
       "<tr><th>Trial name        </th><th>status    </th><th>loc            </th><th style=\"text-align: right;\">       a</th><th style=\"text-align: right;\">      b</th><th style=\"text-align: right;\">  iter</th><th style=\"text-align: right;\">  total time (s)</th><th style=\"text-align: right;\">  score</th></tr>\n",
       "</thead>\n",
       "<tbody>\n",
       "<tr><td>trainable_43483a0b</td><td>TERMINATED</td><td>127.0.0.1:20608</td><td style=\"text-align: right;\">0.989215</td><td style=\"text-align: right;\">1.27251</td><td style=\"text-align: right;\">    20</td><td style=\"text-align: right;\">      0.00400639</td><td style=\"text-align: right;\">5.58439</td></tr>\n",
       "</tbody>\n",
       "</table>\n",
       "  </div>\n",
       "</div>\n",
       "<style>\n",
       ".tuneStatus {\n",
       "  color: var(--jp-ui-font-color1);\n",
       "}\n",
       ".tuneStatus .systemInfo {\n",
       "  display: flex;\n",
       "  flex-direction: column;\n",
       "}\n",
       ".tuneStatus td {\n",
       "  white-space: nowrap;\n",
       "}\n",
       ".tuneStatus .trialStatus {\n",
       "  display: flex;\n",
       "  flex-direction: column;\n",
       "}\n",
       ".tuneStatus h3 {\n",
       "  font-weight: bold;\n",
       "}\n",
       ".tuneStatus .hDivider {\n",
       "  border-bottom-width: var(--jp-border-width);\n",
       "  border-bottom-color: var(--jp-border-color0);\n",
       "  border-bottom-style: solid;\n",
       "}\n",
       ".tuneStatus .vDivider {\n",
       "  border-left-width: var(--jp-border-width);\n",
       "  border-left-color: var(--jp-border-color0);\n",
       "  border-left-style: solid;\n",
       "  margin: 0.5em 1em 0.5em 1em;\n",
       "}\n",
       "</style>\n"
      ],
      "text/plain": [
       "<IPython.core.display.HTML object>"
      ]
     },
     "metadata": {},
     "output_type": "display_data"
    },
    {
     "name": "stderr",
     "output_type": "stream",
     "text": [
      "2024-11-08 10:13:47,439\tINFO tune.py:1009 -- Wrote the latest version of all result files and experiment state to 'C:/Users/JCA/ray_results/trainable_2024-11-08_10-13-42' in 0.0133s.\n",
      "2024-11-08 10:13:47,456\tINFO tune.py:1041 -- Total run time: 4.64 seconds (4.60 seconds for the tuning loop).\n"
     ]
    },
    {
     "data": {
      "text/plain": [
       "ResultGrid<[\n",
       "  Result(\n",
       "    metrics={'score': 5.5843927682860155},\n",
       "    path='C:/Users/JCA/ray_results/trainable_2024-11-08_10-13-42/trainable_43483a0b_1_a=0.9892,b=1.2725_2024-11-08_10-13-42',\n",
       "    filesystem='local',\n",
       "    checkpoint=None\n",
       "  )\n",
       "]>"
      ]
     },
     "execution_count": 21,
     "metadata": {},
     "output_type": "execute_result"
    }
   ],
   "source": [
    "search_space = {\"a\": tune.uniform(0, 1), \"b\": tune.uniform(0, 20)}\n",
    "\n",
    "algo = OptunaSearch()\n",
    "\n",
    "tuner = tune.Tuner(\n",
    "    trainable,\n",
    "    tune_config=tune.TuneConfig(\n",
    "        metric='score', mode='min', search_alg=algo\n",
    "    ),\n",
    "    run_config=train.RunConfig(stop={'training_iteration':20}),\n",
    "    param_space=search_space\n",
    ")\n",
    "\n",
    "tuner.fit()"
   ]
  },
  {
   "cell_type": "markdown",
   "metadata": {},
   "source": [
    "# Quickstart"
   ]
  },
  {
   "cell_type": "code",
   "execution_count": null,
   "metadata": {},
   "outputs": [
    {
     "data": {
      "text/html": [
       "<div class=\"tuneStatus\">\n",
       "  <div style=\"display: flex;flex-direction: row\">\n",
       "    <div style=\"display: flex;flex-direction: column;\">\n",
       "      <h3>Tune Status</h3>\n",
       "      <table>\n",
       "<tbody>\n",
       "<tr><td>Current time:</td><td>2024-11-08 08:03:25</td></tr>\n",
       "<tr><td>Running for: </td><td>00:00:06.25        </td></tr>\n",
       "<tr><td>Memory:      </td><td>11.7/15.9 GiB      </td></tr>\n",
       "</tbody>\n",
       "</table>\n",
       "    </div>\n",
       "    <div class=\"vDivider\"></div>\n",
       "    <div class=\"systemInfo\">\n",
       "      <h3>System Info</h3>\n",
       "      Using FIFO scheduling algorithm.<br>Logical resource usage: 2.0/12 CPUs, 0/1 GPUs (0.0/1.0 accelerator_type:G)\n",
       "    </div>\n",
       "    \n",
       "  </div>\n",
       "  <div class=\"hDivider\"></div>\n",
       "  <div class=\"trialStatus\">\n",
       "    <h3>Trial Status</h3>\n",
       "    <table>\n",
       "<thead>\n",
       "<tr><th>Trial name           </th><th>status    </th><th>loc            </th><th style=\"text-align: right;\">    a</th><th style=\"text-align: right;\">  b</th><th style=\"text-align: right;\">  iter</th><th style=\"text-align: right;\">  total time (s)</th><th style=\"text-align: right;\">  score</th></tr>\n",
       "</thead>\n",
       "<tbody>\n",
       "<tr><td>objective_dc73b_00000</td><td>TERMINATED</td><td>127.0.0.1:15276</td><td style=\"text-align: right;\">0.001</td><td style=\"text-align: right;\">  2</td><td style=\"text-align: right;\">     1</td><td style=\"text-align: right;\">     0.000313044</td><td style=\"text-align: right;\"> 2     </td></tr>\n",
       "<tr><td>objective_dc73b_00001</td><td>TERMINATED</td><td>127.0.0.1:32308</td><td style=\"text-align: right;\">0.01 </td><td style=\"text-align: right;\">  1</td><td style=\"text-align: right;\">     1</td><td style=\"text-align: right;\">     0.00100708 </td><td style=\"text-align: right;\"> 1.0001</td></tr>\n",
       "<tr><td>objective_dc73b_00002</td><td>TERMINATED</td><td>127.0.0.1:31572</td><td style=\"text-align: right;\">0.1  </td><td style=\"text-align: right;\">  1</td><td style=\"text-align: right;\">     1</td><td style=\"text-align: right;\">     0          </td><td style=\"text-align: right;\"> 1.01  </td></tr>\n",
       "<tr><td>objective_dc73b_00003</td><td>TERMINATED</td><td>127.0.0.1:31188</td><td style=\"text-align: right;\">1    </td><td style=\"text-align: right;\">  3</td><td style=\"text-align: right;\">     1</td><td style=\"text-align: right;\">     0.00101137 </td><td style=\"text-align: right;\"> 4     </td></tr>\n",
       "</tbody>\n",
       "</table>\n",
       "  </div>\n",
       "</div>\n",
       "<style>\n",
       ".tuneStatus {\n",
       "  color: var(--jp-ui-font-color1);\n",
       "}\n",
       ".tuneStatus .systemInfo {\n",
       "  display: flex;\n",
       "  flex-direction: column;\n",
       "}\n",
       ".tuneStatus td {\n",
       "  white-space: nowrap;\n",
       "}\n",
       ".tuneStatus .trialStatus {\n",
       "  display: flex;\n",
       "  flex-direction: column;\n",
       "}\n",
       ".tuneStatus h3 {\n",
       "  font-weight: bold;\n",
       "}\n",
       ".tuneStatus .hDivider {\n",
       "  border-bottom-width: var(--jp-border-width);\n",
       "  border-bottom-color: var(--jp-border-color0);\n",
       "  border-bottom-style: solid;\n",
       "}\n",
       ".tuneStatus .vDivider {\n",
       "  border-left-width: var(--jp-border-width);\n",
       "  border-left-color: var(--jp-border-color0);\n",
       "  border-left-style: solid;\n",
       "  margin: 0.5em 1em 0.5em 1em;\n",
       "}\n",
       "</style>\n"
      ],
      "text/plain": [
       "<IPython.core.display.HTML object>"
      ]
     },
     "metadata": {},
     "output_type": "display_data"
    },
    {
     "name": "stderr",
     "output_type": "stream",
     "text": [
      "2024-11-08 08:03:25,524\tINFO tune.py:1009 -- Wrote the latest version of all result files and experiment state to 'C:/Users/JCA/ray_results/objective_2024-11-08_08-03-19' in 0.0191s.\n",
      "2024-11-08 08:03:25,549\tINFO tune.py:1041 -- Total run time: 6.29 seconds (6.23 seconds for the tuning loop).\n"
     ]
    }
   ],
   "source": [
    "\n",
    "def objective(config):\n",
    "    score = config['a']**2 + config['b']\n",
    "    return {'score':score}\n",
    "\n",
    "search_space = {\n",
    "    'a': tune.grid_search([0.001, 0.01, 0.1, 1.0]),\n",
    "    'b': tune.choice([1, 2, 3])\n",
    "}\n",
    "\n",
    "tuner = tune.Tuner(objective, param_space = search_space)\n",
    "\n",
    "results = tuner.fit()"
   ]
  },
  {
   "cell_type": "code",
   "execution_count": null,
   "metadata": {},
   "outputs": [
    {
     "name": "stdout",
     "output_type": "stream",
     "text": [
      "{'a': 0.01, 'b': 1}\n"
     ]
    }
   ],
   "source": [
    "print(\n",
    "    results.get_best_result(metric='score', mode='min').config\n",
    ")"
   ]
  },
  {
   "cell_type": "code",
   "execution_count": null,
   "metadata": {},
   "outputs": [
    {
     "data": {
      "text/html": [
       "<div>\n",
       "<style scoped>\n",
       "    .dataframe tbody tr th:only-of-type {\n",
       "        vertical-align: middle;\n",
       "    }\n",
       "\n",
       "    .dataframe tbody tr th {\n",
       "        vertical-align: top;\n",
       "    }\n",
       "\n",
       "    .dataframe thead th {\n",
       "        text-align: right;\n",
       "    }\n",
       "</style>\n",
       "<table border=\"1\" class=\"dataframe\">\n",
       "  <thead>\n",
       "    <tr style=\"text-align: right;\">\n",
       "      <th></th>\n",
       "      <th>score</th>\n",
       "      <th>timestamp</th>\n",
       "      <th>checkpoint_dir_name</th>\n",
       "      <th>done</th>\n",
       "      <th>training_iteration</th>\n",
       "      <th>trial_id</th>\n",
       "      <th>date</th>\n",
       "      <th>time_this_iter_s</th>\n",
       "      <th>time_total_s</th>\n",
       "      <th>pid</th>\n",
       "      <th>hostname</th>\n",
       "      <th>node_ip</th>\n",
       "      <th>time_since_restore</th>\n",
       "      <th>iterations_since_restore</th>\n",
       "      <th>config/a</th>\n",
       "      <th>config/b</th>\n",
       "      <th>logdir</th>\n",
       "    </tr>\n",
       "  </thead>\n",
       "  <tbody>\n",
       "    <tr>\n",
       "      <th>0</th>\n",
       "      <td>2.000001</td>\n",
       "      <td>1731024205</td>\n",
       "      <td>None</td>\n",
       "      <td>False</td>\n",
       "      <td>1</td>\n",
       "      <td>dc73b_00000</td>\n",
       "      <td>2024-11-08_08-03-25</td>\n",
       "      <td>0.000313</td>\n",
       "      <td>0.000313</td>\n",
       "      <td>15276</td>\n",
       "      <td>JCA</td>\n",
       "      <td>127.0.0.1</td>\n",
       "      <td>0.000313</td>\n",
       "      <td>1</td>\n",
       "      <td>0.001</td>\n",
       "      <td>2</td>\n",
       "      <td>dc73b_00000</td>\n",
       "    </tr>\n",
       "    <tr>\n",
       "      <th>1</th>\n",
       "      <td>1.000100</td>\n",
       "      <td>1731024205</td>\n",
       "      <td>None</td>\n",
       "      <td>False</td>\n",
       "      <td>1</td>\n",
       "      <td>dc73b_00001</td>\n",
       "      <td>2024-11-08_08-03-25</td>\n",
       "      <td>0.001007</td>\n",
       "      <td>0.001007</td>\n",
       "      <td>32308</td>\n",
       "      <td>JCA</td>\n",
       "      <td>127.0.0.1</td>\n",
       "      <td>0.001007</td>\n",
       "      <td>1</td>\n",
       "      <td>0.010</td>\n",
       "      <td>1</td>\n",
       "      <td>dc73b_00001</td>\n",
       "    </tr>\n",
       "    <tr>\n",
       "      <th>2</th>\n",
       "      <td>1.010000</td>\n",
       "      <td>1731024205</td>\n",
       "      <td>None</td>\n",
       "      <td>False</td>\n",
       "      <td>1</td>\n",
       "      <td>dc73b_00002</td>\n",
       "      <td>2024-11-08_08-03-25</td>\n",
       "      <td>0.000000</td>\n",
       "      <td>0.000000</td>\n",
       "      <td>31572</td>\n",
       "      <td>JCA</td>\n",
       "      <td>127.0.0.1</td>\n",
       "      <td>0.000000</td>\n",
       "      <td>1</td>\n",
       "      <td>0.100</td>\n",
       "      <td>1</td>\n",
       "      <td>dc73b_00002</td>\n",
       "    </tr>\n",
       "    <tr>\n",
       "      <th>3</th>\n",
       "      <td>4.000000</td>\n",
       "      <td>1731024205</td>\n",
       "      <td>None</td>\n",
       "      <td>False</td>\n",
       "      <td>1</td>\n",
       "      <td>dc73b_00003</td>\n",
       "      <td>2024-11-08_08-03-25</td>\n",
       "      <td>0.001011</td>\n",
       "      <td>0.001011</td>\n",
       "      <td>31188</td>\n",
       "      <td>JCA</td>\n",
       "      <td>127.0.0.1</td>\n",
       "      <td>0.001011</td>\n",
       "      <td>1</td>\n",
       "      <td>1.000</td>\n",
       "      <td>3</td>\n",
       "      <td>dc73b_00003</td>\n",
       "    </tr>\n",
       "  </tbody>\n",
       "</table>\n",
       "</div>"
      ],
      "text/plain": [
       "      score   timestamp checkpoint_dir_name   done  training_iteration  \\\n",
       "0  2.000001  1731024205                None  False                   1   \n",
       "1  1.000100  1731024205                None  False                   1   \n",
       "2  1.010000  1731024205                None  False                   1   \n",
       "3  4.000000  1731024205                None  False                   1   \n",
       "\n",
       "      trial_id                 date  time_this_iter_s  time_total_s    pid  \\\n",
       "0  dc73b_00000  2024-11-08_08-03-25          0.000313      0.000313  15276   \n",
       "1  dc73b_00001  2024-11-08_08-03-25          0.001007      0.001007  32308   \n",
       "2  dc73b_00002  2024-11-08_08-03-25          0.000000      0.000000  31572   \n",
       "3  dc73b_00003  2024-11-08_08-03-25          0.001011      0.001011  31188   \n",
       "\n",
       "  hostname    node_ip  time_since_restore  iterations_since_restore  config/a  \\\n",
       "0      JCA  127.0.0.1            0.000313                         1     0.001   \n",
       "1      JCA  127.0.0.1            0.001007                         1     0.010   \n",
       "2      JCA  127.0.0.1            0.000000                         1     0.100   \n",
       "3      JCA  127.0.0.1            0.001011                         1     1.000   \n",
       "\n",
       "   config/b       logdir  \n",
       "0         2  dc73b_00000  \n",
       "1         1  dc73b_00001  \n",
       "2         1  dc73b_00002  \n",
       "3         3  dc73b_00003  "
      ]
     },
     "execution_count": 8,
     "metadata": {},
     "output_type": "execute_result"
    }
   ],
   "source": [
    "results.get_dataframe()"
   ]
  },
  {
   "cell_type": "code",
   "execution_count": null,
   "metadata": {},
   "outputs": [],
   "source": []
  }
 ],
 "metadata": {
  "kernelspec": {
   "display_name": "mle_proj",
   "language": "python",
   "name": "python3"
  },
  "language_info": {
   "codemirror_mode": {
    "name": "ipython",
    "version": 3
   },
   "file_extension": ".py",
   "mimetype": "text/x-python",
   "name": "python",
   "nbconvert_exporter": "python",
   "pygments_lexer": "ipython3",
   "version": "3.12.6"
  }
 },
 "nbformat": 4,
 "nbformat_minor": 2
}
