{
 "cells": [
  {
   "cell_type": "markdown",
   "metadata": {},
   "source": [
    "# Ray Serve\n",
    "\n",
    "* Ray serve is a scalable model serving library for building online inference APIs.\n",
    "    * Framework-agnostic\n",
    "    * Well-suited for model composition"
   ]
  },
  {
   "cell_type": "markdown",
   "metadata": {},
   "source": [
    "# Key Concepts"
   ]
  },
  {
   "cell_type": "markdown",
   "metadata": {},
   "source": [
    "### Deployment\n",
    "\n",
    "* Deployments are the central concept in Ray Serve.\n",
    "    * A deployment contains business logic or an ML model to handle incoming requests and can be scaled up to  run across Ray Cluster.\n",
    "    * At runtime, a deployment consists of a number of replicas, which are individual copies of the class of function that are started in separate Ray Actors (processes). The number of replicas can be scaled up or down (or even autoscaled) to match the incoming request load.\n",
    "    * To define a deployment:\n",
    "        * Use the `@serve.deployment` decorator on a class (or function for simple use cases).\n",
    "        * Then, `bind` the deployment with optional arguments to the constructor to define the application.\n",
    "        * Finally, deploy the resulting application using `serve.run`"
   ]
  },
  {
   "cell_type": "code",
   "execution_count": 2,
   "metadata": {},
   "outputs": [
    {
     "name": "stderr",
     "output_type": "stream",
     "text": [
      "INFO 2024-11-14 18:27:15,753 serve 17528 api.py:259 - Connecting to existing Serve app in namespace \"serve\". New http options will not be applied.\n",
      "INFO 2024-11-14 18:27:19,798 serve 17528 client.py:492 - Deployment 'MyFirstDeployment:42vdi3zg' is ready at `http://127.0.0.1:8000/`. component=serve deployment=MyFirstDeployment\n",
      "INFO 2024-11-14 18:27:19,802 serve 17528 api.py:549 - Deployed app 'default' successfully.\n"
     ]
    }
   ],
   "source": [
    "from ray import serve\n",
    "from ray.serve.handle import DeploymentHandle\n",
    "\n",
    "@serve.deployment\n",
    "class MyFirstDeployment:\n",
    "    # Take the message to return as an argument to the constructor.\n",
    "    def __init__(self, msg):\n",
    "        self.msg = msg\n",
    "    \n",
    "    def __call__(self):\n",
    "        return self.msg\n",
    "    \n",
    "my_first_deployment = MyFirstDeployment.bind(\"Hello world!\")\n",
    "handle: DeploymentHandle = serve.run(my_first_deployment)"
   ]
  },
  {
   "cell_type": "markdown",
   "metadata": {},
   "source": [
    "### Application\n",
    "\n",
    "* An application is the unit of upgrade in a Ray Serve cluster. An application consists of one or more deployments. \n",
    "* One of these deployments is considered the “ingress” deployment, which handles all inbound traffic.\n",
    "\n",
    "* Applications can be called via HTTP at the specified `route_prefix` or in Python using a `DeploymentHandle`."
   ]
  },
  {
   "cell_type": "markdown",
   "metadata": {},
   "source": [
    "### `DeploymentHandle` (composing deployments)\n",
    "\n",
    "* Ray Serve enables flexible model composition and scaling by allowing multiple independent deployments to call into each other.\n",
    "* When binding a deployment, you can include references to other bound deployments. Then, at runtime each of these arguments is converted to a `DeploymentHandle` that can be used to query the deployment using a Python-native API. "
   ]
  },
  {
   "cell_type": "code",
   "execution_count": 3,
   "metadata": {},
   "outputs": [
    {
     "name": "stderr",
     "output_type": "stream",
     "text": [
      "INFO 2024-11-14 18:47:02,469 serve 17528 api.py:259 - Connecting to existing Serve app in namespace \"serve\". New http options will not be applied.\n",
      "INFO 2024-11-14 18:47:05,498 serve 17528 client.py:492 - Deployment 'Hello:lp6t9mbo' is ready. component=serve deployment=Hello\n",
      "INFO 2024-11-14 18:47:05,499 serve 17528 client.py:492 - Deployment 'World:lptc9rl5' is ready. component=serve deployment=World\n",
      "INFO 2024-11-14 18:47:05,500 serve 17528 client.py:492 - Deployment 'Ingress:56vy2kd0' is ready at `http://127.0.0.1:8000/`. component=serve deployment=Ingress\n",
      "INFO 2024-11-14 18:47:05,504 serve 17528 api.py:549 - Deployed app 'default' successfully.\n"
     ]
    }
   ],
   "source": [
    "from ray import serve\n",
    "from ray.serve.handle import DeploymentHandle\n",
    "\n",
    "@serve.deployment\n",
    "class Hello:\n",
    "    def __call__(self) -> str:\n",
    "        return \"Hello\"\n",
    "\n",
    "@serve.deployment\n",
    "class World:\n",
    "    def __call__(self) -> str:\n",
    "        return \" world!\"\n",
    "    \n",
    "@serve.deployment\n",
    "class Ingress:\n",
    "    def __init__(self, hello_handle: DeploymentHandle, world_handle: DeploymentHandle):\n",
    "        self._hello_handle = hello_handle\n",
    "        self._world_handle = world_handle\n",
    "\n",
    "    async def __call__(self) -> str:\n",
    "        hello_response = self._hello_handle.remote()\n",
    "        world_response = self._world_handle.remote()\n",
    "        return (await hello_response) + (await world_response)\n",
    "    \n",
    "hello = Hello.bind()\n",
    "world = World.bind()\n",
    "\n",
    "# The deployments passed to the Ingress constructor are replaced with handles.\n",
    "app = Ingress.bind(hello, world)\n",
    "\n",
    "# Deploys Hello, World, and Ingress.\n",
    "handle: DeploymentHandle = serve.run(app)"
   ]
  },
  {
   "cell_type": "markdown",
   "metadata": {},
   "source": [
    "### Ingress Deployment (HTTP Handling)\n",
    "\n",
    "* A serve application can consist of multiple deployments that can be combined to perform model composition or complex business logic. \n",
    "    * However, one deployment is always the \"top-level\" one that is passed to  `serve.run` to deploy the application. This deployment is called the \"ingress deployment\" because it serves as the entrypoint for all traffic to the application. * Often, it then routes to other deployments or calls into them usin the `DeploymentHandle` API, and composes the results before returning to the user.\n",
    "\n",
    "* The ingress deployment defines the HTTP handling logic for the application.\n",
    "    * By default, the `__call__` method of the class is called and passed in a Starlette `request` object. \n",
    "    * The response will be serialized as JSON, but other Starlette response objects can also be returned directly."
   ]
  },
  {
   "cell_type": "code",
   "execution_count": 4,
   "metadata": {},
   "outputs": [
    {
     "name": "stderr",
     "output_type": "stream",
     "text": [
      "INFO 2024-11-14 19:02:15,287 serve 17528 api.py:259 - Connecting to existing Serve app in namespace \"serve\". New http options will not be applied.\n",
      "INFO 2024-11-14 19:02:17,308 serve 17528 client.py:492 - Deployment 'MostBasicIngress:0w54a9l9' is ready at `http://127.0.0.1:8000/`. component=serve deployment=MostBasicIngress\n",
      "INFO 2024-11-14 19:02:17,312 serve 17528 api.py:549 - Deployed app 'default' successfully.\n"
     ]
    },
    {
     "data": {
      "text/plain": [
       "DeploymentHandle(deployment='MostBasicIngress')"
      ]
     },
     "execution_count": 4,
     "metadata": {},
     "output_type": "execute_result"
    }
   ],
   "source": [
    "import requests\n",
    "from starlette.requests import Request\n",
    "\n",
    "from ray import serve\n",
    "\n",
    "\n",
    "@serve.deployment\n",
    "class MostBasicIngress:\n",
    "    async def __call__(self, request: Request) -> str:\n",
    "        name = (await request.json())[\"name\"]\n",
    "        return f\"Hello {name}!\"\n",
    "    \n",
    "app = MostBasicIngress.bind()\n",
    "serve.run(app)"
   ]
  },
  {
   "cell_type": "code",
   "execution_count": null,
   "metadata": {},
   "outputs": [
    {
     "data": {
      "text/plain": [
       "'Hello Corey!'"
      ]
     },
     "execution_count": 7,
     "metadata": {},
     "output_type": "execute_result"
    },
    {
     "ename": "",
     "evalue": "",
     "output_type": "error",
     "traceback": [
      "\u001b[1;31mThe Kernel crashed while executing code in the current cell or a previous cell. \n",
      "\u001b[1;31mPlease review the code in the cell(s) to identify a possible cause of the failure. \n",
      "\u001b[1;31mClick <a href='https://aka.ms/vscodeJupyterKernelCrash'>here</a> for more info. \n",
      "\u001b[1;31mView Jupyter <a href='command:jupyter.viewOutput'>log</a> for further details."
     ]
    }
   ],
   "source": [
    "requests.get(\"http://127.0.0.1:8000/\", json={\"name\": \"Corey\"}).text"
   ]
  },
  {
   "cell_type": "markdown",
   "metadata": {},
   "source": [
    "# Quickstart"
   ]
  },
  {
   "cell_type": "code",
   "execution_count": 1,
   "metadata": {},
   "outputs": [],
   "source": [
    "import requests\n",
    "from starlette.requests import Request\n",
    "from typing import Dict\n",
    "\n",
    "from ray import serve"
   ]
  },
  {
   "cell_type": "code",
   "execution_count": 2,
   "metadata": {},
   "outputs": [
    {
     "name": "stderr",
     "output_type": "stream",
     "text": [
      "2024-11-12 21:40:29,329\tINFO worker.py:1807 -- Started a local Ray instance. View the dashboard at \u001b[1m\u001b[32mhttp://127.0.0.1:8265 \u001b[39m\u001b[22m\n",
      "\u001b[36m(ProxyActor pid=31828)\u001b[0m INFO 2024-11-12 21:40:38,827 proxy 127.0.0.1 proxy.py:1191 - Proxy starting on node fccb8ab9447526fdf3320db14157ba80322942fa7eea38b6abadf950 (HTTP port: 8000).\n",
      "INFO 2024-11-12 21:40:40,441 serve 9360 api.py:277 - Started Serve in namespace \"serve\".\n",
      "\u001b[36m(ServeController pid=29596)\u001b[0m INFO 2024-11-12 21:40:40,549 controller 29596 deployment_state.py:1604 - Deploying new version of Deployment(name='MyModelDeployment', app='default') (initial target replicas: 1).\n",
      "\u001b[36m(ServeController pid=29596)\u001b[0m INFO 2024-11-12 21:40:40,673 controller 29596 deployment_state.py:1850 - Adding 1 replica to Deployment(name='MyModelDeployment', app='default').\n",
      "\u001b[36m(ServeReplica:default:MyModelDeployment pid=33100)\u001b[0m INFO 2024-11-12 21:40:42,724 default_MyModelDeployment s41nlx0n 857f49ff-a984-4420-aeea-489d9481430b / replica.py:378 - __CALL__ OK 6.0ms\n",
      "INFO 2024-11-12 21:40:43,482 serve 9360 client.py:492 - Deployment 'MyModelDeployment:d6y6a08q' is ready at `http://127.0.0.1:8000/`. component=serve deployment=MyModelDeployment\n",
      "INFO 2024-11-12 21:40:43,487 serve 9360 api.py:549 - Deployed app 'default' successfully.\n",
      "\u001b[36m(ServeReplica:default:MyModelDeployment pid=33100)\u001b[0m INFO 2024-11-12 21:40:43,946 default_MyModelDeployment s41nlx0n 31b3dd33-ab82-4aca-8cf3-2afc98e5baa5 /favicon.ico replica.py:378 - __CALL__ OK 3.0ms\n"
     ]
    },
    {
     "name": "stdout",
     "output_type": "stream",
     "text": [
      "{'result': 'Hello world!'}\n"
     ]
    },
    {
     "name": "stderr",
     "output_type": "stream",
     "text": [
      "\u001b[36m(ServeReplica:default:MyModelDeployment pid=33100)\u001b[0m INFO 2024-11-12 21:40:45,550 default_MyModelDeployment s41nlx0n d35de062-0052-4eeb-8eae-2e35c0f75349 / replica.py:378 - __CALL__ OK 3.0ms\n",
      "\u001b[36m(ServeController pid=29596)\u001b[0m INFO 2024-11-12 22:09:07,569 controller 29596 deployment_state.py:1604 - Deploying new version of Deployment(name='Adder', app='default') (initial target replicas: 1).\n",
      "\u001b[36m(ServeController pid=29596)\u001b[0m INFO 2024-11-12 22:09:07,571 controller 29596 deployment_state.py:1604 - Deploying new version of Deployment(name='Adder_1', app='default') (initial target replicas: 1).\n",
      "\u001b[36m(ServeController pid=29596)\u001b[0m INFO 2024-11-12 22:09:07,572 controller 29596 deployment_state.py:1604 - Deploying new version of Deployment(name='Combiner', app='default') (initial target replicas: 1).\n",
      "\u001b[36m(ServeController pid=29596)\u001b[0m INFO 2024-11-12 22:09:07,574 controller 29596 deployment_state.py:1604 - Deploying new version of Deployment(name='Ingress', app='default') (initial target replicas: 1).\n",
      "\u001b[36m(ServeController pid=29596)\u001b[0m INFO 2024-11-12 22:09:07,691 controller 29596 deployment_state.py:1866 - Removing 1 replica from Deployment(name='MyModelDeployment', app='default').\n",
      "\u001b[36m(ServeController pid=29596)\u001b[0m INFO 2024-11-12 22:09:07,692 controller 29596 deployment_state.py:1850 - Adding 1 replica to Deployment(name='Adder', app='default').\n",
      "\u001b[36m(ServeController pid=29596)\u001b[0m INFO 2024-11-12 22:09:07,693 controller 29596 deployment_state.py:1850 - Adding 1 replica to Deployment(name='Adder_1', app='default').\n",
      "\u001b[36m(ServeController pid=29596)\u001b[0m INFO 2024-11-12 22:09:07,695 controller 29596 deployment_state.py:1850 - Adding 1 replica to Deployment(name='Combiner', app='default').\n",
      "\u001b[36m(ServeController pid=29596)\u001b[0m INFO 2024-11-12 22:09:07,696 controller 29596 deployment_state.py:1850 - Adding 1 replica to Deployment(name='Ingress', app='default').\n",
      "\u001b[36m(ServeController pid=29596)\u001b[0m INFO 2024-11-12 22:09:09,932 controller 29596 deployment_state.py:2191 - Replica(id='s41nlx0n', deployment='MyModelDeployment', app='default') is stopped.\n",
      "\u001b[36m(ServeReplica:default:Adder pid=38812)\u001b[0m INFO 2024-11-12 22:09:12,599 default_Adder 7ui5k5gq d88f4b41-7cf5-4b0b-8cda-3e60498a0273 / replica.py:378 - ADD OK 2.9ms\n",
      "\u001b[36m(ServeReplica:default:Adder_1 pid=7800)\u001b[0m INFO 2024-11-12 22:09:12,602 default_Adder_1 u0uj43a4 d88f4b41-7cf5-4b0b-8cda-3e60498a0273 / replica.py:378 - ADD OK 4.0ms\n",
      "\u001b[36m(ServeReplica:default:Combiner pid=24392)\u001b[0m INFO 2024-11-12 22:09:12,608 default_Combiner u6tm9ybh d88f4b41-7cf5-4b0b-8cda-3e60498a0273 / replica.py:378 - AVERAGE OK 3.0ms\n",
      "\u001b[36m(ServeReplica:default:Ingress pid=30500)\u001b[0m INFO 2024-11-12 22:09:12,609 default_Ingress jywrmmcm d88f4b41-7cf5-4b0b-8cda-3e60498a0273 / replica.py:378 - __CALL__ OK 65.6ms\n",
      "\u001b[36m(ServeReplica:default:Ingress pid=30500)\u001b[0m ERROR 2024-11-12 22:09:20,093 default_Ingress jywrmmcm df769a0e-58c7-4609-b41f-20626ac78d0d / replica.py:364 - Request failed:\n",
      "\u001b[36m(ServeReplica:default:Ingress pid=30500)\u001b[0m \u001b[36mray::ServeReplica:default:Ingress.handle_request_with_rejection()\u001b[39m (pid=30500, ip=127.0.0.1)\n",
      "\u001b[36m(ServeReplica:default:Ingress pid=30500)\u001b[0m   File \"d:\\Miniconda\\envs\\mle_proj\\Lib\\site-packages\\ray\\serve\\_private\\utils.py\", line 168, in wrap_to_ray_error\n",
      "\u001b[36m(ServeReplica:default:Ingress pid=30500)\u001b[0m     raise exception\n",
      "\u001b[36m(ServeReplica:default:Ingress pid=30500)\u001b[0m   File \"d:\\Miniconda\\envs\\mle_proj\\Lib\\site-packages\\ray\\serve\\_private\\replica.py\", line 1151, in call_user_method\n",
      "\u001b[36m(ServeReplica:default:Ingress pid=30500)\u001b[0m     await self._call_func_or_gen(\n",
      "\u001b[36m(ServeReplica:default:Ingress pid=30500)\u001b[0m   File \"d:\\Miniconda\\envs\\mle_proj\\Lib\\site-packages\\ray\\serve\\_private\\replica.py\", line 875, in _call_func_or_gen\n",
      "\u001b[36m(ServeReplica:default:Ingress pid=30500)\u001b[0m     result = await result\n",
      "\u001b[36m(ServeReplica:default:Ingress pid=30500)\u001b[0m              ^^^^^^^^^^^^\n",
      "\u001b[36m(ServeReplica:default:Ingress pid=30500)\u001b[0m   File \"D:\\TEMP\\Temp\\ipykernel_9360\\1756459913.py\", line 30, in __call__\n",
      "\u001b[36m(ServeReplica:default:Ingress pid=30500)\u001b[0m   File \"d:\\Miniconda\\envs\\mle_proj\\Lib\\site-packages\\starlette\\requests.py\", line 252, in json\n",
      "\u001b[36m(ServeReplica:default:Ingress pid=30500)\u001b[0m     self._json = json.loads(body)\n",
      "\u001b[36m(ServeReplica:default:Ingress pid=30500)\u001b[0m                  ^^^^^^^^^^^^^^^^\n",
      "\u001b[36m(ServeReplica:default:Ingress pid=30500)\u001b[0m   File \"d:\\Miniconda\\envs\\mle_proj\\Lib\\json\\__init__.py\", line 346, in loads\n",
      "\u001b[36m(ServeReplica:default:Ingress pid=30500)\u001b[0m     return _default_decoder.decode(s)\n",
      "\u001b[36m(ServeReplica:default:Ingress pid=30500)\u001b[0m            ^^^^^^^^^^^^^^^^^^^^^^^^^^\n",
      "\u001b[36m(ServeReplica:default:Ingress pid=30500)\u001b[0m   File \"d:\\Miniconda\\envs\\mle_proj\\Lib\\json\\decoder.py\", line 337, in decode\n",
      "\u001b[36m(ServeReplica:default:Ingress pid=30500)\u001b[0m     obj, end = self.raw_decode(s, idx=_w(s, 0).end())\n",
      "\u001b[36m(ServeReplica:default:Ingress pid=30500)\u001b[0m                ^^^^^^^^^^^^^^^^^^^^^^^^^^^^^^^^^^^^^^\n",
      "\u001b[36m(ServeReplica:default:Ingress pid=30500)\u001b[0m   File \"d:\\Miniconda\\envs\\mle_proj\\Lib\\json\\decoder.py\", line 355, in raw_decode\n",
      "\u001b[36m(ServeReplica:default:Ingress pid=30500)\u001b[0m     raise JSONDecodeError(\"Expecting value\", s, err.value) from None\n",
      "\u001b[36m(ServeReplica:default:Ingress pid=30500)\u001b[0m json.decoder.JSONDecodeError: Expecting value: line 1 column 1 (char 0)\n",
      "\u001b[36m(ServeReplica:default:Ingress pid=30500)\u001b[0m INFO 2024-11-12 22:09:20,094 default_Ingress jywrmmcm df769a0e-58c7-4609-b41f-20626ac78d0d / replica.py:378 - __CALL__ ERROR 161.6ms\n",
      "\u001b[36m(ServeReplica:default:Ingress pid=30500)\u001b[0m ERROR 2024-11-12 22:09:20,414 default_Ingress jywrmmcm c340457c-4ab6-499b-8752-63cfdf45d2e7 /favicon.ico replica.py:364 - Request failed:\n",
      "\u001b[36m(ServeReplica:default:Ingress pid=30500)\u001b[0m \u001b[36mray::ServeReplica:default:Ingress.handle_request_with_rejection()\u001b[39m (pid=30500, ip=127.0.0.1)\n",
      "\u001b[36m(ServeReplica:default:Ingress pid=30500)\u001b[0m   File \"d:\\Miniconda\\envs\\mle_proj\\Lib\\site-packages\\ray\\serve\\_private\\utils.py\", line 168, in wrap_to_ray_error\n",
      "\u001b[36m(ServeReplica:default:Ingress pid=30500)\u001b[0m     raise exception\n",
      "\u001b[36m(ServeReplica:default:Ingress pid=30500)\u001b[0m   File \"d:\\Miniconda\\envs\\mle_proj\\Lib\\site-packages\\ray\\serve\\_private\\replica.py\", line 1151, in call_user_method\n",
      "\u001b[36m(ServeReplica:default:Ingress pid=30500)\u001b[0m     await self._call_func_or_gen(\n",
      "\u001b[36m(ServeReplica:default:Ingress pid=30500)\u001b[0m   File \"d:\\Miniconda\\envs\\mle_proj\\Lib\\site-packages\\ray\\serve\\_private\\replica.py\", line 875, in _call_func_or_gen\n",
      "\u001b[36m(ServeReplica:default:Ingress pid=30500)\u001b[0m     result = await result\n",
      "\u001b[36m(ServeReplica:default:Ingress pid=30500)\u001b[0m              ^^^^^^^^^^^^\n",
      "\u001b[36m(ServeReplica:default:Ingress pid=30500)\u001b[0m   File \"D:\\TEMP\\Temp\\ipykernel_9360\\1756459913.py\", line 30, in __call__\n",
      "\u001b[36m(ServeReplica:default:Ingress pid=30500)\u001b[0m   File \"d:\\Miniconda\\envs\\mle_proj\\Lib\\site-packages\\starlette\\requests.py\", line 252, in json\n",
      "\u001b[36m(ServeReplica:default:Ingress pid=30500)\u001b[0m     self._json = json.loads(body)\n",
      "\u001b[36m(ServeReplica:default:Ingress pid=30500)\u001b[0m                  ^^^^^^^^^^^^^^^^\n",
      "\u001b[36m(ServeReplica:default:Ingress pid=30500)\u001b[0m   File \"d:\\Miniconda\\envs\\mle_proj\\Lib\\json\\__init__.py\", line 346, in loads\n",
      "\u001b[36m(ServeReplica:default:Ingress pid=30500)\u001b[0m     return _default_decoder.decode(s)\n",
      "\u001b[36m(ServeReplica:default:Ingress pid=30500)\u001b[0m            ^^^^^^^^^^^^^^^^^^^^^^^^^^\n",
      "\u001b[36m(ServeReplica:default:Ingress pid=30500)\u001b[0m   File \"d:\\Miniconda\\envs\\mle_proj\\Lib\\json\\decoder.py\", line 337, in decode\n",
      "\u001b[36m(ServeReplica:default:Ingress pid=30500)\u001b[0m     obj, end = self.raw_decode(s, idx=_w(s, 0).end())\n",
      "\u001b[36m(ServeReplica:default:Ingress pid=30500)\u001b[0m                ^^^^^^^^^^^^^^^^^^^^^^^^^^^^^^^^^^^^^^\n",
      "\u001b[36m(ServeReplica:default:Ingress pid=30500)\u001b[0m   File \"d:\\Miniconda\\envs\\mle_proj\\Lib\\json\\decoder.py\", line 355, in raw_decode\n",
      "\u001b[36m(ServeReplica:default:Ingress pid=30500)\u001b[0m     raise JSONDecodeError(\"Expecting value\", s, err.value) from None\n",
      "\u001b[36m(ServeReplica:default:Ingress pid=30500)\u001b[0m json.decoder.JSONDecodeError: Expecting value: line 1 column 1 (char 0)\n",
      "\u001b[36m(ServeReplica:default:Ingress pid=30500)\u001b[0m INFO 2024-11-12 22:09:20,414 default_Ingress jywrmmcm c340457c-4ab6-499b-8752-63cfdf45d2e7 /favicon.ico replica.py:378 - __CALL__ ERROR 11.7ms\n",
      "\u001b[36m(ServeReplica:default:Ingress pid=30500)\u001b[0m ERROR 2024-11-12 22:09:29,644 default_Ingress jywrmmcm 1a711f8d-481c-4f0d-9a6a-35b9b528fc16 / replica.py:364 - Request failed:\n",
      "\u001b[36m(ServeReplica:default:Ingress pid=30500)\u001b[0m \u001b[36mray::ServeReplica:default:Ingress.handle_request_with_rejection()\u001b[39m (pid=30500, ip=127.0.0.1)\n",
      "\u001b[36m(ServeReplica:default:Ingress pid=30500)\u001b[0m   File \"d:\\Miniconda\\envs\\mle_proj\\Lib\\site-packages\\ray\\serve\\_private\\utils.py\", line 168, in wrap_to_ray_error\n",
      "\u001b[36m(ServeReplica:default:Ingress pid=30500)\u001b[0m     raise exception\n",
      "\u001b[36m(ServeReplica:default:Ingress pid=30500)\u001b[0m   File \"d:\\Miniconda\\envs\\mle_proj\\Lib\\site-packages\\ray\\serve\\_private\\replica.py\", line 1151, in call_user_method\n",
      "\u001b[36m(ServeReplica:default:Ingress pid=30500)\u001b[0m     await self._call_func_or_gen(\n",
      "\u001b[36m(ServeReplica:default:Ingress pid=30500)\u001b[0m   File \"d:\\Miniconda\\envs\\mle_proj\\Lib\\site-packages\\ray\\serve\\_private\\replica.py\", line 875, in _call_func_or_gen\n",
      "\u001b[36m(ServeReplica:default:Ingress pid=30500)\u001b[0m     result = await result\n",
      "\u001b[36m(ServeReplica:default:Ingress pid=30500)\u001b[0m              ^^^^^^^^^^^^\n",
      "\u001b[36m(ServeReplica:default:Ingress pid=30500)\u001b[0m   File \"D:\\TEMP\\Temp\\ipykernel_9360\\1756459913.py\", line 30, in __call__\n",
      "\u001b[36m(ServeReplica:default:Ingress pid=30500)\u001b[0m   File \"d:\\Miniconda\\envs\\mle_proj\\Lib\\site-packages\\starlette\\requests.py\", line 252, in json\n",
      "\u001b[36m(ServeReplica:default:Ingress pid=30500)\u001b[0m     self._json = json.loads(body)\n",
      "\u001b[36m(ServeReplica:default:Ingress pid=30500)\u001b[0m                  ^^^^^^^^^^^^^^^^\n",
      "\u001b[36m(ServeReplica:default:Ingress pid=30500)\u001b[0m   File \"d:\\Miniconda\\envs\\mle_proj\\Lib\\json\\__init__.py\", line 346, in loads\n",
      "\u001b[36m(ServeReplica:default:Ingress pid=30500)\u001b[0m     return _default_decoder.decode(s)\n",
      "\u001b[36m(ServeReplica:default:Ingress pid=30500)\u001b[0m            ^^^^^^^^^^^^^^^^^^^^^^^^^^\n",
      "\u001b[36m(ServeReplica:default:Ingress pid=30500)\u001b[0m   File \"d:\\Miniconda\\envs\\mle_proj\\Lib\\json\\decoder.py\", line 337, in decode\n",
      "\u001b[36m(ServeReplica:default:Ingress pid=30500)\u001b[0m     obj, end = self.raw_decode(s, idx=_w(s, 0).end())\n",
      "\u001b[36m(ServeReplica:default:Ingress pid=30500)\u001b[0m                ^^^^^^^^^^^^^^^^^^^^^^^^^^^^^^^^^^^^^^\n",
      "\u001b[36m(ServeReplica:default:Ingress pid=30500)\u001b[0m   File \"d:\\Miniconda\\envs\\mle_proj\\Lib\\json\\decoder.py\", line 355, in raw_decode\n",
      "\u001b[36m(ServeReplica:default:Ingress pid=30500)\u001b[0m     raise JSONDecodeError(\"Expecting value\", s, err.value) from None\n",
      "\u001b[36m(ServeReplica:default:Ingress pid=30500)\u001b[0m json.decoder.JSONDecodeError: Expecting value: line 1 column 1 (char 0)\n",
      "\u001b[36m(ServeReplica:default:Ingress pid=30500)\u001b[0m INFO 2024-11-12 22:09:29,644 default_Ingress jywrmmcm 1a711f8d-481c-4f0d-9a6a-35b9b528fc16 / replica.py:378 - __CALL__ ERROR 7.9ms\n",
      "\u001b[36m(ServeReplica:default:Ingress pid=30500)\u001b[0m ERROR 2024-11-12 22:09:29,891 default_Ingress jywrmmcm a670d0af-79e6-481e-83fb-97b44990b6f8 /favicon.ico replica.py:364 - Request failed:\n",
      "\u001b[36m(ServeReplica:default:Ingress pid=30500)\u001b[0m \u001b[36mray::ServeReplica:default:Ingress.handle_request_with_rejection()\u001b[39m (pid=30500, ip=127.0.0.1)\n",
      "\u001b[36m(ServeReplica:default:Ingress pid=30500)\u001b[0m   File \"d:\\Miniconda\\envs\\mle_proj\\Lib\\site-packages\\ray\\serve\\_private\\utils.py\", line 168, in wrap_to_ray_error\n",
      "\u001b[36m(ServeReplica:default:Ingress pid=30500)\u001b[0m     raise exception\n",
      "\u001b[36m(ServeReplica:default:Ingress pid=30500)\u001b[0m   File \"d:\\Miniconda\\envs\\mle_proj\\Lib\\site-packages\\ray\\serve\\_private\\replica.py\", line 1151, in call_user_method\n",
      "\u001b[36m(ServeReplica:default:Ingress pid=30500)\u001b[0m     await self._call_func_or_gen(\n",
      "\u001b[36m(ServeReplica:default:Ingress pid=30500)\u001b[0m   File \"d:\\Miniconda\\envs\\mle_proj\\Lib\\site-packages\\ray\\serve\\_private\\replica.py\", line 875, in _call_func_or_gen\n",
      "\u001b[36m(ServeReplica:default:Ingress pid=30500)\u001b[0m     result = await result\n",
      "\u001b[36m(ServeReplica:default:Ingress pid=30500)\u001b[0m              ^^^^^^^^^^^^\n",
      "\u001b[36m(ServeReplica:default:Ingress pid=30500)\u001b[0m   File \"D:\\TEMP\\Temp\\ipykernel_9360\\1756459913.py\", line 30, in __call__\n",
      "\u001b[36m(ServeReplica:default:Ingress pid=30500)\u001b[0m   File \"d:\\Miniconda\\envs\\mle_proj\\Lib\\site-packages\\starlette\\requests.py\", line 252, in json\n",
      "\u001b[36m(ServeReplica:default:Ingress pid=30500)\u001b[0m     self._json = json.loads(body)\n",
      "\u001b[36m(ServeReplica:default:Ingress pid=30500)\u001b[0m                  ^^^^^^^^^^^^^^^^\n",
      "\u001b[36m(ServeReplica:default:Ingress pid=30500)\u001b[0m   File \"d:\\Miniconda\\envs\\mle_proj\\Lib\\json\\__init__.py\", line 346, in loads\n",
      "\u001b[36m(ServeReplica:default:Ingress pid=30500)\u001b[0m     return _default_decoder.decode(s)\n",
      "\u001b[36m(ServeReplica:default:Ingress pid=30500)\u001b[0m            ^^^^^^^^^^^^^^^^^^^^^^^^^^\n",
      "\u001b[36m(ServeReplica:default:Ingress pid=30500)\u001b[0m   File \"d:\\Miniconda\\envs\\mle_proj\\Lib\\json\\decoder.py\", line 337, in decode\n",
      "\u001b[36m(ServeReplica:default:Ingress pid=30500)\u001b[0m     obj, end = self.raw_decode(s, idx=_w(s, 0).end())\n",
      "\u001b[36m(ServeReplica:default:Ingress pid=30500)\u001b[0m                ^^^^^^^^^^^^^^^^^^^^^^^^^^^^^^^^^^^^^^\n",
      "\u001b[36m(ServeReplica:default:Ingress pid=30500)\u001b[0m   File \"d:\\Miniconda\\envs\\mle_proj\\Lib\\json\\decoder.py\", line 355, in raw_decode\n",
      "\u001b[36m(ServeReplica:default:Ingress pid=30500)\u001b[0m     raise JSONDecodeError(\"Expecting value\", s, err.value) from None\n",
      "\u001b[36m(ServeReplica:default:Ingress pid=30500)\u001b[0m json.decoder.JSONDecodeError: Expecting value: line 1 column 1 (char 0)\n",
      "\u001b[36m(ServeReplica:default:Ingress pid=30500)\u001b[0m INFO 2024-11-12 22:09:29,891 default_Ingress jywrmmcm a670d0af-79e6-481e-83fb-97b44990b6f8 /favicon.ico replica.py:378 - __CALL__ ERROR 13.8ms\n",
      "\u001b[36m(ServeController pid=29596)\u001b[0m INFO 2024-11-12 22:10:21,779 controller 29596 deployment_state.py:1604 - Deploying new version of Deployment(name='Adder', app='default') (initial target replicas: 1).\n",
      "\u001b[36m(ServeController pid=29596)\u001b[0m INFO 2024-11-12 22:10:21,780 controller 29596 deployment_state.py:1604 - Deploying new version of Deployment(name='Adder_1', app='default') (initial target replicas: 1).\n",
      "\u001b[36m(ServeController pid=29596)\u001b[0m INFO 2024-11-12 22:10:21,781 controller 29596 deployment_state.py:1604 - Deploying new version of Deployment(name='Combiner', app='default') (initial target replicas: 1).\n",
      "\u001b[36m(ServeController pid=29596)\u001b[0m INFO 2024-11-12 22:10:21,783 controller 29596 deployment_state.py:1604 - Deploying new version of Deployment(name='Ingress', app='default') (initial target replicas: 1).\n",
      "\u001b[36m(ServeController pid=29596)\u001b[0m INFO 2024-11-12 22:10:21,889 controller 29596 deployment_state.py:1727 - Stopping 1 replicas of Deployment(name='Adder', app='default') with outdated versions.\n",
      "\u001b[36m(ServeController pid=29596)\u001b[0m INFO 2024-11-12 22:10:21,889 controller 29596 deployment_state.py:1850 - Adding 1 replica to Deployment(name='Adder', app='default').\n",
      "\u001b[36m(ServeController pid=29596)\u001b[0m INFO 2024-11-12 22:10:21,893 controller 29596 deployment_state.py:1727 - Stopping 1 replicas of Deployment(name='Adder_1', app='default') with outdated versions.\n",
      "\u001b[36m(ServeController pid=29596)\u001b[0m INFO 2024-11-12 22:10:21,893 controller 29596 deployment_state.py:1850 - Adding 1 replica to Deployment(name='Adder_1', app='default').\n",
      "\u001b[36m(ServeController pid=29596)\u001b[0m INFO 2024-11-12 22:10:21,897 controller 29596 deployment_state.py:1727 - Stopping 1 replicas of Deployment(name='Combiner', app='default') with outdated versions.\n",
      "\u001b[36m(ServeController pid=29596)\u001b[0m INFO 2024-11-12 22:10:21,898 controller 29596 deployment_state.py:1850 - Adding 1 replica to Deployment(name='Combiner', app='default').\n",
      "\u001b[36m(ServeController pid=29596)\u001b[0m INFO 2024-11-12 22:10:21,902 controller 29596 deployment_state.py:1727 - Stopping 1 replicas of Deployment(name='Ingress', app='default') with outdated versions.\n",
      "\u001b[36m(ServeController pid=29596)\u001b[0m INFO 2024-11-12 22:10:21,903 controller 29596 deployment_state.py:1850 - Adding 1 replica to Deployment(name='Ingress', app='default').\n",
      "\u001b[36m(ServeController pid=29596)\u001b[0m INFO 2024-11-12 22:10:23,940 controller 29596 deployment_state.py:2191 - Replica(id='7ui5k5gq', deployment='Adder', app='default') is stopped.\n",
      "\u001b[36m(ServeController pid=29596)\u001b[0m INFO 2024-11-12 22:10:23,942 controller 29596 deployment_state.py:2191 - Replica(id='u0uj43a4', deployment='Adder_1', app='default') is stopped.\n",
      "\u001b[36m(ServeController pid=29596)\u001b[0m INFO 2024-11-12 22:10:23,945 controller 29596 deployment_state.py:2191 - Replica(id='u6tm9ybh', deployment='Combiner', app='default') is stopped.\n",
      "\u001b[36m(ServeController pid=29596)\u001b[0m INFO 2024-11-12 22:10:23,948 controller 29596 deployment_state.py:2191 - Replica(id='jywrmmcm', deployment='Ingress', app='default') is stopped.\n",
      "\u001b[36m(ServeReplica:default:Adder pid=29616)\u001b[0m INFO 2024-11-12 22:10:26,874 default_Adder 74w3j3o7 0c4ae379-f702-4c60-ac4f-2bd05058d858 / replica.py:378 - ADD OK 3.5ms\n",
      "\u001b[36m(ServeReplica:default:Adder_1 pid=38296)\u001b[0m INFO 2024-11-12 22:10:26,881 default_Adder_1 zoormrrb 0c4ae379-f702-4c60-ac4f-2bd05058d858 / replica.py:378 - ADD OK 3.9ms\n",
      "\u001b[36m(ServeReplica:default:Combiner pid=27196)\u001b[0m INFO 2024-11-12 22:10:26,888 default_Combiner i5we9j18 0c4ae379-f702-4c60-ac4f-2bd05058d858 / replica.py:378 - AVERAGE OK 3.0ms\n",
      "\u001b[36m(ServeReplica:default:Ingress pid=3248)\u001b[0m INFO 2024-11-12 22:10:26,890 default_Ingress yhr8a08d 0c4ae379-f702-4c60-ac4f-2bd05058d858 / replica.py:378 - __CALL__ OK 67.8ms\n",
      "\u001b[36m(ServeReplica:default:Ingress pid=3248)\u001b[0m ERROR 2024-11-12 22:15:15,418 default_Ingress yhr8a08d 681d3a6a-7cf2-48df-b60a-691320398a7c / replica.py:364 - Request failed:\n",
      "\u001b[36m(ServeReplica:default:Ingress pid=3248)\u001b[0m \u001b[36mray::ServeReplica:default:Ingress.handle_request_with_rejection()\u001b[39m (pid=3248, ip=127.0.0.1)\n",
      "\u001b[36m(ServeReplica:default:Ingress pid=3248)\u001b[0m   File \"d:\\Miniconda\\envs\\mle_proj\\Lib\\site-packages\\ray\\serve\\_private\\utils.py\", line 168, in wrap_to_ray_error\n",
      "\u001b[36m(ServeReplica:default:Ingress pid=3248)\u001b[0m     raise exception\n",
      "\u001b[36m(ServeReplica:default:Ingress pid=3248)\u001b[0m   File \"d:\\Miniconda\\envs\\mle_proj\\Lib\\site-packages\\ray\\serve\\_private\\replica.py\", line 1151, in call_user_method\n",
      "\u001b[36m(ServeReplica:default:Ingress pid=3248)\u001b[0m     await self._call_func_or_gen(\n",
      "\u001b[36m(ServeReplica:default:Ingress pid=3248)\u001b[0m   File \"d:\\Miniconda\\envs\\mle_proj\\Lib\\site-packages\\ray\\serve\\_private\\replica.py\", line 875, in _call_func_or_gen\n",
      "\u001b[36m(ServeReplica:default:Ingress pid=3248)\u001b[0m     result = await result\n",
      "\u001b[36m(ServeReplica:default:Ingress pid=3248)\u001b[0m              ^^^^^^^^^^^^\n",
      "\u001b[36m(ServeReplica:default:Ingress pid=3248)\u001b[0m   File \"D:\\TEMP\\Temp\\ipykernel_9360\\1845583349.py\", line 30, in __call__\n",
      "\u001b[36m(ServeReplica:default:Ingress pid=3248)\u001b[0m   File \"d:\\Miniconda\\envs\\mle_proj\\Lib\\site-packages\\starlette\\requests.py\", line 252, in json\n",
      "\u001b[36m(ServeReplica:default:Ingress pid=3248)\u001b[0m     self._json = json.loads(body)\n",
      "\u001b[36m(ServeReplica:default:Ingress pid=3248)\u001b[0m                  ^^^^^^^^^^^^^^^^\n",
      "\u001b[36m(ServeReplica:default:Ingress pid=3248)\u001b[0m   File \"d:\\Miniconda\\envs\\mle_proj\\Lib\\json\\__init__.py\", line 346, in loads\n",
      "\u001b[36m(ServeReplica:default:Ingress pid=3248)\u001b[0m     return _default_decoder.decode(s)\n",
      "\u001b[36m(ServeReplica:default:Ingress pid=3248)\u001b[0m            ^^^^^^^^^^^^^^^^^^^^^^^^^^\n",
      "\u001b[36m(ServeReplica:default:Ingress pid=3248)\u001b[0m   File \"d:\\Miniconda\\envs\\mle_proj\\Lib\\json\\decoder.py\", line 337, in decode\n",
      "\u001b[36m(ServeReplica:default:Ingress pid=3248)\u001b[0m     obj, end = self.raw_decode(s, idx=_w(s, 0).end())\n",
      "\u001b[36m(ServeReplica:default:Ingress pid=3248)\u001b[0m                ^^^^^^^^^^^^^^^^^^^^^^^^^^^^^^^^^^^^^^\n",
      "\u001b[36m(ServeReplica:default:Ingress pid=3248)\u001b[0m   File \"d:\\Miniconda\\envs\\mle_proj\\Lib\\json\\decoder.py\", line 355, in raw_decode\n",
      "\u001b[36m(ServeReplica:default:Ingress pid=3248)\u001b[0m     raise JSONDecodeError(\"Expecting value\", s, err.value) from None\n",
      "\u001b[36m(ServeReplica:default:Ingress pid=3248)\u001b[0m json.decoder.JSONDecodeError: Expecting value: line 1 column 1 (char 0)\n",
      "\u001b[36m(ServeReplica:default:Ingress pid=3248)\u001b[0m INFO 2024-11-12 22:15:15,419 default_Ingress yhr8a08d 681d3a6a-7cf2-48df-b60a-691320398a7c / replica.py:378 - __CALL__ ERROR 11.0ms\n",
      "\u001b[36m(ServeReplica:default:Ingress pid=3248)\u001b[0m ERROR 2024-11-12 22:15:15,687 default_Ingress yhr8a08d 6d9c6d7b-2aee-4b2a-bee0-e832c103d5bc /favicon.ico replica.py:364 - Request failed:\n",
      "\u001b[36m(ServeReplica:default:Ingress pid=3248)\u001b[0m \u001b[36mray::ServeReplica:default:Ingress.handle_request_with_rejection()\u001b[39m (pid=3248, ip=127.0.0.1)\n",
      "\u001b[36m(ServeReplica:default:Ingress pid=3248)\u001b[0m   File \"d:\\Miniconda\\envs\\mle_proj\\Lib\\site-packages\\ray\\serve\\_private\\utils.py\", line 168, in wrap_to_ray_error\n",
      "\u001b[36m(ServeReplica:default:Ingress pid=3248)\u001b[0m     raise exception\n",
      "\u001b[36m(ServeReplica:default:Ingress pid=3248)\u001b[0m   File \"d:\\Miniconda\\envs\\mle_proj\\Lib\\site-packages\\ray\\serve\\_private\\replica.py\", line 1151, in call_user_method\n",
      "\u001b[36m(ServeReplica:default:Ingress pid=3248)\u001b[0m     await self._call_func_or_gen(\n",
      "\u001b[36m(ServeReplica:default:Ingress pid=3248)\u001b[0m   File \"d:\\Miniconda\\envs\\mle_proj\\Lib\\site-packages\\ray\\serve\\_private\\replica.py\", line 875, in _call_func_or_gen\n",
      "\u001b[36m(ServeReplica:default:Ingress pid=3248)\u001b[0m     result = await result\n",
      "\u001b[36m(ServeReplica:default:Ingress pid=3248)\u001b[0m              ^^^^^^^^^^^^\n",
      "\u001b[36m(ServeReplica:default:Ingress pid=3248)\u001b[0m   File \"D:\\TEMP\\Temp\\ipykernel_9360\\1845583349.py\", line 30, in __call__\n",
      "\u001b[36m(ServeReplica:default:Ingress pid=3248)\u001b[0m   File \"d:\\Miniconda\\envs\\mle_proj\\Lib\\site-packages\\starlette\\requests.py\", line 252, in json\n",
      "\u001b[36m(ServeReplica:default:Ingress pid=3248)\u001b[0m     self._json = json.loads(body)\n",
      "\u001b[36m(ServeReplica:default:Ingress pid=3248)\u001b[0m                  ^^^^^^^^^^^^^^^^\n",
      "\u001b[36m(ServeReplica:default:Ingress pid=3248)\u001b[0m   File \"d:\\Miniconda\\envs\\mle_proj\\Lib\\json\\__init__.py\", line 346, in loads\n",
      "\u001b[36m(ServeReplica:default:Ingress pid=3248)\u001b[0m     return _default_decoder.decode(s)\n",
      "\u001b[36m(ServeReplica:default:Ingress pid=3248)\u001b[0m            ^^^^^^^^^^^^^^^^^^^^^^^^^^\n",
      "\u001b[36m(ServeReplica:default:Ingress pid=3248)\u001b[0m   File \"d:\\Miniconda\\envs\\mle_proj\\Lib\\json\\decoder.py\", line 337, in decode\n",
      "\u001b[36m(ServeReplica:default:Ingress pid=3248)\u001b[0m     obj, end = self.raw_decode(s, idx=_w(s, 0).end())\n",
      "\u001b[36m(ServeReplica:default:Ingress pid=3248)\u001b[0m                ^^^^^^^^^^^^^^^^^^^^^^^^^^^^^^^^^^^^^^\n",
      "\u001b[36m(ServeReplica:default:Ingress pid=3248)\u001b[0m   File \"d:\\Miniconda\\envs\\mle_proj\\Lib\\json\\decoder.py\", line 355, in raw_decode\n",
      "\u001b[36m(ServeReplica:default:Ingress pid=3248)\u001b[0m     raise JSONDecodeError(\"Expecting value\", s, err.value) from None\n",
      "\u001b[36m(ServeReplica:default:Ingress pid=3248)\u001b[0m json.decoder.JSONDecodeError: Expecting value: line 1 column 1 (char 0)\n",
      "\u001b[36m(ServeReplica:default:Ingress pid=3248)\u001b[0m INFO 2024-11-12 22:15:15,687 default_Ingress yhr8a08d 6d9c6d7b-2aee-4b2a-bee0-e832c103d5bc /favicon.ico replica.py:378 - __CALL__ ERROR 9.2ms\n",
      "\u001b[36m(ServeReplica:default:Ingress pid=3248)\u001b[0m ERROR 2024-11-12 22:15:17,143 default_Ingress yhr8a08d 65b0d7fd-fe18-4439-a5b6-8ebbd12318c8 / replica.py:364 - Request failed:\n",
      "\u001b[36m(ServeReplica:default:Ingress pid=3248)\u001b[0m \u001b[36mray::ServeReplica:default:Ingress.handle_request_with_rejection()\u001b[39m (pid=3248, ip=127.0.0.1)\n",
      "\u001b[36m(ServeReplica:default:Ingress pid=3248)\u001b[0m   File \"d:\\Miniconda\\envs\\mle_proj\\Lib\\site-packages\\ray\\serve\\_private\\utils.py\", line 168, in wrap_to_ray_error\n",
      "\u001b[36m(ServeReplica:default:Ingress pid=3248)\u001b[0m     raise exception\n",
      "\u001b[36m(ServeReplica:default:Ingress pid=3248)\u001b[0m   File \"d:\\Miniconda\\envs\\mle_proj\\Lib\\site-packages\\ray\\serve\\_private\\replica.py\", line 1151, in call_user_method\n",
      "\u001b[36m(ServeReplica:default:Ingress pid=3248)\u001b[0m     await self._call_func_or_gen(\n",
      "\u001b[36m(ServeReplica:default:Ingress pid=3248)\u001b[0m   File \"d:\\Miniconda\\envs\\mle_proj\\Lib\\site-packages\\ray\\serve\\_private\\replica.py\", line 875, in _call_func_or_gen\n",
      "\u001b[36m(ServeReplica:default:Ingress pid=3248)\u001b[0m     result = await result\n",
      "\u001b[36m(ServeReplica:default:Ingress pid=3248)\u001b[0m              ^^^^^^^^^^^^\n",
      "\u001b[36m(ServeReplica:default:Ingress pid=3248)\u001b[0m   File \"D:\\TEMP\\Temp\\ipykernel_9360\\1845583349.py\", line 30, in __call__\n",
      "\u001b[36m(ServeReplica:default:Ingress pid=3248)\u001b[0m   File \"d:\\Miniconda\\envs\\mle_proj\\Lib\\site-packages\\starlette\\requests.py\", line 252, in json\n",
      "\u001b[36m(ServeReplica:default:Ingress pid=3248)\u001b[0m     self._json = json.loads(body)\n",
      "\u001b[36m(ServeReplica:default:Ingress pid=3248)\u001b[0m                  ^^^^^^^^^^^^^^^^\n",
      "\u001b[36m(ServeReplica:default:Ingress pid=3248)\u001b[0m   File \"d:\\Miniconda\\envs\\mle_proj\\Lib\\json\\__init__.py\", line 346, in loads\n",
      "\u001b[36m(ServeReplica:default:Ingress pid=3248)\u001b[0m     return _default_decoder.decode(s)\n",
      "\u001b[36m(ServeReplica:default:Ingress pid=3248)\u001b[0m            ^^^^^^^^^^^^^^^^^^^^^^^^^^\n",
      "\u001b[36m(ServeReplica:default:Ingress pid=3248)\u001b[0m   File \"d:\\Miniconda\\envs\\mle_proj\\Lib\\json\\decoder.py\", line 337, in decode\n",
      "\u001b[36m(ServeReplica:default:Ingress pid=3248)\u001b[0m     obj, end = self.raw_decode(s, idx=_w(s, 0).end())\n",
      "\u001b[36m(ServeReplica:default:Ingress pid=3248)\u001b[0m                ^^^^^^^^^^^^^^^^^^^^^^^^^^^^^^^^^^^^^^\n",
      "\u001b[36m(ServeReplica:default:Ingress pid=3248)\u001b[0m   File \"d:\\Miniconda\\envs\\mle_proj\\Lib\\json\\decoder.py\", line 355, in raw_decode\n",
      "\u001b[36m(ServeReplica:default:Ingress pid=3248)\u001b[0m     raise JSONDecodeError(\"Expecting value\", s, err.value) from None\n",
      "\u001b[36m(ServeReplica:default:Ingress pid=3248)\u001b[0m json.decoder.JSONDecodeError: Expecting value: line 1 column 1 (char 0)\n",
      "\u001b[36m(ServeReplica:default:Ingress pid=3248)\u001b[0m INFO 2024-11-12 22:15:17,144 default_Ingress yhr8a08d 65b0d7fd-fe18-4439-a5b6-8ebbd12318c8 / replica.py:378 - __CALL__ ERROR 8.8ms\n",
      "\u001b[36m(ServeReplica:default:Ingress pid=3248)\u001b[0m ERROR 2024-11-12 22:15:17,380 default_Ingress yhr8a08d 4b26e0cf-a9c7-4d69-b750-f6a6de43b06d /favicon.ico replica.py:364 - Request failed:\n",
      "\u001b[36m(ServeReplica:default:Ingress pid=3248)\u001b[0m \u001b[36mray::ServeReplica:default:Ingress.handle_request_with_rejection()\u001b[39m (pid=3248, ip=127.0.0.1)\n",
      "\u001b[36m(ServeReplica:default:Ingress pid=3248)\u001b[0m   File \"d:\\Miniconda\\envs\\mle_proj\\Lib\\site-packages\\ray\\serve\\_private\\utils.py\", line 168, in wrap_to_ray_error\n",
      "\u001b[36m(ServeReplica:default:Ingress pid=3248)\u001b[0m     raise exception\n",
      "\u001b[36m(ServeReplica:default:Ingress pid=3248)\u001b[0m   File \"d:\\Miniconda\\envs\\mle_proj\\Lib\\site-packages\\ray\\serve\\_private\\replica.py\", line 1151, in call_user_method\n",
      "\u001b[36m(ServeReplica:default:Ingress pid=3248)\u001b[0m     await self._call_func_or_gen(\n",
      "\u001b[36m(ServeReplica:default:Ingress pid=3248)\u001b[0m   File \"d:\\Miniconda\\envs\\mle_proj\\Lib\\site-packages\\ray\\serve\\_private\\replica.py\", line 875, in _call_func_or_gen\n",
      "\u001b[36m(ServeReplica:default:Ingress pid=3248)\u001b[0m     result = await result\n",
      "\u001b[36m(ServeReplica:default:Ingress pid=3248)\u001b[0m              ^^^^^^^^^^^^\n",
      "\u001b[36m(ServeReplica:default:Ingress pid=3248)\u001b[0m   File \"D:\\TEMP\\Temp\\ipykernel_9360\\1845583349.py\", line 30, in __call__\n",
      "\u001b[36m(ServeReplica:default:Ingress pid=3248)\u001b[0m   File \"d:\\Miniconda\\envs\\mle_proj\\Lib\\site-packages\\starlette\\requests.py\", line 252, in json\n",
      "\u001b[36m(ServeReplica:default:Ingress pid=3248)\u001b[0m     self._json = json.loads(body)\n",
      "\u001b[36m(ServeReplica:default:Ingress pid=3248)\u001b[0m                  ^^^^^^^^^^^^^^^^\n",
      "\u001b[36m(ServeReplica:default:Ingress pid=3248)\u001b[0m   File \"d:\\Miniconda\\envs\\mle_proj\\Lib\\json\\__init__.py\", line 346, in loads\n",
      "\u001b[36m(ServeReplica:default:Ingress pid=3248)\u001b[0m     return _default_decoder.decode(s)\n",
      "\u001b[36m(ServeReplica:default:Ingress pid=3248)\u001b[0m            ^^^^^^^^^^^^^^^^^^^^^^^^^^\n",
      "\u001b[36m(ServeReplica:default:Ingress pid=3248)\u001b[0m   File \"d:\\Miniconda\\envs\\mle_proj\\Lib\\json\\decoder.py\", line 337, in decode\n",
      "\u001b[36m(ServeReplica:default:Ingress pid=3248)\u001b[0m     obj, end = self.raw_decode(s, idx=_w(s, 0).end())\n",
      "\u001b[36m(ServeReplica:default:Ingress pid=3248)\u001b[0m                ^^^^^^^^^^^^^^^^^^^^^^^^^^^^^^^^^^^^^^\n",
      "\u001b[36m(ServeReplica:default:Ingress pid=3248)\u001b[0m   File \"d:\\Miniconda\\envs\\mle_proj\\Lib\\json\\decoder.py\", line 355, in raw_decode\n",
      "\u001b[36m(ServeReplica:default:Ingress pid=3248)\u001b[0m     raise JSONDecodeError(\"Expecting value\", s, err.value) from None\n",
      "\u001b[36m(ServeReplica:default:Ingress pid=3248)\u001b[0m json.decoder.JSONDecodeError: Expecting value: line 1 column 1 (char 0)\n",
      "\u001b[36m(ServeReplica:default:Ingress pid=3248)\u001b[0m INFO 2024-11-12 22:15:17,381 default_Ingress yhr8a08d 4b26e0cf-a9c7-4d69-b750-f6a6de43b06d /favicon.ico replica.py:378 - __CALL__ ERROR 9.9ms\n"
     ]
    }
   ],
   "source": [
    "# 1: Define a ray serve application\n",
    "@serve.deployment\n",
    "class MyModelDeployment:\n",
    "    def __init__(self, msg:str):\n",
    "        # Initialize model state: could be very large neural net weights.\n",
    "        self._msg = msg\n",
    "\n",
    "    def __call__(self, request: Request) -> Dict:\n",
    "        return {'result':self._msg}\n",
    "    \n",
    "app = MyModelDeployment.bind(msg='Hello world!')\n",
    "\n",
    "# 2: Deploy the application locally.\n",
    "serve.run(\n",
    "    app, route_prefix=\"/\"\n",
    ")\n",
    "\n",
    "# 3: Query the application and print the result.\n",
    "print(\n",
    "    requests.get(\"http://localhost:8000/\").json()\n",
    ")\n"
   ]
  },
  {
   "cell_type": "markdown",
   "metadata": {},
   "source": [
    "# Model Composition\n",
    "\n",
    "* Use Serve’s model composition API to combine multiple deployments into a single application."
   ]
  },
  {
   "cell_type": "code",
   "execution_count": 1,
   "metadata": {},
   "outputs": [],
   "source": [
    "import requests\n",
    "import starlette\n",
    "from typing import Dict\n",
    "from ray import serve\n",
    "from ray.serve.handle import DeploymentHandle\n"
   ]
  },
  {
   "cell_type": "code",
   "execution_count": 3,
   "metadata": {},
   "outputs": [
    {
     "name": "stderr",
     "output_type": "stream",
     "text": [
      "INFO 2024-11-12 22:17:44,902 serve 19084 api.py:259 - Connecting to existing Serve app in namespace \"serve\". New http options will not be applied.\n",
      "INFO 2024-11-12 22:17:47,932 serve 19084 client.py:492 - Deployment 'Adder:bfezuj6x' is ready. component=serve deployment=Adder\n",
      "INFO 2024-11-12 22:17:47,933 serve 19084 client.py:492 - Deployment 'Adder_1:3w8ofwz9' is ready. component=serve deployment=Adder_1\n",
      "INFO 2024-11-12 22:17:47,934 serve 19084 client.py:492 - Deployment 'Combiner:77lexfl4' is ready. component=serve deployment=Combiner\n",
      "INFO 2024-11-12 22:17:47,934 serve 19084 client.py:492 - Deployment 'Ingress:9h62rn08' is ready at `http://127.0.0.1:8000/`. component=serve deployment=Ingress\n",
      "INFO 2024-11-12 22:17:47,938 serve 19084 api.py:549 - Deployed app 'default' successfully.\n"
     ]
    },
    {
     "name": "stdout",
     "output_type": "stream",
     "text": [
      "{'result': 101.5}\n"
     ]
    }
   ],
   "source": [
    "# 1. Define the models in our composition graph and an ingress that calls them.\n",
    "@serve.deployment\n",
    "class Adder:\n",
    "    def __init__(self, increment: int):\n",
    "        self.increment = increment\n",
    "\n",
    "    def add(self, inp: int):\n",
    "        return self.increment + inp\n",
    "\n",
    "\n",
    "@serve.deployment\n",
    "class Combiner:\n",
    "    def average(self, *inputs) -> float:\n",
    "        return sum(inputs) / len(inputs)\n",
    "\n",
    "\n",
    "@serve.deployment\n",
    "class Ingress:\n",
    "    def __init__(\n",
    "        self,\n",
    "        adder1: DeploymentHandle,\n",
    "        adder2: DeploymentHandle,\n",
    "        combiner: DeploymentHandle,\n",
    "    ):\n",
    "        self._adder1 = adder1\n",
    "        self._adder2 = adder2\n",
    "        self._combiner = combiner\n",
    "\n",
    "    async def __call__(self, request: starlette.requests.Request) -> Dict[str, float]:\n",
    "        input_json = await request.json()\n",
    "        final_result = await self._combiner.average.remote(\n",
    "            self._adder1.add.remote(input_json[\"val\"]),\n",
    "            self._adder2.add.remote(input_json[\"val\"]),\n",
    "        )\n",
    "        return {\"result\": final_result}\n",
    "\n",
    "\n",
    "# 2. Build the application consisting of the models and ingress.\n",
    "app = Ingress.bind(Adder.bind(increment=1), Adder.bind(increment=2), Combiner.bind())\n",
    "serve.run(app, route_prefix=\"/\")\n",
    "\n",
    "# 3: Query the application and print the result.\n",
    "print(requests.post(\"http://localhost:8000/\", json={\"val\": 100.0}).json())\n",
    "# {\"result\": 101.5}"
   ]
  },
  {
   "cell_type": "markdown",
   "metadata": {},
   "source": [
    "# FastAPI Integration"
   ]
  },
  {
   "cell_type": "code",
   "execution_count": 6,
   "metadata": {},
   "outputs": [
    {
     "name": "stderr",
     "output_type": "stream",
     "text": [
      "INFO 2024-11-12 22:20:19,871 serve 19084 api.py:259 - Connecting to existing Serve app in namespace \"serve\". New http options will not be applied.\n"
     ]
    },
    {
     "name": "stderr",
     "output_type": "stream",
     "text": [
      "INFO 2024-11-12 22:20:23,903 serve 19084 client.py:492 - Deployment 'FastAPIDeployment:0oiif6jq' is ready at `http://127.0.0.1:8000/`. component=serve deployment=FastAPIDeployment\n",
      "INFO 2024-11-12 22:20:23,909 serve 19084 api.py:549 - Deployed app 'default' successfully.\n"
     ]
    },
    {
     "name": "stdout",
     "output_type": "stream",
     "text": [
      "Hello Theodore!\n"
     ]
    }
   ],
   "source": [
    "import requests\n",
    "from fastapi import FastAPI\n",
    "from ray import serve\n",
    "\n",
    "# 1: Define a FastAPI app and wrap it in a deployment with a route handler.\n",
    "app = FastAPI()\n",
    "\n",
    "\n",
    "@serve.deployment\n",
    "@serve.ingress(app)\n",
    "class FastAPIDeployment:\n",
    "    # FastAPI will automatically parse the HTTP request for us.\n",
    "    @app.get(\"/hello\")\n",
    "    def say_hello(self, name: str) -> str:\n",
    "        return f\"Hello {name}!\"\n",
    "\n",
    "\n",
    "# 2: Deploy the deployment.\n",
    "serve.run(FastAPIDeployment.bind(), route_prefix=\"/\")\n",
    "\n",
    "# 3: Query the deployment and print the result.\n",
    "print(requests.get(\"http://localhost:8000/hello\", params={\"name\": \"Theodore\"}).json())\n",
    "# \"Hello Theodore!\""
   ]
  },
  {
   "cell_type": "code",
   "execution_count": null,
   "metadata": {},
   "outputs": [],
   "source": []
  }
 ],
 "metadata": {
  "kernelspec": {
   "display_name": "mle_proj",
   "language": "python",
   "name": "python3"
  },
  "language_info": {
   "codemirror_mode": {
    "name": "ipython",
    "version": 3
   },
   "file_extension": ".py",
   "mimetype": "text/x-python",
   "name": "python",
   "nbconvert_exporter": "python",
   "pygments_lexer": "ipython3",
   "version": "3.12.6"
  }
 },
 "nbformat": 4,
 "nbformat_minor": 2
}
